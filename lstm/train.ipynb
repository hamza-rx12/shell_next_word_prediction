{
 "cells": [
  {
   "cell_type": "markdown",
   "metadata": {},
   "source": [
    "Some libraries to import"
   ]
  },
  {
   "cell_type": "code",
   "execution_count": 1,
   "metadata": {},
   "outputs": [
    {
     "name": "stderr",
     "output_type": "stream",
     "text": [
      "2024-12-24 21:34:45.465411: I tensorflow/core/util/port.cc:153] oneDNN custom operations are on. You may see slightly different numerical results due to floating-point round-off errors from different computation orders. To turn them off, set the environment variable `TF_ENABLE_ONEDNN_OPTS=0`.\n",
      "2024-12-24 21:34:45.475326: E external/local_xla/xla/stream_executor/cuda/cuda_fft.cc:477] Unable to register cuFFT factory: Attempting to register factory for plugin cuFFT when one has already been registered\n",
      "WARNING: All log messages before absl::InitializeLog() is called are written to STDERR\n",
      "E0000 00:00:1735072485.486796   48579 cuda_dnn.cc:8310] Unable to register cuDNN factory: Attempting to register factory for plugin cuDNN when one has already been registered\n",
      "E0000 00:00:1735072485.490394   48579 cuda_blas.cc:1418] Unable to register cuBLAS factory: Attempting to register factory for plugin cuBLAS when one has already been registered\n",
      "2024-12-24 21:34:45.502463: I tensorflow/core/platform/cpu_feature_guard.cc:210] This TensorFlow binary is optimized to use available CPU instructions in performance-critical operations.\n",
      "To enable the following instructions: AVX2 AVX512F AVX512_VNNI FMA, in other operations, rebuild TensorFlow with the appropriate compiler flags.\n"
     ]
    }
   ],
   "source": [
    "import tensorflow as tf\n",
    "from tensorflow.keras.preprocessing.text import Tokenizer\n",
    "from tensorflow.keras.preprocessing.sequence import pad_sequences\n",
    "from tensorflow.keras.models import Sequential\n",
    "from tensorflow.keras.layers import Embedding, LSTM, Dense, Dropout\n",
    "from sklearn.model_selection import train_test_split\n",
    "import numpy as np"
   ]
  },
  {
   "cell_type": "markdown",
   "metadata": {},
   "source": [
    "Choosing to work with the GPU for faster training"
   ]
  },
  {
   "cell_type": "code",
   "execution_count": 2,
   "metadata": {},
   "outputs": [
    {
     "name": "stderr",
     "output_type": "stream",
     "text": [
      "W0000 00:00:1735072487.398241   48579 gpu_device.cc:2344] Cannot dlopen some GPU libraries. Please make sure the missing libraries mentioned above are installed properly if you would like to use GPU. Follow the guide at https://www.tensorflow.org/install/gpu for how to download and setup the required libraries for your platform.\n",
      "Skipping registering GPU devices...\n"
     ]
    }
   ],
   "source": [
    "gpus = tf.config.experimental.list_physical_devices('GPU')\n",
    "if gpus:\n",
    "    try:\n",
    "        tf.config.experimental.set_visible_devices(gpus[0], 'GPU')  # Use only the first GPU\n",
    "    except RuntimeError as e:\n",
    "        print(e)"
   ]
  },
  {
   "cell_type": "markdown",
   "metadata": {},
   "source": [
    "Importing data"
   ]
  },
  {
   "cell_type": "code",
   "execution_count": 3,
   "metadata": {},
   "outputs": [],
   "source": [
    "commands = []\n",
    "\n",
    "with open('data.txt', 'r') as file:\n",
    "    for line in file:\n",
    "      if line:\n",
    "        commands.append(line.strip())\n",
    "\n",
    "# commands"
   ]
  },
  {
   "cell_type": "markdown",
   "metadata": {},
   "source": [
    "Tokenization"
   ]
  },
  {
   "cell_type": "code",
   "execution_count": 4,
   "metadata": {},
   "outputs": [],
   "source": [
    "tokenizer = Tokenizer(filters='')\n",
    "tokenizer.fit_on_texts(commands)"
   ]
  },
  {
   "cell_type": "markdown",
   "metadata": {},
   "source": [
    "Sequencing"
   ]
  },
  {
   "cell_type": "code",
   "execution_count": 5,
   "metadata": {},
   "outputs": [],
   "source": [
    "sequences = tokenizer.texts_to_sequences(commands)\n",
    "word_index = tokenizer.word_index\n",
    "vocab_size = len(word_index) + 1"
   ]
  },
  {
   "cell_type": "markdown",
   "metadata": {},
   "source": [
    "Input Output sequences"
   ]
  },
  {
   "cell_type": "code",
   "execution_count": 6,
   "metadata": {},
   "outputs": [],
   "source": [
    "input_sequences = []\n",
    "target_sequences = []\n",
    "\n",
    "for seq in sequences:\n",
    "    for i in range(1, len(seq)):\n",
    "        input_sequences.append(seq[:i])\n",
    "        target_sequences.append(seq[i])"
   ]
  },
  {
   "cell_type": "markdown",
   "metadata": {},
   "source": [
    "Padding"
   ]
  },
  {
   "cell_type": "code",
   "execution_count": 7,
   "metadata": {},
   "outputs": [],
   "source": [
    "max_seq_len = max(len(seq) for seq in input_sequences)\n",
    "input_sequences = pad_sequences(input_sequences, maxlen=max_seq_len, padding='post')\n",
    "target_sequences = np.array(target_sequences)"
   ]
  },
  {
   "cell_type": "markdown",
   "metadata": {},
   "source": [
    "One-Hot encoding the target"
   ]
  },
  {
   "cell_type": "code",
   "execution_count": 8,
   "metadata": {},
   "outputs": [],
   "source": [
    "# target_sequences = tf.keras.utils.to_categorical(target_sequences, num_classes=vocab_size)"
   ]
  },
  {
   "cell_type": "markdown",
   "metadata": {},
   "source": [
    "Train_text spliting"
   ]
  },
  {
   "cell_type": "code",
   "execution_count": 9,
   "metadata": {},
   "outputs": [],
   "source": [
    "x_train, x_test, y_train, y_test = train_test_split(input_sequences,target_sequences, test_size=0.2)"
   ]
  },
  {
   "cell_type": "markdown",
   "metadata": {},
   "source": [
    "Parameter loading"
   ]
  },
  {
   "cell_type": "code",
   "execution_count": 10,
   "metadata": {},
   "outputs": [
    {
     "data": {
      "text/plain": [
       "'sigmoid'"
      ]
     },
     "execution_count": 10,
     "metadata": {},
     "output_type": "execute_result"
    }
   ],
   "source": [
    "import configparser\n",
    "################\n",
    "# reading \n",
    "################\n",
    "config = configparser.ConfigParser()\n",
    "config.read('best_hyperparameters.ini')\n",
    "\n",
    "# Access hyperparameters\n",
    "embedding_dim = config.getint('Hyperparameters', 'embedding_dim')\n",
    "lstm_units = config.getint('Hyperparameters', 'lstm_units')\n",
    "dropout_rate = config.getfloat('Hyperparameters', 'dropout_rate')\n",
    "learning_rate = config.getfloat('Hyperparameters', 'learning_rate')\n",
    "batch_size = config.getint('Hyperparameters', 'batch_size')\n",
    "top_k = config.getint('Hyperparameters', 'top_k')\n",
    "activation = config.get('Hyperparameters', 'activation')\n",
    "activation"
   ]
  },
  {
   "cell_type": "markdown",
   "metadata": {},
   "source": [
    "Model building"
   ]
  },
  {
   "cell_type": "code",
   "execution_count": 11,
   "metadata": {},
   "outputs": [
    {
     "name": "stderr",
     "output_type": "stream",
     "text": [
      "/home/natsu/Desktop/shell_next_word_prediction/lstm/.lstm/lib/python3.12/site-packages/keras/src/layers/core/embedding.py:90: UserWarning: Argument `input_length` is deprecated. Just remove it.\n",
      "  warnings.warn(\n"
     ]
    },
    {
     "data": {
      "text/html": [
       "<pre style=\"white-space:pre;overflow-x:auto;line-height:normal;font-family:Menlo,'DejaVu Sans Mono',consolas,'Courier New',monospace\"><span style=\"font-weight: bold\">Model: \"sequential\"</span>\n",
       "</pre>\n"
      ],
      "text/plain": [
       "\u001b[1mModel: \"sequential\"\u001b[0m\n"
      ]
     },
     "metadata": {},
     "output_type": "display_data"
    },
    {
     "data": {
      "text/html": [
       "<pre style=\"white-space:pre;overflow-x:auto;line-height:normal;font-family:Menlo,'DejaVu Sans Mono',consolas,'Courier New',monospace\">┏━━━━━━━━━━━━━━━━━━━━━━━━━━━━━━━━━┳━━━━━━━━━━━━━━━━━━━━━━━━┳━━━━━━━━━━━━━━━┓\n",
       "┃<span style=\"font-weight: bold\"> Layer (type)                    </span>┃<span style=\"font-weight: bold\"> Output Shape           </span>┃<span style=\"font-weight: bold\">       Param # </span>┃\n",
       "┡━━━━━━━━━━━━━━━━━━━━━━━━━━━━━━━━━╇━━━━━━━━━━━━━━━━━━━━━━━━╇━━━━━━━━━━━━━━━┩\n",
       "│ embedding (<span style=\"color: #0087ff; text-decoration-color: #0087ff\">Embedding</span>)           │ ?                      │   <span style=\"color: #00af00; text-decoration-color: #00af00\">0</span> (unbuilt) │\n",
       "├─────────────────────────────────┼────────────────────────┼───────────────┤\n",
       "│ lstm (<span style=\"color: #0087ff; text-decoration-color: #0087ff\">LSTM</span>)                     │ ?                      │   <span style=\"color: #00af00; text-decoration-color: #00af00\">0</span> (unbuilt) │\n",
       "├─────────────────────────────────┼────────────────────────┼───────────────┤\n",
       "│ dropout (<span style=\"color: #0087ff; text-decoration-color: #0087ff\">Dropout</span>)               │ ?                      │             <span style=\"color: #00af00; text-decoration-color: #00af00\">0</span> │\n",
       "├─────────────────────────────────┼────────────────────────┼───────────────┤\n",
       "│ dense (<span style=\"color: #0087ff; text-decoration-color: #0087ff\">Dense</span>)                   │ ?                      │   <span style=\"color: #00af00; text-decoration-color: #00af00\">0</span> (unbuilt) │\n",
       "└─────────────────────────────────┴────────────────────────┴───────────────┘\n",
       "</pre>\n"
      ],
      "text/plain": [
       "┏━━━━━━━━━━━━━━━━━━━━━━━━━━━━━━━━━┳━━━━━━━━━━━━━━━━━━━━━━━━┳━━━━━━━━━━━━━━━┓\n",
       "┃\u001b[1m \u001b[0m\u001b[1mLayer (type)                   \u001b[0m\u001b[1m \u001b[0m┃\u001b[1m \u001b[0m\u001b[1mOutput Shape          \u001b[0m\u001b[1m \u001b[0m┃\u001b[1m \u001b[0m\u001b[1m      Param #\u001b[0m\u001b[1m \u001b[0m┃\n",
       "┡━━━━━━━━━━━━━━━━━━━━━━━━━━━━━━━━━╇━━━━━━━━━━━━━━━━━━━━━━━━╇━━━━━━━━━━━━━━━┩\n",
       "│ embedding (\u001b[38;5;33mEmbedding\u001b[0m)           │ ?                      │   \u001b[38;5;34m0\u001b[0m (unbuilt) │\n",
       "├─────────────────────────────────┼────────────────────────┼───────────────┤\n",
       "│ lstm (\u001b[38;5;33mLSTM\u001b[0m)                     │ ?                      │   \u001b[38;5;34m0\u001b[0m (unbuilt) │\n",
       "├─────────────────────────────────┼────────────────────────┼───────────────┤\n",
       "│ dropout (\u001b[38;5;33mDropout\u001b[0m)               │ ?                      │             \u001b[38;5;34m0\u001b[0m │\n",
       "├─────────────────────────────────┼────────────────────────┼───────────────┤\n",
       "│ dense (\u001b[38;5;33mDense\u001b[0m)                   │ ?                      │   \u001b[38;5;34m0\u001b[0m (unbuilt) │\n",
       "└─────────────────────────────────┴────────────────────────┴───────────────┘\n"
      ]
     },
     "metadata": {},
     "output_type": "display_data"
    },
    {
     "data": {
      "text/html": [
       "<pre style=\"white-space:pre;overflow-x:auto;line-height:normal;font-family:Menlo,'DejaVu Sans Mono',consolas,'Courier New',monospace\"><span style=\"font-weight: bold\"> Total params: </span><span style=\"color: #00af00; text-decoration-color: #00af00\">0</span> (0.00 B)\n",
       "</pre>\n"
      ],
      "text/plain": [
       "\u001b[1m Total params: \u001b[0m\u001b[38;5;34m0\u001b[0m (0.00 B)\n"
      ]
     },
     "metadata": {},
     "output_type": "display_data"
    },
    {
     "data": {
      "text/html": [
       "<pre style=\"white-space:pre;overflow-x:auto;line-height:normal;font-family:Menlo,'DejaVu Sans Mono',consolas,'Courier New',monospace\"><span style=\"font-weight: bold\"> Trainable params: </span><span style=\"color: #00af00; text-decoration-color: #00af00\">0</span> (0.00 B)\n",
       "</pre>\n"
      ],
      "text/plain": [
       "\u001b[1m Trainable params: \u001b[0m\u001b[38;5;34m0\u001b[0m (0.00 B)\n"
      ]
     },
     "metadata": {},
     "output_type": "display_data"
    },
    {
     "data": {
      "text/html": [
       "<pre style=\"white-space:pre;overflow-x:auto;line-height:normal;font-family:Menlo,'DejaVu Sans Mono',consolas,'Courier New',monospace\"><span style=\"font-weight: bold\"> Non-trainable params: </span><span style=\"color: #00af00; text-decoration-color: #00af00\">0</span> (0.00 B)\n",
       "</pre>\n"
      ],
      "text/plain": [
       "\u001b[1m Non-trainable params: \u001b[0m\u001b[38;5;34m0\u001b[0m (0.00 B)\n"
      ]
     },
     "metadata": {},
     "output_type": "display_data"
    }
   ],
   "source": [
    "model = Sequential([\n",
    "    Embedding(vocab_size, embedding_dim, input_length=max_seq_len),\n",
    "    LSTM(lstm_units, return_sequences=False),\n",
    "    Dropout(dropout_rate),\n",
    "    Dense(vocab_size, activation=activation)\n",
    "])\n",
    "\n",
    "model.compile(\n",
    "    optimizer=tf.keras.optimizers.Adam(learning_rate=learning_rate), \n",
    "    loss='sparse_categorical_crossentropy', \n",
    "    metrics=[tf.keras.metrics.SparseTopKCategoricalAccuracy(k=top_k)])\n",
    "model.summary()"
   ]
  },
  {
   "cell_type": "markdown",
   "metadata": {},
   "source": [
    "Fitting to data"
   ]
  },
  {
   "cell_type": "code",
   "execution_count": 12,
   "metadata": {},
   "outputs": [
    {
     "name": "stdout",
     "output_type": "stream",
     "text": [
      "Epoch 1/150\n",
      "\u001b[1m128/128\u001b[0m \u001b[32m━━━━━━━━━━━━━━━━━━━━\u001b[0m\u001b[37m\u001b[0m \u001b[1m3s\u001b[0m 12ms/step - loss: 6.5021 - sparse_top_k_categorical_accuracy: 0.1401 - val_loss: 6.0312 - val_sparse_top_k_categorical_accuracy: 0.1762\n",
      "Epoch 2/150\n",
      "\u001b[1m128/128\u001b[0m \u001b[32m━━━━━━━━━━━━━━━━━━━━\u001b[0m\u001b[37m\u001b[0m \u001b[1m2s\u001b[0m 12ms/step - loss: 5.8973 - sparse_top_k_categorical_accuracy: 0.1797 - val_loss: 6.0108 - val_sparse_top_k_categorical_accuracy: 0.1762\n",
      "Epoch 3/150\n",
      "\u001b[1m128/128\u001b[0m \u001b[32m━━━━━━━━━━━━━━━━━━━━\u001b[0m\u001b[37m\u001b[0m \u001b[1m1s\u001b[0m 11ms/step - loss: 5.7397 - sparse_top_k_categorical_accuracy: 0.1819 - val_loss: 5.4442 - val_sparse_top_k_categorical_accuracy: 0.2409\n",
      "Epoch 4/150\n",
      "\u001b[1m128/128\u001b[0m \u001b[32m━━━━━━━━━━━━━━━━━━━━\u001b[0m\u001b[37m\u001b[0m \u001b[1m1s\u001b[0m 11ms/step - loss: 5.1919 - sparse_top_k_categorical_accuracy: 0.2570 - val_loss: 5.1064 - val_sparse_top_k_categorical_accuracy: 0.2615\n",
      "Epoch 5/150\n",
      "\u001b[1m128/128\u001b[0m \u001b[32m━━━━━━━━━━━━━━━━━━━━\u001b[0m\u001b[37m\u001b[0m \u001b[1m1s\u001b[0m 11ms/step - loss: 4.8236 - sparse_top_k_categorical_accuracy: 0.2892 - val_loss: 4.8302 - val_sparse_top_k_categorical_accuracy: 0.3302\n",
      "Epoch 6/150\n",
      "\u001b[1m128/128\u001b[0m \u001b[32m━━━━━━━━━━━━━━━━━━━━\u001b[0m\u001b[37m\u001b[0m \u001b[1m1s\u001b[0m 11ms/step - loss: 4.5584 - sparse_top_k_categorical_accuracy: 0.3355 - val_loss: 4.5908 - val_sparse_top_k_categorical_accuracy: 0.3651\n",
      "Epoch 7/150\n",
      "\u001b[1m128/128\u001b[0m \u001b[32m━━━━━━━━━━━━━━━━━━━━\u001b[0m\u001b[37m\u001b[0m \u001b[1m1s\u001b[0m 11ms/step - loss: 4.2786 - sparse_top_k_categorical_accuracy: 0.3792 - val_loss: 4.4683 - val_sparse_top_k_categorical_accuracy: 0.3724\n",
      "Epoch 8/150\n",
      "\u001b[1m128/128\u001b[0m \u001b[32m━━━━━━━━━━━━━━━━━━━━\u001b[0m\u001b[37m\u001b[0m \u001b[1m1s\u001b[0m 11ms/step - loss: 4.1871 - sparse_top_k_categorical_accuracy: 0.3639 - val_loss: 4.3591 - val_sparse_top_k_categorical_accuracy: 0.3906\n",
      "Epoch 9/150\n",
      "\u001b[1m128/128\u001b[0m \u001b[32m━━━━━━━━━━━━━━━━━━━━\u001b[0m\u001b[37m\u001b[0m \u001b[1m1s\u001b[0m 11ms/step - loss: 4.0349 - sparse_top_k_categorical_accuracy: 0.4124 - val_loss: 4.2674 - val_sparse_top_k_categorical_accuracy: 0.4053\n",
      "Epoch 10/150\n",
      "\u001b[1m128/128\u001b[0m \u001b[32m━━━━━━━━━━━━━━━━━━━━\u001b[0m\u001b[37m\u001b[0m \u001b[1m1s\u001b[0m 11ms/step - loss: 3.9166 - sparse_top_k_categorical_accuracy: 0.4301 - val_loss: 4.1314 - val_sparse_top_k_categorical_accuracy: 0.4372\n",
      "Epoch 11/150\n",
      "\u001b[1m128/128\u001b[0m \u001b[32m━━━━━━━━━━━━━━━━━━━━\u001b[0m\u001b[37m\u001b[0m \u001b[1m1s\u001b[0m 11ms/step - loss: 3.8539 - sparse_top_k_categorical_accuracy: 0.4253 - val_loss: 4.0410 - val_sparse_top_k_categorical_accuracy: 0.4431\n",
      "Epoch 12/150\n",
      "\u001b[1m128/128\u001b[0m \u001b[32m━━━━━━━━━━━━━━━━━━━━\u001b[0m\u001b[37m\u001b[0m \u001b[1m1s\u001b[0m 11ms/step - loss: 3.6872 - sparse_top_k_categorical_accuracy: 0.4496 - val_loss: 3.9388 - val_sparse_top_k_categorical_accuracy: 0.4573\n",
      "Epoch 13/150\n",
      "\u001b[1m128/128\u001b[0m \u001b[32m━━━━━━━━━━━━━━━━━━━━\u001b[0m\u001b[37m\u001b[0m \u001b[1m1s\u001b[0m 11ms/step - loss: 3.5733 - sparse_top_k_categorical_accuracy: 0.4757 - val_loss: 3.8724 - val_sparse_top_k_categorical_accuracy: 0.4578\n",
      "Epoch 14/150\n",
      "\u001b[1m128/128\u001b[0m \u001b[32m━━━━━━━━━━━━━━━━━━━━\u001b[0m\u001b[37m\u001b[0m \u001b[1m1s\u001b[0m 11ms/step - loss: 3.5714 - sparse_top_k_categorical_accuracy: 0.4586 - val_loss: 3.8445 - val_sparse_top_k_categorical_accuracy: 0.4647\n",
      "Epoch 15/150\n",
      "\u001b[1m128/128\u001b[0m \u001b[32m━━━━━━━━━━━━━━━━━━━━\u001b[0m\u001b[37m\u001b[0m \u001b[1m1s\u001b[0m 11ms/step - loss: 3.4867 - sparse_top_k_categorical_accuracy: 0.4799 - val_loss: 3.7126 - val_sparse_top_k_categorical_accuracy: 0.4946\n",
      "Epoch 16/150\n",
      "\u001b[1m128/128\u001b[0m \u001b[32m━━━━━━━━━━━━━━━━━━━━\u001b[0m\u001b[37m\u001b[0m \u001b[1m1s\u001b[0m 12ms/step - loss: 3.3354 - sparse_top_k_categorical_accuracy: 0.5137 - val_loss: 3.6250 - val_sparse_top_k_categorical_accuracy: 0.5108\n",
      "Epoch 17/150\n",
      "\u001b[1m128/128\u001b[0m \u001b[32m━━━━━━━━━━━━━━━━━━━━\u001b[0m\u001b[37m\u001b[0m \u001b[1m1s\u001b[0m 11ms/step - loss: 3.2975 - sparse_top_k_categorical_accuracy: 0.5208 - val_loss: 3.5855 - val_sparse_top_k_categorical_accuracy: 0.5226\n",
      "Epoch 18/150\n",
      "\u001b[1m128/128\u001b[0m \u001b[32m━━━━━━━━━━━━━━━━━━━━\u001b[0m\u001b[37m\u001b[0m \u001b[1m1s\u001b[0m 11ms/step - loss: 3.2325 - sparse_top_k_categorical_accuracy: 0.5379 - val_loss: 3.5221 - val_sparse_top_k_categorical_accuracy: 0.5245\n",
      "Epoch 19/150\n",
      "\u001b[1m128/128\u001b[0m \u001b[32m━━━━━━━━━━━━━━━━━━━━\u001b[0m\u001b[37m\u001b[0m \u001b[1m1s\u001b[0m 11ms/step - loss: 3.2136 - sparse_top_k_categorical_accuracy: 0.5434 - val_loss: 3.5304 - val_sparse_top_k_categorical_accuracy: 0.5339\n",
      "Epoch 20/150\n",
      "\u001b[1m128/128\u001b[0m \u001b[32m━━━━━━━━━━━━━━━━━━━━\u001b[0m\u001b[37m\u001b[0m \u001b[1m1s\u001b[0m 11ms/step - loss: 3.1765 - sparse_top_k_categorical_accuracy: 0.5404 - val_loss: 3.4822 - val_sparse_top_k_categorical_accuracy: 0.5319\n",
      "Epoch 21/150\n",
      "\u001b[1m128/128\u001b[0m \u001b[32m━━━━━━━━━━━━━━━━━━━━\u001b[0m\u001b[37m\u001b[0m \u001b[1m1s\u001b[0m 11ms/step - loss: 3.0738 - sparse_top_k_categorical_accuracy: 0.5657 - val_loss: 3.4114 - val_sparse_top_k_categorical_accuracy: 0.5579\n",
      "Epoch 22/150\n",
      "\u001b[1m128/128\u001b[0m \u001b[32m━━━━━━━━━━━━━━━━━━━━\u001b[0m\u001b[37m\u001b[0m \u001b[1m2s\u001b[0m 12ms/step - loss: 3.0350 - sparse_top_k_categorical_accuracy: 0.5686 - val_loss: 3.3479 - val_sparse_top_k_categorical_accuracy: 0.5574\n",
      "Epoch 23/150\n",
      "\u001b[1m128/128\u001b[0m \u001b[32m━━━━━━━━━━━━━━━━━━━━\u001b[0m\u001b[37m\u001b[0m \u001b[1m2s\u001b[0m 12ms/step - loss: 2.9628 - sparse_top_k_categorical_accuracy: 0.5945 - val_loss: 3.3181 - val_sparse_top_k_categorical_accuracy: 0.5716\n",
      "Epoch 24/150\n",
      "\u001b[1m128/128\u001b[0m \u001b[32m━━━━━━━━━━━━━━━━━━━━\u001b[0m\u001b[37m\u001b[0m \u001b[1m2s\u001b[0m 13ms/step - loss: 2.9531 - sparse_top_k_categorical_accuracy: 0.5877 - val_loss: 3.3446 - val_sparse_top_k_categorical_accuracy: 0.5574\n",
      "Epoch 25/150\n",
      "\u001b[1m128/128\u001b[0m \u001b[32m━━━━━━━━━━━━━━━━━━━━\u001b[0m\u001b[37m\u001b[0m \u001b[1m2s\u001b[0m 13ms/step - loss: 2.9004 - sparse_top_k_categorical_accuracy: 0.6014 - val_loss: 3.2459 - val_sparse_top_k_categorical_accuracy: 0.5898\n",
      "Epoch 26/150\n",
      "\u001b[1m128/128\u001b[0m \u001b[32m━━━━━━━━━━━━━━━━━━━━\u001b[0m\u001b[37m\u001b[0m \u001b[1m2s\u001b[0m 13ms/step - loss: 2.8340 - sparse_top_k_categorical_accuracy: 0.6106 - val_loss: 3.2885 - val_sparse_top_k_categorical_accuracy: 0.5692\n",
      "Epoch 27/150\n",
      "\u001b[1m128/128\u001b[0m \u001b[32m━━━━━━━━━━━━━━━━━━━━\u001b[0m\u001b[37m\u001b[0m \u001b[1m2s\u001b[0m 13ms/step - loss: 2.7740 - sparse_top_k_categorical_accuracy: 0.6193 - val_loss: 3.1678 - val_sparse_top_k_categorical_accuracy: 0.6055\n",
      "Epoch 28/150\n",
      "\u001b[1m128/128\u001b[0m \u001b[32m━━━━━━━━━━━━━━━━━━━━\u001b[0m\u001b[37m\u001b[0m \u001b[1m2s\u001b[0m 12ms/step - loss: 2.7750 - sparse_top_k_categorical_accuracy: 0.6286 - val_loss: 3.1480 - val_sparse_top_k_categorical_accuracy: 0.6084\n",
      "Epoch 29/150\n",
      "\u001b[1m128/128\u001b[0m \u001b[32m━━━━━━━━━━━━━━━━━━━━\u001b[0m\u001b[37m\u001b[0m \u001b[1m2s\u001b[0m 12ms/step - loss: 2.8060 - sparse_top_k_categorical_accuracy: 0.6138 - val_loss: 3.2496 - val_sparse_top_k_categorical_accuracy: 0.5844\n",
      "Epoch 30/150\n",
      "\u001b[1m128/128\u001b[0m \u001b[32m━━━━━━━━━━━━━━━━━━━━\u001b[0m\u001b[37m\u001b[0m \u001b[1m2s\u001b[0m 12ms/step - loss: 2.8419 - sparse_top_k_categorical_accuracy: 0.6128 - val_loss: 3.1441 - val_sparse_top_k_categorical_accuracy: 0.6030\n",
      "Epoch 31/150\n",
      "\u001b[1m128/128\u001b[0m \u001b[32m━━━━━━━━━━━━━━━━━━━━\u001b[0m\u001b[37m\u001b[0m \u001b[1m2s\u001b[0m 13ms/step - loss: 2.7254 - sparse_top_k_categorical_accuracy: 0.6392 - val_loss: 3.0640 - val_sparse_top_k_categorical_accuracy: 0.6148\n",
      "Epoch 32/150\n",
      "\u001b[1m128/128\u001b[0m \u001b[32m━━━━━━━━━━━━━━━━━━━━\u001b[0m\u001b[37m\u001b[0m \u001b[1m2s\u001b[0m 12ms/step - loss: 2.6065 - sparse_top_k_categorical_accuracy: 0.6572 - val_loss: 3.0305 - val_sparse_top_k_categorical_accuracy: 0.6261\n",
      "Epoch 33/150\n",
      "\u001b[1m128/128\u001b[0m \u001b[32m━━━━━━━━━━━━━━━━━━━━\u001b[0m\u001b[37m\u001b[0m \u001b[1m2s\u001b[0m 12ms/step - loss: 2.5775 - sparse_top_k_categorical_accuracy: 0.6576 - val_loss: 3.0059 - val_sparse_top_k_categorical_accuracy: 0.6335\n",
      "Epoch 34/150\n",
      "\u001b[1m128/128\u001b[0m \u001b[32m━━━━━━━━━━━━━━━━━━━━\u001b[0m\u001b[37m\u001b[0m \u001b[1m2s\u001b[0m 13ms/step - loss: 2.5995 - sparse_top_k_categorical_accuracy: 0.6523 - val_loss: 2.9806 - val_sparse_top_k_categorical_accuracy: 0.6330\n",
      "Epoch 35/150\n",
      "\u001b[1m128/128\u001b[0m \u001b[32m━━━━━━━━━━━━━━━━━━━━\u001b[0m\u001b[37m\u001b[0m \u001b[1m2s\u001b[0m 13ms/step - loss: 2.5353 - sparse_top_k_categorical_accuracy: 0.6649 - val_loss: 2.9429 - val_sparse_top_k_categorical_accuracy: 0.6433\n",
      "Epoch 36/150\n",
      "\u001b[1m128/128\u001b[0m \u001b[32m━━━━━━━━━━━━━━━━━━━━\u001b[0m\u001b[37m\u001b[0m \u001b[1m2s\u001b[0m 13ms/step - loss: 2.5084 - sparse_top_k_categorical_accuracy: 0.6730 - val_loss: 2.9304 - val_sparse_top_k_categorical_accuracy: 0.6413\n",
      "Epoch 37/150\n",
      "\u001b[1m128/128\u001b[0m \u001b[32m━━━━━━━━━━━━━━━━━━━━\u001b[0m\u001b[37m\u001b[0m \u001b[1m2s\u001b[0m 12ms/step - loss: 2.4167 - sparse_top_k_categorical_accuracy: 0.6866 - val_loss: 2.9241 - val_sparse_top_k_categorical_accuracy: 0.6452\n",
      "Epoch 38/150\n",
      "\u001b[1m128/128\u001b[0m \u001b[32m━━━━━━━━━━━━━━━━━━━━\u001b[0m\u001b[37m\u001b[0m \u001b[1m2s\u001b[0m 12ms/step - loss: 2.4518 - sparse_top_k_categorical_accuracy: 0.6819 - val_loss: 2.8833 - val_sparse_top_k_categorical_accuracy: 0.6570\n",
      "Epoch 39/150\n",
      "\u001b[1m128/128\u001b[0m \u001b[32m━━━━━━━━━━━━━━━━━━━━\u001b[0m\u001b[37m\u001b[0m \u001b[1m2s\u001b[0m 13ms/step - loss: 2.5081 - sparse_top_k_categorical_accuracy: 0.6704 - val_loss: 2.8378 - val_sparse_top_k_categorical_accuracy: 0.6580\n",
      "Epoch 40/150\n",
      "\u001b[1m128/128\u001b[0m \u001b[32m━━━━━━━━━━━━━━━━━━━━\u001b[0m\u001b[37m\u001b[0m \u001b[1m2s\u001b[0m 13ms/step - loss: 2.3339 - sparse_top_k_categorical_accuracy: 0.7096 - val_loss: 2.8220 - val_sparse_top_k_categorical_accuracy: 0.6712\n",
      "Epoch 41/150\n",
      "\u001b[1m128/128\u001b[0m \u001b[32m━━━━━━━━━━━━━━━━━━━━\u001b[0m\u001b[37m\u001b[0m \u001b[1m2s\u001b[0m 12ms/step - loss: 2.3216 - sparse_top_k_categorical_accuracy: 0.7105 - val_loss: 2.8055 - val_sparse_top_k_categorical_accuracy: 0.6673\n",
      "Epoch 42/150\n",
      "\u001b[1m128/128\u001b[0m \u001b[32m━━━━━━━━━━━━━━━━━━━━\u001b[0m\u001b[37m\u001b[0m \u001b[1m2s\u001b[0m 12ms/step - loss: 2.2835 - sparse_top_k_categorical_accuracy: 0.7178 - val_loss: 2.8334 - val_sparse_top_k_categorical_accuracy: 0.6654\n",
      "Epoch 43/150\n",
      "\u001b[1m128/128\u001b[0m \u001b[32m━━━━━━━━━━━━━━━━━━━━\u001b[0m\u001b[37m\u001b[0m \u001b[1m2s\u001b[0m 12ms/step - loss: 2.3001 - sparse_top_k_categorical_accuracy: 0.7138 - val_loss: 2.7572 - val_sparse_top_k_categorical_accuracy: 0.6825\n",
      "Epoch 44/150\n",
      "\u001b[1m128/128\u001b[0m \u001b[32m━━━━━━━━━━━━━━━━━━━━\u001b[0m\u001b[37m\u001b[0m \u001b[1m2s\u001b[0m 12ms/step - loss: 2.2510 - sparse_top_k_categorical_accuracy: 0.7228 - val_loss: 2.7569 - val_sparse_top_k_categorical_accuracy: 0.6835\n",
      "Epoch 45/150\n",
      "\u001b[1m128/128\u001b[0m \u001b[32m━━━━━━━━━━━━━━━━━━━━\u001b[0m\u001b[37m\u001b[0m \u001b[1m2s\u001b[0m 13ms/step - loss: 2.2690 - sparse_top_k_categorical_accuracy: 0.7196 - val_loss: 2.7653 - val_sparse_top_k_categorical_accuracy: 0.6786\n",
      "Epoch 46/150\n",
      "\u001b[1m128/128\u001b[0m \u001b[32m━━━━━━━━━━━━━━━━━━━━\u001b[0m\u001b[37m\u001b[0m \u001b[1m2s\u001b[0m 12ms/step - loss: 2.2699 - sparse_top_k_categorical_accuracy: 0.7130 - val_loss: 2.7287 - val_sparse_top_k_categorical_accuracy: 0.6874\n",
      "Epoch 47/150\n",
      "\u001b[1m128/128\u001b[0m \u001b[32m━━━━━━━━━━━━━━━━━━━━\u001b[0m\u001b[37m\u001b[0m \u001b[1m2s\u001b[0m 13ms/step - loss: 2.1995 - sparse_top_k_categorical_accuracy: 0.7235 - val_loss: 2.6868 - val_sparse_top_k_categorical_accuracy: 0.6997\n",
      "Epoch 48/150\n",
      "\u001b[1m128/128\u001b[0m \u001b[32m━━━━━━━━━━━━━━━━━━━━\u001b[0m\u001b[37m\u001b[0m \u001b[1m2s\u001b[0m 12ms/step - loss: 2.1979 - sparse_top_k_categorical_accuracy: 0.7311 - val_loss: 2.6897 - val_sparse_top_k_categorical_accuracy: 0.7026\n",
      "Epoch 49/150\n",
      "\u001b[1m128/128\u001b[0m \u001b[32m━━━━━━━━━━━━━━━━━━━━\u001b[0m\u001b[37m\u001b[0m \u001b[1m2s\u001b[0m 12ms/step - loss: 2.1622 - sparse_top_k_categorical_accuracy: 0.7389 - val_loss: 2.6934 - val_sparse_top_k_categorical_accuracy: 0.6874\n",
      "Epoch 50/150\n",
      "\u001b[1m128/128\u001b[0m \u001b[32m━━━━━━━━━━━━━━━━━━━━\u001b[0m\u001b[37m\u001b[0m \u001b[1m2s\u001b[0m 12ms/step - loss: 2.1668 - sparse_top_k_categorical_accuracy: 0.7373 - val_loss: 2.6418 - val_sparse_top_k_categorical_accuracy: 0.7036\n",
      "Epoch 51/150\n",
      "\u001b[1m128/128\u001b[0m \u001b[32m━━━━━━━━━━━━━━━━━━━━\u001b[0m\u001b[37m\u001b[0m \u001b[1m2s\u001b[0m 13ms/step - loss: 2.1317 - sparse_top_k_categorical_accuracy: 0.7424 - val_loss: 2.6263 - val_sparse_top_k_categorical_accuracy: 0.7115\n",
      "Epoch 52/150\n",
      "\u001b[1m128/128\u001b[0m \u001b[32m━━━━━━━━━━━━━━━━━━━━\u001b[0m\u001b[37m\u001b[0m \u001b[1m2s\u001b[0m 12ms/step - loss: 2.0726 - sparse_top_k_categorical_accuracy: 0.7509 - val_loss: 2.5975 - val_sparse_top_k_categorical_accuracy: 0.7144\n",
      "Epoch 53/150\n",
      "\u001b[1m128/128\u001b[0m \u001b[32m━━━━━━━━━━━━━━━━━━━━\u001b[0m\u001b[37m\u001b[0m \u001b[1m2s\u001b[0m 13ms/step - loss: 2.0433 - sparse_top_k_categorical_accuracy: 0.7589 - val_loss: 2.5917 - val_sparse_top_k_categorical_accuracy: 0.7110\n",
      "Epoch 54/150\n",
      "\u001b[1m128/128\u001b[0m \u001b[32m━━━━━━━━━━━━━━━━━━━━\u001b[0m\u001b[37m\u001b[0m \u001b[1m2s\u001b[0m 12ms/step - loss: 2.0172 - sparse_top_k_categorical_accuracy: 0.7598 - val_loss: 2.5697 - val_sparse_top_k_categorical_accuracy: 0.7184\n",
      "Epoch 55/150\n",
      "\u001b[1m128/128\u001b[0m \u001b[32m━━━━━━━━━━━━━━━━━━━━\u001b[0m\u001b[37m\u001b[0m \u001b[1m2s\u001b[0m 13ms/step - loss: 2.0251 - sparse_top_k_categorical_accuracy: 0.7592 - val_loss: 2.5768 - val_sparse_top_k_categorical_accuracy: 0.7115\n",
      "Epoch 56/150\n",
      "\u001b[1m128/128\u001b[0m \u001b[32m━━━━━━━━━━━━━━━━━━━━\u001b[0m\u001b[37m\u001b[0m \u001b[1m2s\u001b[0m 12ms/step - loss: 2.0088 - sparse_top_k_categorical_accuracy: 0.7670 - val_loss: 2.5918 - val_sparse_top_k_categorical_accuracy: 0.7208\n",
      "Epoch 57/150\n",
      "\u001b[1m128/128\u001b[0m \u001b[32m━━━━━━━━━━━━━━━━━━━━\u001b[0m\u001b[37m\u001b[0m \u001b[1m2s\u001b[0m 13ms/step - loss: 2.0203 - sparse_top_k_categorical_accuracy: 0.7588 - val_loss: 2.5656 - val_sparse_top_k_categorical_accuracy: 0.7237\n",
      "Epoch 58/150\n",
      "\u001b[1m128/128\u001b[0m \u001b[32m━━━━━━━━━━━━━━━━━━━━\u001b[0m\u001b[37m\u001b[0m \u001b[1m2s\u001b[0m 12ms/step - loss: 2.0320 - sparse_top_k_categorical_accuracy: 0.7561 - val_loss: 2.5501 - val_sparse_top_k_categorical_accuracy: 0.7223\n",
      "Epoch 59/150\n",
      "\u001b[1m128/128\u001b[0m \u001b[32m━━━━━━━━━━━━━━━━━━━━\u001b[0m\u001b[37m\u001b[0m \u001b[1m2s\u001b[0m 12ms/step - loss: 1.9727 - sparse_top_k_categorical_accuracy: 0.7691 - val_loss: 2.5231 - val_sparse_top_k_categorical_accuracy: 0.7252\n",
      "Epoch 60/150\n",
      "\u001b[1m128/128\u001b[0m \u001b[32m━━━━━━━━━━━━━━━━━━━━\u001b[0m\u001b[37m\u001b[0m \u001b[1m2s\u001b[0m 12ms/step - loss: 1.9564 - sparse_top_k_categorical_accuracy: 0.7694 - val_loss: 2.5179 - val_sparse_top_k_categorical_accuracy: 0.7306\n",
      "Epoch 61/150\n",
      "\u001b[1m128/128\u001b[0m \u001b[32m━━━━━━━━━━━━━━━━━━━━\u001b[0m\u001b[37m\u001b[0m \u001b[1m2s\u001b[0m 12ms/step - loss: 1.9403 - sparse_top_k_categorical_accuracy: 0.7745 - val_loss: 2.4985 - val_sparse_top_k_categorical_accuracy: 0.7262\n",
      "Epoch 62/150\n",
      "\u001b[1m128/128\u001b[0m \u001b[32m━━━━━━━━━━━━━━━━━━━━\u001b[0m\u001b[37m\u001b[0m \u001b[1m2s\u001b[0m 12ms/step - loss: 1.9179 - sparse_top_k_categorical_accuracy: 0.7754 - val_loss: 2.4877 - val_sparse_top_k_categorical_accuracy: 0.7326\n",
      "Epoch 63/150\n",
      "\u001b[1m128/128\u001b[0m \u001b[32m━━━━━━━━━━━━━━━━━━━━\u001b[0m\u001b[37m\u001b[0m \u001b[1m2s\u001b[0m 12ms/step - loss: 1.9337 - sparse_top_k_categorical_accuracy: 0.7690 - val_loss: 2.4909 - val_sparse_top_k_categorical_accuracy: 0.7370\n",
      "Epoch 64/150\n",
      "\u001b[1m128/128\u001b[0m \u001b[32m━━━━━━━━━━━━━━━━━━━━\u001b[0m\u001b[37m\u001b[0m \u001b[1m2s\u001b[0m 12ms/step - loss: 1.9344 - sparse_top_k_categorical_accuracy: 0.7733 - val_loss: 2.5093 - val_sparse_top_k_categorical_accuracy: 0.7341\n",
      "Epoch 65/150\n",
      "\u001b[1m128/128\u001b[0m \u001b[32m━━━━━━━━━━━━━━━━━━━━\u001b[0m\u001b[37m\u001b[0m \u001b[1m2s\u001b[0m 13ms/step - loss: 1.9003 - sparse_top_k_categorical_accuracy: 0.7768 - val_loss: 2.4551 - val_sparse_top_k_categorical_accuracy: 0.7385\n",
      "Epoch 66/150\n",
      "\u001b[1m128/128\u001b[0m \u001b[32m━━━━━━━━━━━━━━━━━━━━\u001b[0m\u001b[37m\u001b[0m \u001b[1m2s\u001b[0m 12ms/step - loss: 1.9125 - sparse_top_k_categorical_accuracy: 0.7703 - val_loss: 2.4280 - val_sparse_top_k_categorical_accuracy: 0.7468\n",
      "Epoch 67/150\n",
      "\u001b[1m128/128\u001b[0m \u001b[32m━━━━━━━━━━━━━━━━━━━━\u001b[0m\u001b[37m\u001b[0m \u001b[1m2s\u001b[0m 12ms/step - loss: 1.8757 - sparse_top_k_categorical_accuracy: 0.7812 - val_loss: 2.4387 - val_sparse_top_k_categorical_accuracy: 0.7409\n",
      "Epoch 68/150\n",
      "\u001b[1m128/128\u001b[0m \u001b[32m━━━━━━━━━━━━━━━━━━━━\u001b[0m\u001b[37m\u001b[0m \u001b[1m2s\u001b[0m 13ms/step - loss: 1.9485 - sparse_top_k_categorical_accuracy: 0.7658 - val_loss: 2.4560 - val_sparse_top_k_categorical_accuracy: 0.7399\n",
      "Epoch 69/150\n",
      "\u001b[1m128/128\u001b[0m \u001b[32m━━━━━━━━━━━━━━━━━━━━\u001b[0m\u001b[37m\u001b[0m \u001b[1m2s\u001b[0m 12ms/step - loss: 1.8620 - sparse_top_k_categorical_accuracy: 0.7818 - val_loss: 2.4118 - val_sparse_top_k_categorical_accuracy: 0.7458\n",
      "Epoch 70/150\n",
      "\u001b[1m128/128\u001b[0m \u001b[32m━━━━━━━━━━━━━━━━━━━━\u001b[0m\u001b[37m\u001b[0m \u001b[1m2s\u001b[0m 12ms/step - loss: 1.8351 - sparse_top_k_categorical_accuracy: 0.7828 - val_loss: 2.4146 - val_sparse_top_k_categorical_accuracy: 0.7478\n",
      "Epoch 71/150\n",
      "\u001b[1m128/128\u001b[0m \u001b[32m━━━━━━━━━━━━━━━━━━━━\u001b[0m\u001b[37m\u001b[0m \u001b[1m2s\u001b[0m 13ms/step - loss: 1.8481 - sparse_top_k_categorical_accuracy: 0.7837 - val_loss: 2.4146 - val_sparse_top_k_categorical_accuracy: 0.7507\n",
      "Epoch 72/150\n",
      "\u001b[1m128/128\u001b[0m \u001b[32m━━━━━━━━━━━━━━━━━━━━\u001b[0m\u001b[37m\u001b[0m \u001b[1m2s\u001b[0m 12ms/step - loss: 1.8033 - sparse_top_k_categorical_accuracy: 0.7890 - val_loss: 2.3878 - val_sparse_top_k_categorical_accuracy: 0.7542\n",
      "Epoch 73/150\n",
      "\u001b[1m128/128\u001b[0m \u001b[32m━━━━━━━━━━━━━━━━━━━━\u001b[0m\u001b[37m\u001b[0m \u001b[1m2s\u001b[0m 12ms/step - loss: 1.7951 - sparse_top_k_categorical_accuracy: 0.7880 - val_loss: 2.4105 - val_sparse_top_k_categorical_accuracy: 0.7463\n",
      "Epoch 74/150\n",
      "\u001b[1m128/128\u001b[0m \u001b[32m━━━━━━━━━━━━━━━━━━━━\u001b[0m\u001b[37m\u001b[0m \u001b[1m2s\u001b[0m 13ms/step - loss: 1.8224 - sparse_top_k_categorical_accuracy: 0.7882 - val_loss: 2.3649 - val_sparse_top_k_categorical_accuracy: 0.7576\n",
      "Epoch 75/150\n",
      "\u001b[1m128/128\u001b[0m \u001b[32m━━━━━━━━━━━━━━━━━━━━\u001b[0m\u001b[37m\u001b[0m \u001b[1m2s\u001b[0m 12ms/step - loss: 1.7640 - sparse_top_k_categorical_accuracy: 0.7943 - val_loss: 2.3735 - val_sparse_top_k_categorical_accuracy: 0.7556\n",
      "Epoch 76/150\n",
      "\u001b[1m128/128\u001b[0m \u001b[32m━━━━━━━━━━━━━━━━━━━━\u001b[0m\u001b[37m\u001b[0m \u001b[1m2s\u001b[0m 12ms/step - loss: 1.7741 - sparse_top_k_categorical_accuracy: 0.7929 - val_loss: 2.3969 - val_sparse_top_k_categorical_accuracy: 0.7522\n",
      "Epoch 77/150\n",
      "\u001b[1m128/128\u001b[0m \u001b[32m━━━━━━━━━━━━━━━━━━━━\u001b[0m\u001b[37m\u001b[0m \u001b[1m2s\u001b[0m 12ms/step - loss: 1.8439 - sparse_top_k_categorical_accuracy: 0.7811 - val_loss: 2.3905 - val_sparse_top_k_categorical_accuracy: 0.7537\n",
      "Epoch 78/150\n",
      "\u001b[1m128/128\u001b[0m \u001b[32m━━━━━━━━━━━━━━━━━━━━\u001b[0m\u001b[37m\u001b[0m \u001b[1m2s\u001b[0m 13ms/step - loss: 1.7800 - sparse_top_k_categorical_accuracy: 0.7881 - val_loss: 2.3618 - val_sparse_top_k_categorical_accuracy: 0.7615\n",
      "Epoch 79/150\n",
      "\u001b[1m128/128\u001b[0m \u001b[32m━━━━━━━━━━━━━━━━━━━━\u001b[0m\u001b[37m\u001b[0m \u001b[1m2s\u001b[0m 12ms/step - loss: 1.7702 - sparse_top_k_categorical_accuracy: 0.7906 - val_loss: 2.3587 - val_sparse_top_k_categorical_accuracy: 0.7507\n",
      "Epoch 80/150\n",
      "\u001b[1m128/128\u001b[0m \u001b[32m━━━━━━━━━━━━━━━━━━━━\u001b[0m\u001b[37m\u001b[0m \u001b[1m2s\u001b[0m 13ms/step - loss: 1.7296 - sparse_top_k_categorical_accuracy: 0.7997 - val_loss: 2.4173 - val_sparse_top_k_categorical_accuracy: 0.7542\n",
      "Epoch 81/150\n",
      "\u001b[1m128/128\u001b[0m \u001b[32m━━━━━━━━━━━━━━━━━━━━\u001b[0m\u001b[37m\u001b[0m \u001b[1m2s\u001b[0m 12ms/step - loss: 1.8355 - sparse_top_k_categorical_accuracy: 0.7919 - val_loss: 2.3499 - val_sparse_top_k_categorical_accuracy: 0.7561\n",
      "Epoch 82/150\n",
      "\u001b[1m128/128\u001b[0m \u001b[32m━━━━━━━━━━━━━━━━━━━━\u001b[0m\u001b[37m\u001b[0m \u001b[1m2s\u001b[0m 12ms/step - loss: 1.7278 - sparse_top_k_categorical_accuracy: 0.8019 - val_loss: 2.5112 - val_sparse_top_k_categorical_accuracy: 0.7355\n",
      "Epoch 83/150\n",
      "\u001b[1m128/128\u001b[0m \u001b[32m━━━━━━━━━━━━━━━━━━━━\u001b[0m\u001b[37m\u001b[0m \u001b[1m2s\u001b[0m 13ms/step - loss: 1.7728 - sparse_top_k_categorical_accuracy: 0.7886 - val_loss: 2.3511 - val_sparse_top_k_categorical_accuracy: 0.7605\n",
      "Epoch 84/150\n",
      "\u001b[1m128/128\u001b[0m \u001b[32m━━━━━━━━━━━━━━━━━━━━\u001b[0m\u001b[37m\u001b[0m \u001b[1m2s\u001b[0m 12ms/step - loss: 1.7382 - sparse_top_k_categorical_accuracy: 0.7988 - val_loss: 2.3170 - val_sparse_top_k_categorical_accuracy: 0.7650\n",
      "Epoch 85/150\n",
      "\u001b[1m128/128\u001b[0m \u001b[32m━━━━━━━━━━━━━━━━━━━━\u001b[0m\u001b[37m\u001b[0m \u001b[1m2s\u001b[0m 12ms/step - loss: 1.7321 - sparse_top_k_categorical_accuracy: 0.7973 - val_loss: 2.3429 - val_sparse_top_k_categorical_accuracy: 0.7650\n",
      "Epoch 86/150\n",
      "\u001b[1m128/128\u001b[0m \u001b[32m━━━━━━━━━━━━━━━━━━━━\u001b[0m\u001b[37m\u001b[0m \u001b[1m2s\u001b[0m 13ms/step - loss: 1.6894 - sparse_top_k_categorical_accuracy: 0.8020 - val_loss: 2.3129 - val_sparse_top_k_categorical_accuracy: 0.7674\n",
      "Epoch 87/150\n",
      "\u001b[1m128/128\u001b[0m \u001b[32m━━━━━━━━━━━━━━━━━━━━\u001b[0m\u001b[37m\u001b[0m \u001b[1m2s\u001b[0m 12ms/step - loss: 1.6786 - sparse_top_k_categorical_accuracy: 0.8171 - val_loss: 2.3100 - val_sparse_top_k_categorical_accuracy: 0.7650\n",
      "Epoch 88/150\n",
      "\u001b[1m128/128\u001b[0m \u001b[32m━━━━━━━━━━━━━━━━━━━━\u001b[0m\u001b[37m\u001b[0m \u001b[1m2s\u001b[0m 12ms/step - loss: 1.7051 - sparse_top_k_categorical_accuracy: 0.8025 - val_loss: 2.3062 - val_sparse_top_k_categorical_accuracy: 0.7674\n",
      "Epoch 89/150\n",
      "\u001b[1m128/128\u001b[0m \u001b[32m━━━━━━━━━━━━━━━━━━━━\u001b[0m\u001b[37m\u001b[0m \u001b[1m2s\u001b[0m 12ms/step - loss: 1.6795 - sparse_top_k_categorical_accuracy: 0.8057 - val_loss: 2.3621 - val_sparse_top_k_categorical_accuracy: 0.7640\n",
      "Epoch 90/150\n",
      "\u001b[1m128/128\u001b[0m \u001b[32m━━━━━━━━━━━━━━━━━━━━\u001b[0m\u001b[37m\u001b[0m \u001b[1m2s\u001b[0m 12ms/step - loss: 1.7388 - sparse_top_k_categorical_accuracy: 0.7975 - val_loss: 2.3291 - val_sparse_top_k_categorical_accuracy: 0.7566\n",
      "Epoch 91/150\n",
      "\u001b[1m128/128\u001b[0m \u001b[32m━━━━━━━━━━━━━━━━━━━━\u001b[0m\u001b[37m\u001b[0m \u001b[1m2s\u001b[0m 12ms/step - loss: 1.6760 - sparse_top_k_categorical_accuracy: 0.8015 - val_loss: 2.3271 - val_sparse_top_k_categorical_accuracy: 0.7704\n",
      "Epoch 92/150\n",
      "\u001b[1m128/128\u001b[0m \u001b[32m━━━━━━━━━━━━━━━━━━━━\u001b[0m\u001b[37m\u001b[0m \u001b[1m2s\u001b[0m 13ms/step - loss: 1.7016 - sparse_top_k_categorical_accuracy: 0.8123 - val_loss: 2.3080 - val_sparse_top_k_categorical_accuracy: 0.7674\n",
      "Epoch 93/150\n",
      "\u001b[1m128/128\u001b[0m \u001b[32m━━━━━━━━━━━━━━━━━━━━\u001b[0m\u001b[37m\u001b[0m \u001b[1m2s\u001b[0m 12ms/step - loss: 1.6920 - sparse_top_k_categorical_accuracy: 0.8004 - val_loss: 2.2945 - val_sparse_top_k_categorical_accuracy: 0.7699\n",
      "Epoch 94/150\n",
      "\u001b[1m128/128\u001b[0m \u001b[32m━━━━━━━━━━━━━━━━━━━━\u001b[0m\u001b[37m\u001b[0m \u001b[1m2s\u001b[0m 12ms/step - loss: 1.6686 - sparse_top_k_categorical_accuracy: 0.8065 - val_loss: 2.3381 - val_sparse_top_k_categorical_accuracy: 0.7625\n",
      "Epoch 95/150\n",
      "\u001b[1m128/128\u001b[0m \u001b[32m━━━━━━━━━━━━━━━━━━━━\u001b[0m\u001b[37m\u001b[0m \u001b[1m2s\u001b[0m 13ms/step - loss: 1.7001 - sparse_top_k_categorical_accuracy: 0.7998 - val_loss: 2.3070 - val_sparse_top_k_categorical_accuracy: 0.7605\n",
      "Epoch 96/150\n",
      "\u001b[1m128/128\u001b[0m \u001b[32m━━━━━━━━━━━━━━━━━━━━\u001b[0m\u001b[37m\u001b[0m \u001b[1m2s\u001b[0m 13ms/step - loss: 1.7070 - sparse_top_k_categorical_accuracy: 0.8027 - val_loss: 2.2974 - val_sparse_top_k_categorical_accuracy: 0.7713\n",
      "Epoch 97/150\n",
      "\u001b[1m128/128\u001b[0m \u001b[32m━━━━━━━━━━━━━━━━━━━━\u001b[0m\u001b[37m\u001b[0m \u001b[1m2s\u001b[0m 13ms/step - loss: 1.6682 - sparse_top_k_categorical_accuracy: 0.8035 - val_loss: 2.2866 - val_sparse_top_k_categorical_accuracy: 0.7772\n",
      "Epoch 98/150\n",
      "\u001b[1m128/128\u001b[0m \u001b[32m━━━━━━━━━━━━━━━━━━━━\u001b[0m\u001b[37m\u001b[0m \u001b[1m2s\u001b[0m 13ms/step - loss: 1.6619 - sparse_top_k_categorical_accuracy: 0.8063 - val_loss: 2.2876 - val_sparse_top_k_categorical_accuracy: 0.7674\n",
      "Epoch 99/150\n",
      "\u001b[1m128/128\u001b[0m \u001b[32m━━━━━━━━━━━━━━━━━━━━\u001b[0m\u001b[37m\u001b[0m \u001b[1m2s\u001b[0m 13ms/step - loss: 1.6830 - sparse_top_k_categorical_accuracy: 0.8010 - val_loss: 2.2795 - val_sparse_top_k_categorical_accuracy: 0.7743\n",
      "Epoch 100/150\n",
      "\u001b[1m128/128\u001b[0m \u001b[32m━━━━━━━━━━━━━━━━━━━━\u001b[0m\u001b[37m\u001b[0m \u001b[1m2s\u001b[0m 13ms/step - loss: 1.6889 - sparse_top_k_categorical_accuracy: 0.8048 - val_loss: 2.2873 - val_sparse_top_k_categorical_accuracy: 0.7709\n",
      "Epoch 101/150\n",
      "\u001b[1m128/128\u001b[0m \u001b[32m━━━━━━━━━━━━━━━━━━━━\u001b[0m\u001b[37m\u001b[0m \u001b[1m2s\u001b[0m 13ms/step - loss: 1.6374 - sparse_top_k_categorical_accuracy: 0.8090 - val_loss: 2.2972 - val_sparse_top_k_categorical_accuracy: 0.7718\n",
      "Epoch 102/150\n",
      "\u001b[1m128/128\u001b[0m \u001b[32m━━━━━━━━━━━━━━━━━━━━\u001b[0m\u001b[37m\u001b[0m \u001b[1m2s\u001b[0m 13ms/step - loss: 1.6552 - sparse_top_k_categorical_accuracy: 0.8066 - val_loss: 2.2993 - val_sparse_top_k_categorical_accuracy: 0.7713\n",
      "Epoch 103/150\n",
      "\u001b[1m128/128\u001b[0m \u001b[32m━━━━━━━━━━━━━━━━━━━━\u001b[0m\u001b[37m\u001b[0m \u001b[1m2s\u001b[0m 12ms/step - loss: 1.7036 - sparse_top_k_categorical_accuracy: 0.8008 - val_loss: 2.3039 - val_sparse_top_k_categorical_accuracy: 0.7723\n",
      "Epoch 104/150\n",
      "\u001b[1m128/128\u001b[0m \u001b[32m━━━━━━━━━━━━━━━━━━━━\u001b[0m\u001b[37m\u001b[0m \u001b[1m2s\u001b[0m 13ms/step - loss: 1.6423 - sparse_top_k_categorical_accuracy: 0.8109 - val_loss: 2.2814 - val_sparse_top_k_categorical_accuracy: 0.7718\n",
      "Epoch 105/150\n",
      "\u001b[1m128/128\u001b[0m \u001b[32m━━━━━━━━━━━━━━━━━━━━\u001b[0m\u001b[37m\u001b[0m \u001b[1m2s\u001b[0m 13ms/step - loss: 1.6887 - sparse_top_k_categorical_accuracy: 0.7985 - val_loss: 2.2721 - val_sparse_top_k_categorical_accuracy: 0.7748\n",
      "Epoch 106/150\n",
      "\u001b[1m128/128\u001b[0m \u001b[32m━━━━━━━━━━━━━━━━━━━━\u001b[0m\u001b[37m\u001b[0m \u001b[1m2s\u001b[0m 13ms/step - loss: 1.6314 - sparse_top_k_categorical_accuracy: 0.8145 - val_loss: 2.2909 - val_sparse_top_k_categorical_accuracy: 0.7777\n",
      "Epoch 107/150\n",
      "\u001b[1m128/128\u001b[0m \u001b[32m━━━━━━━━━━━━━━━━━━━━\u001b[0m\u001b[37m\u001b[0m \u001b[1m2s\u001b[0m 12ms/step - loss: 1.6185 - sparse_top_k_categorical_accuracy: 0.8096 - val_loss: 2.2696 - val_sparse_top_k_categorical_accuracy: 0.7718\n",
      "Epoch 108/150\n",
      "\u001b[1m128/128\u001b[0m \u001b[32m━━━━━━━━━━━━━━━━━━━━\u001b[0m\u001b[37m\u001b[0m \u001b[1m2s\u001b[0m 13ms/step - loss: 1.6113 - sparse_top_k_categorical_accuracy: 0.8137 - val_loss: 2.2832 - val_sparse_top_k_categorical_accuracy: 0.7782\n",
      "Epoch 109/150\n",
      "\u001b[1m128/128\u001b[0m \u001b[32m━━━━━━━━━━━━━━━━━━━━\u001b[0m\u001b[37m\u001b[0m \u001b[1m2s\u001b[0m 13ms/step - loss: 1.6236 - sparse_top_k_categorical_accuracy: 0.8161 - val_loss: 2.2745 - val_sparse_top_k_categorical_accuracy: 0.7841\n",
      "Epoch 110/150\n",
      "\u001b[1m128/128\u001b[0m \u001b[32m━━━━━━━━━━━━━━━━━━━━\u001b[0m\u001b[37m\u001b[0m \u001b[1m2s\u001b[0m 12ms/step - loss: 1.6385 - sparse_top_k_categorical_accuracy: 0.8106 - val_loss: 2.2836 - val_sparse_top_k_categorical_accuracy: 0.7738\n",
      "Epoch 111/150\n",
      "\u001b[1m128/128\u001b[0m \u001b[32m━━━━━━━━━━━━━━━━━━━━\u001b[0m\u001b[37m\u001b[0m \u001b[1m2s\u001b[0m 12ms/step - loss: 1.6265 - sparse_top_k_categorical_accuracy: 0.8084 - val_loss: 2.2840 - val_sparse_top_k_categorical_accuracy: 0.7777\n",
      "Epoch 112/150\n",
      "\u001b[1m128/128\u001b[0m \u001b[32m━━━━━━━━━━━━━━━━━━━━\u001b[0m\u001b[37m\u001b[0m \u001b[1m2s\u001b[0m 12ms/step - loss: 1.6373 - sparse_top_k_categorical_accuracy: 0.8034 - val_loss: 2.2768 - val_sparse_top_k_categorical_accuracy: 0.7782\n",
      "Epoch 113/150\n",
      "\u001b[1m128/128\u001b[0m \u001b[32m━━━━━━━━━━━━━━━━━━━━\u001b[0m\u001b[37m\u001b[0m \u001b[1m2s\u001b[0m 12ms/step - loss: 1.6340 - sparse_top_k_categorical_accuracy: 0.8077 - val_loss: 2.2774 - val_sparse_top_k_categorical_accuracy: 0.7753\n",
      "Epoch 114/150\n",
      "\u001b[1m128/128\u001b[0m \u001b[32m━━━━━━━━━━━━━━━━━━━━\u001b[0m\u001b[37m\u001b[0m \u001b[1m2s\u001b[0m 12ms/step - loss: 1.6235 - sparse_top_k_categorical_accuracy: 0.8037 - val_loss: 2.2695 - val_sparse_top_k_categorical_accuracy: 0.7821\n",
      "Epoch 115/150\n",
      "\u001b[1m128/128\u001b[0m \u001b[32m━━━━━━━━━━━━━━━━━━━━\u001b[0m\u001b[37m\u001b[0m \u001b[1m2s\u001b[0m 12ms/step - loss: 1.6311 - sparse_top_k_categorical_accuracy: 0.8052 - val_loss: 2.2716 - val_sparse_top_k_categorical_accuracy: 0.7821\n",
      "Epoch 116/150\n",
      "\u001b[1m128/128\u001b[0m \u001b[32m━━━━━━━━━━━━━━━━━━━━\u001b[0m\u001b[37m\u001b[0m \u001b[1m2s\u001b[0m 12ms/step - loss: 1.6183 - sparse_top_k_categorical_accuracy: 0.8196 - val_loss: 2.3022 - val_sparse_top_k_categorical_accuracy: 0.7748\n",
      "Epoch 117/150\n",
      "\u001b[1m128/128\u001b[0m \u001b[32m━━━━━━━━━━━━━━━━━━━━\u001b[0m\u001b[37m\u001b[0m \u001b[1m2s\u001b[0m 12ms/step - loss: 1.6708 - sparse_top_k_categorical_accuracy: 0.7995 - val_loss: 2.3057 - val_sparse_top_k_categorical_accuracy: 0.7812\n",
      "Epoch 118/150\n",
      "\u001b[1m128/128\u001b[0m \u001b[32m━━━━━━━━━━━━━━━━━━━━\u001b[0m\u001b[37m\u001b[0m \u001b[1m2s\u001b[0m 12ms/step - loss: 1.6373 - sparse_top_k_categorical_accuracy: 0.8072 - val_loss: 2.2895 - val_sparse_top_k_categorical_accuracy: 0.7748\n",
      "Epoch 119/150\n",
      "\u001b[1m128/128\u001b[0m \u001b[32m━━━━━━━━━━━━━━━━━━━━\u001b[0m\u001b[37m\u001b[0m \u001b[1m2s\u001b[0m 12ms/step - loss: 1.6531 - sparse_top_k_categorical_accuracy: 0.8067 - val_loss: 2.2951 - val_sparse_top_k_categorical_accuracy: 0.7763\n",
      "Epoch 120/150\n",
      "\u001b[1m128/128\u001b[0m \u001b[32m━━━━━━━━━━━━━━━━━━━━\u001b[0m\u001b[37m\u001b[0m \u001b[1m2s\u001b[0m 13ms/step - loss: 1.5969 - sparse_top_k_categorical_accuracy: 0.8132 - val_loss: 2.2968 - val_sparse_top_k_categorical_accuracy: 0.7807\n",
      "Epoch 121/150\n",
      "\u001b[1m128/128\u001b[0m \u001b[32m━━━━━━━━━━━━━━━━━━━━\u001b[0m\u001b[37m\u001b[0m \u001b[1m2s\u001b[0m 13ms/step - loss: 1.5985 - sparse_top_k_categorical_accuracy: 0.8171 - val_loss: 2.2922 - val_sparse_top_k_categorical_accuracy: 0.7792\n",
      "Epoch 122/150\n",
      "\u001b[1m128/128\u001b[0m \u001b[32m━━━━━━━━━━━━━━━━━━━━\u001b[0m\u001b[37m\u001b[0m \u001b[1m2s\u001b[0m 12ms/step - loss: 1.6112 - sparse_top_k_categorical_accuracy: 0.8171 - val_loss: 2.2836 - val_sparse_top_k_categorical_accuracy: 0.7792\n",
      "Epoch 123/150\n",
      "\u001b[1m128/128\u001b[0m \u001b[32m━━━━━━━━━━━━━━━━━━━━\u001b[0m\u001b[37m\u001b[0m \u001b[1m2s\u001b[0m 12ms/step - loss: 1.5975 - sparse_top_k_categorical_accuracy: 0.8101 - val_loss: 2.2721 - val_sparse_top_k_categorical_accuracy: 0.7802\n",
      "Epoch 124/150\n",
      "\u001b[1m128/128\u001b[0m \u001b[32m━━━━━━━━━━━━━━━━━━━━\u001b[0m\u001b[37m\u001b[0m \u001b[1m2s\u001b[0m 13ms/step - loss: 1.6040 - sparse_top_k_categorical_accuracy: 0.8121 - val_loss: 2.2797 - val_sparse_top_k_categorical_accuracy: 0.7821\n",
      "Epoch 125/150\n",
      "\u001b[1m128/128\u001b[0m \u001b[32m━━━━━━━━━━━━━━━━━━━━\u001b[0m\u001b[37m\u001b[0m \u001b[1m2s\u001b[0m 12ms/step - loss: 1.5904 - sparse_top_k_categorical_accuracy: 0.8131 - val_loss: 2.2675 - val_sparse_top_k_categorical_accuracy: 0.7826\n",
      "Epoch 126/150\n",
      "\u001b[1m128/128\u001b[0m \u001b[32m━━━━━━━━━━━━━━━━━━━━\u001b[0m\u001b[37m\u001b[0m \u001b[1m2s\u001b[0m 13ms/step - loss: 1.6182 - sparse_top_k_categorical_accuracy: 0.8009 - val_loss: 2.2797 - val_sparse_top_k_categorical_accuracy: 0.7802\n",
      "Epoch 127/150\n",
      "\u001b[1m128/128\u001b[0m \u001b[32m━━━━━━━━━━━━━━━━━━━━\u001b[0m\u001b[37m\u001b[0m \u001b[1m2s\u001b[0m 12ms/step - loss: 1.5901 - sparse_top_k_categorical_accuracy: 0.8059 - val_loss: 2.2737 - val_sparse_top_k_categorical_accuracy: 0.7782\n",
      "Epoch 128/150\n",
      "\u001b[1m128/128\u001b[0m \u001b[32m━━━━━━━━━━━━━━━━━━━━\u001b[0m\u001b[37m\u001b[0m \u001b[1m2s\u001b[0m 12ms/step - loss: 1.5823 - sparse_top_k_categorical_accuracy: 0.8122 - val_loss: 2.2691 - val_sparse_top_k_categorical_accuracy: 0.7826\n",
      "Epoch 129/150\n",
      "\u001b[1m128/128\u001b[0m \u001b[32m━━━━━━━━━━━━━━━━━━━━\u001b[0m\u001b[37m\u001b[0m \u001b[1m2s\u001b[0m 12ms/step - loss: 1.5690 - sparse_top_k_categorical_accuracy: 0.8153 - val_loss: 2.2677 - val_sparse_top_k_categorical_accuracy: 0.7812\n",
      "Epoch 130/150\n",
      "\u001b[1m128/128\u001b[0m \u001b[32m━━━━━━━━━━━━━━━━━━━━\u001b[0m\u001b[37m\u001b[0m \u001b[1m2s\u001b[0m 12ms/step - loss: 1.5957 - sparse_top_k_categorical_accuracy: 0.8119 - val_loss: 2.2965 - val_sparse_top_k_categorical_accuracy: 0.7836\n",
      "Epoch 131/150\n",
      "\u001b[1m128/128\u001b[0m \u001b[32m━━━━━━━━━━━━━━━━━━━━\u001b[0m\u001b[37m\u001b[0m \u001b[1m2s\u001b[0m 12ms/step - loss: 1.5732 - sparse_top_k_categorical_accuracy: 0.8155 - val_loss: 2.3238 - val_sparse_top_k_categorical_accuracy: 0.7777\n",
      "Epoch 132/150\n",
      "\u001b[1m128/128\u001b[0m \u001b[32m━━━━━━━━━━━━━━━━━━━━\u001b[0m\u001b[37m\u001b[0m \u001b[1m2s\u001b[0m 13ms/step - loss: 1.6562 - sparse_top_k_categorical_accuracy: 0.8067 - val_loss: 2.3063 - val_sparse_top_k_categorical_accuracy: 0.7763\n",
      "Epoch 133/150\n",
      "\u001b[1m128/128\u001b[0m \u001b[32m━━━━━━━━━━━━━━━━━━━━\u001b[0m\u001b[37m\u001b[0m \u001b[1m2s\u001b[0m 12ms/step - loss: 1.6121 - sparse_top_k_categorical_accuracy: 0.8109 - val_loss: 2.2893 - val_sparse_top_k_categorical_accuracy: 0.7826\n",
      "Epoch 134/150\n",
      "\u001b[1m128/128\u001b[0m \u001b[32m━━━━━━━━━━━━━━━━━━━━\u001b[0m\u001b[37m\u001b[0m \u001b[1m2s\u001b[0m 13ms/step - loss: 1.5975 - sparse_top_k_categorical_accuracy: 0.8125 - val_loss: 2.2857 - val_sparse_top_k_categorical_accuracy: 0.7841\n",
      "Epoch 135/150\n",
      "\u001b[1m128/128\u001b[0m \u001b[32m━━━━━━━━━━━━━━━━━━━━\u001b[0m\u001b[37m\u001b[0m \u001b[1m2s\u001b[0m 12ms/step - loss: 1.5909 - sparse_top_k_categorical_accuracy: 0.8149 - val_loss: 2.2714 - val_sparse_top_k_categorical_accuracy: 0.7861\n",
      "Epoch 136/150\n",
      "\u001b[1m128/128\u001b[0m \u001b[32m━━━━━━━━━━━━━━━━━━━━\u001b[0m\u001b[37m\u001b[0m \u001b[1m2s\u001b[0m 12ms/step - loss: 1.5841 - sparse_top_k_categorical_accuracy: 0.8141 - val_loss: 2.2722 - val_sparse_top_k_categorical_accuracy: 0.7826\n",
      "Epoch 137/150\n",
      "\u001b[1m128/128\u001b[0m \u001b[32m━━━━━━━━━━━━━━━━━━━━\u001b[0m\u001b[37m\u001b[0m \u001b[1m2s\u001b[0m 12ms/step - loss: 1.5538 - sparse_top_k_categorical_accuracy: 0.8217 - val_loss: 2.2829 - val_sparse_top_k_categorical_accuracy: 0.7851\n",
      "Epoch 138/150\n",
      "\u001b[1m128/128\u001b[0m \u001b[32m━━━━━━━━━━━━━━━━━━━━\u001b[0m\u001b[37m\u001b[0m \u001b[1m2s\u001b[0m 13ms/step - loss: 1.5792 - sparse_top_k_categorical_accuracy: 0.8117 - val_loss: 2.2808 - val_sparse_top_k_categorical_accuracy: 0.7821\n",
      "Epoch 139/150\n",
      "\u001b[1m128/128\u001b[0m \u001b[32m━━━━━━━━━━━━━━━━━━━━\u001b[0m\u001b[37m\u001b[0m \u001b[1m2s\u001b[0m 13ms/step - loss: 1.5804 - sparse_top_k_categorical_accuracy: 0.8096 - val_loss: 2.2663 - val_sparse_top_k_categorical_accuracy: 0.7777\n",
      "Epoch 140/150\n",
      "\u001b[1m128/128\u001b[0m \u001b[32m━━━━━━━━━━━━━━━━━━━━\u001b[0m\u001b[37m\u001b[0m \u001b[1m2s\u001b[0m 13ms/step - loss: 1.5663 - sparse_top_k_categorical_accuracy: 0.8128 - val_loss: 2.2700 - val_sparse_top_k_categorical_accuracy: 0.7787\n",
      "Epoch 141/150\n",
      "\u001b[1m128/128\u001b[0m \u001b[32m━━━━━━━━━━━━━━━━━━━━\u001b[0m\u001b[37m\u001b[0m \u001b[1m2s\u001b[0m 12ms/step - loss: 1.5539 - sparse_top_k_categorical_accuracy: 0.8131 - val_loss: 2.2842 - val_sparse_top_k_categorical_accuracy: 0.7836\n",
      "Epoch 142/150\n",
      "\u001b[1m128/128\u001b[0m \u001b[32m━━━━━━━━━━━━━━━━━━━━\u001b[0m\u001b[37m\u001b[0m \u001b[1m2s\u001b[0m 12ms/step - loss: 1.6038 - sparse_top_k_categorical_accuracy: 0.8114 - val_loss: 2.2855 - val_sparse_top_k_categorical_accuracy: 0.7792\n",
      "Epoch 143/150\n",
      "\u001b[1m128/128\u001b[0m \u001b[32m━━━━━━━━━━━━━━━━━━━━\u001b[0m\u001b[37m\u001b[0m \u001b[1m2s\u001b[0m 12ms/step - loss: 1.5830 - sparse_top_k_categorical_accuracy: 0.8131 - val_loss: 2.2755 - val_sparse_top_k_categorical_accuracy: 0.7821\n",
      "Epoch 144/150\n",
      "\u001b[1m128/128\u001b[0m \u001b[32m━━━━━━━━━━━━━━━━━━━━\u001b[0m\u001b[37m\u001b[0m \u001b[1m2s\u001b[0m 12ms/step - loss: 1.5717 - sparse_top_k_categorical_accuracy: 0.8186 - val_loss: 2.2607 - val_sparse_top_k_categorical_accuracy: 0.7831\n",
      "Epoch 145/150\n",
      "\u001b[1m128/128\u001b[0m \u001b[32m━━━━━━━━━━━━━━━━━━━━\u001b[0m\u001b[37m\u001b[0m \u001b[1m2s\u001b[0m 12ms/step - loss: 1.5724 - sparse_top_k_categorical_accuracy: 0.8148 - val_loss: 2.2626 - val_sparse_top_k_categorical_accuracy: 0.7797\n",
      "Epoch 146/150\n",
      "\u001b[1m128/128\u001b[0m \u001b[32m━━━━━━━━━━━━━━━━━━━━\u001b[0m\u001b[37m\u001b[0m \u001b[1m2s\u001b[0m 12ms/step - loss: 1.5630 - sparse_top_k_categorical_accuracy: 0.8130 - val_loss: 2.2643 - val_sparse_top_k_categorical_accuracy: 0.7826\n",
      "Epoch 147/150\n",
      "\u001b[1m128/128\u001b[0m \u001b[32m━━━━━━━━━━━━━━━━━━━━\u001b[0m\u001b[37m\u001b[0m \u001b[1m2s\u001b[0m 13ms/step - loss: 1.5535 - sparse_top_k_categorical_accuracy: 0.8137 - val_loss: 2.2679 - val_sparse_top_k_categorical_accuracy: 0.7807\n",
      "Epoch 148/150\n",
      "\u001b[1m128/128\u001b[0m \u001b[32m━━━━━━━━━━━━━━━━━━━━\u001b[0m\u001b[37m\u001b[0m \u001b[1m2s\u001b[0m 12ms/step - loss: 1.5557 - sparse_top_k_categorical_accuracy: 0.8193 - val_loss: 2.2785 - val_sparse_top_k_categorical_accuracy: 0.7807\n",
      "Epoch 149/150\n",
      "\u001b[1m128/128\u001b[0m \u001b[32m━━━━━━━━━━━━━━━━━━━━\u001b[0m\u001b[37m\u001b[0m \u001b[1m2s\u001b[0m 13ms/step - loss: 1.5703 - sparse_top_k_categorical_accuracy: 0.8141 - val_loss: 2.2632 - val_sparse_top_k_categorical_accuracy: 0.7797\n",
      "Epoch 150/150\n",
      "\u001b[1m128/128\u001b[0m \u001b[32m━━━━━━━━━━━━━━━━━━━━\u001b[0m\u001b[37m\u001b[0m \u001b[1m2s\u001b[0m 13ms/step - loss: 1.5245 - sparse_top_k_categorical_accuracy: 0.8233 - val_loss: 2.2802 - val_sparse_top_k_categorical_accuracy: 0.7846\n"
     ]
    }
   ],
   "source": [
    "history = model.fit(x_train, y_train, epochs=150, batch_size=batch_size, verbose=1, validation_data=(x_test, y_test))"
   ]
  },
  {
   "cell_type": "markdown",
   "metadata": {},
   "source": [
    "Extraction statistics"
   ]
  },
  {
   "cell_type": "code",
   "execution_count": 13,
   "metadata": {},
   "outputs": [],
   "source": [
    "train_loss = history.history['loss']\n",
    "val_loss = history.history['val_loss']\n",
    "train_accuracy = history.history['sparse_top_k_categorical_accuracy']\n",
    "val_accuracy = history.history['val_sparse_top_k_categorical_accuracy']\n",
    "\n",
    "epochs = range(1, len(train_loss) + 1)"
   ]
  },
  {
   "cell_type": "markdown",
   "metadata": {},
   "source": [
    "Graphs"
   ]
  },
  {
   "cell_type": "code",
   "execution_count": 14,
   "metadata": {},
   "outputs": [
    {
     "data": {
      "image/png": "[encoded data removed]",
      "text/plain": [
       "<Figure size 1200x600 with 2 Axes>"
      ]
     },
     "metadata": {},
     "output_type": "display_data"
    }
   ],
   "source": [
    "import matplotlib.pyplot as plt\n",
    "\n",
    "plt.figure(figsize=(12, 6))\n",
    "\n",
    "# Loss\n",
    "plt.subplot(1, 2, 1)\n",
    "plt.plot(epochs, train_loss, label='Training Loss')\n",
    "plt.plot(epochs, val_loss, label='Validation Loss')\n",
    "plt.title('Loss During Training and Validation')\n",
    "plt.xlabel('Epochs')\n",
    "plt.ylabel('Loss')\n",
    "plt.legend()\n",
    "\n",
    "# Accuracy\n",
    "plt.subplot(1, 2, 2)\n",
    "plt.plot(epochs, train_accuracy, label='Training Accuracy')\n",
    "plt.plot(epochs, val_accuracy, label='Validation Accuracy')\n",
    "plt.title('Accuracy During Training and Validation')\n",
    "plt.xlabel('Epochs')\n",
    "plt.ylabel('Accuracy')\n",
    "plt.legend()\n",
    "\n",
    "plt.tight_layout()\n",
    "plt.show()"
   ]
  },
  {
   "cell_type": "markdown",
   "metadata": {},
   "source": [
    "Model evaluation"
   ]
  },
  {
   "cell_type": "code",
   "execution_count": 21,
   "metadata": {},
   "outputs": [
    {
     "name": "stdout",
     "output_type": "stream",
     "text": [
      "\u001b[1m64/64\u001b[0m \u001b[32m━━━━━━━━━━━━━━━━━━━━\u001b[0m\u001b[37m\u001b[0m \u001b[1m0s\u001b[0m 3ms/step - loss: 2.3241 - sparse_top_k_categorical_accuracy: 0.7762\n",
      "Test Loss: 2.2802271842956543\n",
      "Test Accuracy: 0.7845927476882935\n"
     ]
    }
   ],
   "source": [
    "loss, accuracy = model.evaluate(x_test, y_test)\n",
    "print(f\"Test Loss: {loss}\")\n",
    "print(f\"Test Accuracy: {accuracy}\")"
   ]
  },
  {
   "cell_type": "markdown",
   "metadata": {},
   "source": [
    "Saving the model"
   ]
  },
  {
   "cell_type": "code",
   "execution_count": 24,
   "metadata": {},
   "outputs": [],
   "source": [
    "model.save(\"lstm_model.keras\")"
   ]
  },
  {
   "cell_type": "markdown",
   "metadata": {},
   "source": [
    "Saving the tokenizer"
   ]
  },
  {
   "cell_type": "code",
   "execution_count": 25,
   "metadata": {},
   "outputs": [],
   "source": [
    "import pickle\n",
    "\n",
    "with open(\"lstm_tokenizer.pkl\", \"wb\") as f:\n",
    "    pickle.dump(tokenizer, f)"
   ]
  },
  {
   "cell_type": "code",
   "execution_count": null,
   "metadata": {},
   "outputs": [],
   "source": []
  }
 ],
 "metadata": {
  "kernelspec": {
   "display_name": ".lstm",
   "language": "python",
   "name": "python3"
  },
  "language_info": {
   "codemirror_mode": {
    "name": "ipython",
    "version": 3
   },
   "file_extension": ".py",
   "mimetype": "text/x-python",
   "name": "python",
   "nbconvert_exporter": "python",
   "pygments_lexer": "ipython3",
   "version": "3.12.3"
  }
 },
 "nbformat": 4,
 "nbformat_minor": 2
}
