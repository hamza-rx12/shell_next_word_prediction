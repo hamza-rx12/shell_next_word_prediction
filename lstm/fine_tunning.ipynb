{
 "cells": [
  {
   "cell_type": "markdown",
   "metadata": {},
   "source": [
    "Some libraries to import"
   ]
  },
  {
   "cell_type": "code",
   "execution_count": 14,
   "metadata": {},
   "outputs": [],
   "source": [
    "import tensorflow as tf\n",
    "from tensorflow.keras.preprocessing.text import Tokenizer\n",
    "from tensorflow.keras.preprocessing.sequence import pad_sequences\n",
    "from tensorflow.keras.models import Sequential\n",
    "from tensorflow.keras.layers import Embedding, LSTM, Dense, Dropout\n",
    "from sklearn.model_selection import train_test_split\n",
    "import numpy as np\n",
    "import keras_tuner as kt"
   ]
  },
  {
   "cell_type": "markdown",
   "metadata": {},
   "source": [
    "Choosing to work with the GPU for faster training"
   ]
  },
  {
   "cell_type": "code",
   "execution_count": 15,
   "metadata": {},
   "outputs": [],
   "source": [
    "gpus = tf.config.experimental.list_physical_devices('GPU')\n",
    "if gpus:\n",
    "    try:\n",
    "        tf.config.experimental.set_visible_devices(gpus[0], 'GPU')  # Use only the first GPU\n",
    "    except RuntimeError as e:\n",
    "        print(e)"
   ]
  },
  {
   "cell_type": "markdown",
   "metadata": {},
   "source": [
    "Importing data"
   ]
  },
  {
   "cell_type": "code",
   "execution_count": 16,
   "metadata": {},
   "outputs": [],
   "source": [
    "commands = []\n",
    "\n",
    "with open('data.txt', 'r') as file:\n",
    "    for line in file:\n",
    "      if line:\n",
    "        commands.append(line.strip())\n",
    "\n",
    "# commands"
   ]
  },
  {
   "cell_type": "markdown",
   "metadata": {},
   "source": [
    "Tokenization"
   ]
  },
  {
   "cell_type": "code",
   "execution_count": 17,
   "metadata": {},
   "outputs": [],
   "source": [
    "tokenizer = Tokenizer(filters='')\n",
    "tokenizer.fit_on_texts(commands)"
   ]
  },
  {
   "cell_type": "markdown",
   "metadata": {},
   "source": [
    "Sequencing"
   ]
  },
  {
   "cell_type": "code",
   "execution_count": 18,
   "metadata": {},
   "outputs": [],
   "source": [
    "sequences = tokenizer.texts_to_sequences(commands)\n",
    "word_index = tokenizer.word_index\n",
    "vocab_size = len(word_index) + 1"
   ]
  },
  {
   "cell_type": "markdown",
   "metadata": {},
   "source": [
    "Input Output sequences"
   ]
  },
  {
   "cell_type": "code",
   "execution_count": 19,
   "metadata": {},
   "outputs": [],
   "source": [
    "input_sequences = []\n",
    "target_sequences = []\n",
    "\n",
    "for seq in sequences:\n",
    "    for i in range(1, len(seq)):\n",
    "        input_sequences.append(seq[:i])\n",
    "        target_sequences.append(seq[i])"
   ]
  },
  {
   "cell_type": "markdown",
   "metadata": {},
   "source": [
    "Padding"
   ]
  },
  {
   "cell_type": "code",
   "execution_count": 20,
   "metadata": {},
   "outputs": [],
   "source": [
    "max_seq_len = max(len(seq) for seq in input_sequences)\n",
    "input_sequences = pad_sequences(input_sequences, maxlen=max_seq_len, padding='post')\n",
    "target_sequences = np.array(target_sequences)"
   ]
  },
  {
   "cell_type": "markdown",
   "metadata": {},
   "source": [
    "Train_text spliting"
   ]
  },
  {
   "cell_type": "code",
   "execution_count": 21,
   "metadata": {},
   "outputs": [],
   "source": [
    "x_train, x_test, y_train, y_test = train_test_split(input_sequences,target_sequences, test_size=0.2)"
   ]
  },
  {
   "cell_type": "markdown",
   "metadata": {},
   "source": [
    "Model building function"
   ]
  },
  {
   "cell_type": "code",
   "execution_count": 22,
   "metadata": {},
   "outputs": [],
   "source": [
    "def my_model(hp):    \n",
    "    model = Sequential([\n",
    "        Embedding(\n",
    "            input_dim=vocab_size, \n",
    "            output_dim=hp.Choice('embedding_dim', [64,128,256])\n",
    "        ),\n",
    "        LSTM(\n",
    "            units=hp.Choice('lstm_units', [32, 64, 128]), \n",
    "            return_sequences=False\n",
    "        ),\n",
    "        Dropout(\n",
    "            rate=hp.Float('dropout_rate', 0.2, 0.5, step=0.1)\n",
    "        ),\n",
    "        Dense(\n",
    "            vocab_size, \n",
    "            activation=hp.Choice('activation', ['softmax', 'sigmoid'])\n",
    "        )\n",
    "    ])\n",
    "\n",
    "    model.compile(\n",
    "        optimizer=tf.keras.optimizers.Adam(learning_rate=hp.Choice('learning_rate', [1e-2, 1e-3, 1e-4])), \n",
    "        loss='sparse_categorical_crossentropy', \n",
    "        metrics=[tf.keras.metrics.SparseTopKCategoricalAccuracy(k=hp.Choice(\"top_k\", [3, 5]))]\n",
    "    )\n",
    "    model.summary()\n",
    "    return model"
   ]
  },
  {
   "cell_type": "markdown",
   "metadata": {},
   "source": [
    "Tuner initialization"
   ]
  },
  {
   "cell_type": "code",
   "execution_count": 23,
   "metadata": {},
   "outputs": [
    {
     "data": {
      "text/html": [
       "<pre style=\"white-space:pre;overflow-x:auto;line-height:normal;font-family:Menlo,'DejaVu Sans Mono',consolas,'Courier New',monospace\"><span style=\"font-weight: bold\">Model: \"sequential\"</span>\n",
       "</pre>\n"
      ],
      "text/plain": [
       "\u001b[1mModel: \"sequential\"\u001b[0m\n"
      ]
     },
     "metadata": {},
     "output_type": "display_data"
    },
    {
     "data": {
      "text/html": [
       "<pre style=\"white-space:pre;overflow-x:auto;line-height:normal;font-family:Menlo,'DejaVu Sans Mono',consolas,'Courier New',monospace\">┏━━━━━━━━━━━━━━━━━━━━━━━━━━━━━━━━━┳━━━━━━━━━━━━━━━━━━━━━━━━┳━━━━━━━━━━━━━━━┓\n",
       "┃<span style=\"font-weight: bold\"> Layer (type)                    </span>┃<span style=\"font-weight: bold\"> Output Shape           </span>┃<span style=\"font-weight: bold\">       Param # </span>┃\n",
       "┡━━━━━━━━━━━━━━━━━━━━━━━━━━━━━━━━━╇━━━━━━━━━━━━━━━━━━━━━━━━╇━━━━━━━━━━━━━━━┩\n",
       "│ embedding (<span style=\"color: #0087ff; text-decoration-color: #0087ff\">Embedding</span>)           │ ?                      │   <span style=\"color: #00af00; text-decoration-color: #00af00\">0</span> (unbuilt) │\n",
       "├─────────────────────────────────┼────────────────────────┼───────────────┤\n",
       "│ lstm (<span style=\"color: #0087ff; text-decoration-color: #0087ff\">LSTM</span>)                     │ ?                      │   <span style=\"color: #00af00; text-decoration-color: #00af00\">0</span> (unbuilt) │\n",
       "├─────────────────────────────────┼────────────────────────┼───────────────┤\n",
       "│ dropout (<span style=\"color: #0087ff; text-decoration-color: #0087ff\">Dropout</span>)               │ ?                      │             <span style=\"color: #00af00; text-decoration-color: #00af00\">0</span> │\n",
       "├─────────────────────────────────┼────────────────────────┼───────────────┤\n",
       "│ dense (<span style=\"color: #0087ff; text-decoration-color: #0087ff\">Dense</span>)                   │ ?                      │   <span style=\"color: #00af00; text-decoration-color: #00af00\">0</span> (unbuilt) │\n",
       "└─────────────────────────────────┴────────────────────────┴───────────────┘\n",
       "</pre>\n"
      ],
      "text/plain": [
       "┏━━━━━━━━━━━━━━━━━━━━━━━━━━━━━━━━━┳━━━━━━━━━━━━━━━━━━━━━━━━┳━━━━━━━━━━━━━━━┓\n",
       "┃\u001b[1m \u001b[0m\u001b[1mLayer (type)                   \u001b[0m\u001b[1m \u001b[0m┃\u001b[1m \u001b[0m\u001b[1mOutput Shape          \u001b[0m\u001b[1m \u001b[0m┃\u001b[1m \u001b[0m\u001b[1m      Param #\u001b[0m\u001b[1m \u001b[0m┃\n",
       "┡━━━━━━━━━━━━━━━━━━━━━━━━━━━━━━━━━╇━━━━━━━━━━━━━━━━━━━━━━━━╇━━━━━━━━━━━━━━━┩\n",
       "│ embedding (\u001b[38;5;33mEmbedding\u001b[0m)           │ ?                      │   \u001b[38;5;34m0\u001b[0m (unbuilt) │\n",
       "├─────────────────────────────────┼────────────────────────┼───────────────┤\n",
       "│ lstm (\u001b[38;5;33mLSTM\u001b[0m)                     │ ?                      │   \u001b[38;5;34m0\u001b[0m (unbuilt) │\n",
       "├─────────────────────────────────┼────────────────────────┼───────────────┤\n",
       "│ dropout (\u001b[38;5;33mDropout\u001b[0m)               │ ?                      │             \u001b[38;5;34m0\u001b[0m │\n",
       "├─────────────────────────────────┼────────────────────────┼───────────────┤\n",
       "│ dense (\u001b[38;5;33mDense\u001b[0m)                   │ ?                      │   \u001b[38;5;34m0\u001b[0m (unbuilt) │\n",
       "└─────────────────────────────────┴────────────────────────┴───────────────┘\n"
      ]
     },
     "metadata": {},
     "output_type": "display_data"
    },
    {
     "data": {
      "text/html": [
       "<pre style=\"white-space:pre;overflow-x:auto;line-height:normal;font-family:Menlo,'DejaVu Sans Mono',consolas,'Courier New',monospace\"><span style=\"font-weight: bold\"> Total params: </span><span style=\"color: #00af00; text-decoration-color: #00af00\">0</span> (0.00 B)\n",
       "</pre>\n"
      ],
      "text/plain": [
       "\u001b[1m Total params: \u001b[0m\u001b[38;5;34m0\u001b[0m (0.00 B)\n"
      ]
     },
     "metadata": {},
     "output_type": "display_data"
    },
    {
     "data": {
      "text/html": [
       "<pre style=\"white-space:pre;overflow-x:auto;line-height:normal;font-family:Menlo,'DejaVu Sans Mono',consolas,'Courier New',monospace\"><span style=\"font-weight: bold\"> Trainable params: </span><span style=\"color: #00af00; text-decoration-color: #00af00\">0</span> (0.00 B)\n",
       "</pre>\n"
      ],
      "text/plain": [
       "\u001b[1m Trainable params: \u001b[0m\u001b[38;5;34m0\u001b[0m (0.00 B)\n"
      ]
     },
     "metadata": {},
     "output_type": "display_data"
    },
    {
     "data": {
      "text/html": [
       "<pre style=\"white-space:pre;overflow-x:auto;line-height:normal;font-family:Menlo,'DejaVu Sans Mono',consolas,'Courier New',monospace\"><span style=\"font-weight: bold\"> Non-trainable params: </span><span style=\"color: #00af00; text-decoration-color: #00af00\">0</span> (0.00 B)\n",
       "</pre>\n"
      ],
      "text/plain": [
       "\u001b[1m Non-trainable params: \u001b[0m\u001b[38;5;34m0\u001b[0m (0.00 B)\n"
      ]
     },
     "metadata": {},
     "output_type": "display_data"
    }
   ],
   "source": [
    "tuner = kt.Hyperband(\n",
    "    my_model,\n",
    "    objective=kt.Objective(\"val_sparse_top_k_categorical_accuracy\", direction=\"max\"),\n",
    "    max_epochs=30,\n",
    "    factor=3,\n",
    "    directory='my_dir',\n",
    "    project_name='command_completion'\n",
    ")\n"
   ]
  },
  {
   "cell_type": "markdown",
   "metadata": {},
   "source": [
    "Early Stopping callback"
   ]
  },
  {
   "cell_type": "code",
   "execution_count": 24,
   "metadata": {},
   "outputs": [],
   "source": [
    "stop_early = tf.keras.callbacks.EarlyStopping(monitor='val_loss', patience=3)"
   ]
  },
  {
   "cell_type": "markdown",
   "metadata": {},
   "source": [
    "Searching for the best hyperparameters"
   ]
  },
  {
   "cell_type": "code",
   "execution_count": 25,
   "metadata": {},
   "outputs": [
    {
     "name": "stdout",
     "output_type": "stream",
     "text": [
      "Trial 90 Complete [00h 01m 05s]\n",
      "val_sparse_top_k_categorical_accuracy: 0.6630573272705078\n",
      "\n",
      "Best val_sparse_top_k_categorical_accuracy So Far: 1.0\n",
      "Total elapsed time: 00h 13m 22s\n"
     ]
    }
   ],
   "source": [
    "tuner.search(\n",
    "    x_train, \n",
    "    y_train, \n",
    "    epochs=60, \n",
    "    validation_split=0.2, \n",
    "    callbacks=[stop_early],\n",
    "    batch_size=tuner.oracle.hyperparameters.Choice('batch_size', [16, 32, 64])\n",
    ")"
   ]
  },
  {
   "cell_type": "code",
   "execution_count": 26,
   "metadata": {},
   "outputs": [
    {
     "name": "stdout",
     "output_type": "stream",
     "text": [
      "\n",
      "Best embedding_dim: \t128\n",
      "Best lstm_units: \t64\n",
      "Best dropout_rate: \t0.30000000000000004\n",
      "Best activation function: \trelu\n",
      "Best learning_rate: \t0.01\n",
      "Best batch_size: \t16\n",
      "Best k for accuracy: \t3\n",
      "\n",
      "\n"
     ]
    }
   ],
   "source": [
    "best_hps = tuner.get_best_hyperparameters(num_trials=1)[0]\n",
    "print(f\"\"\"\n",
    "Best embedding_dim: \\t{best_hps.get('embedding_dim')}\n",
    "Best lstm_units: \\t{best_hps.get('lstm_units')}\n",
    "Best dropout_rate: \\t{best_hps.get('dropout_rate')}\n",
    "Best activation function: \\t{best_hps.get('activation')}\n",
    "Best learning_rate: \\t{best_hps.get('learning_rate')}\n",
    "Best batch_size: \\t{best_hps.get('batch_size')}\n",
    "Best k for accuracy: \\t{best_hps.get('top_k')}\n",
    "\n",
    "\"\"\")"
   ]
  },
  {
   "cell_type": "markdown",
   "metadata": {},
   "source": [
    "Training the model using the best hyperparameters we got"
   ]
  },
  {
   "cell_type": "code",
   "execution_count": 27,
   "metadata": {},
   "outputs": [
    {
     "data": {
      "text/html": [
       "<pre style=\"white-space:pre;overflow-x:auto;line-height:normal;font-family:Menlo,'DejaVu Sans Mono',consolas,'Courier New',monospace\"><span style=\"font-weight: bold\">Model: \"sequential_1\"</span>\n",
       "</pre>\n"
      ],
      "text/plain": [
       "\u001b[1mModel: \"sequential_1\"\u001b[0m\n"
      ]
     },
     "metadata": {},
     "output_type": "display_data"
    },
    {
     "data": {
      "text/html": [
       "<pre style=\"white-space:pre;overflow-x:auto;line-height:normal;font-family:Menlo,'DejaVu Sans Mono',consolas,'Courier New',monospace\">┏━━━━━━━━━━━━━━━━━━━━━━━━━━━━━━━━━┳━━━━━━━━━━━━━━━━━━━━━━━━┳━━━━━━━━━━━━━━━┓\n",
       "┃<span style=\"font-weight: bold\"> Layer (type)                    </span>┃<span style=\"font-weight: bold\"> Output Shape           </span>┃<span style=\"font-weight: bold\">       Param # </span>┃\n",
       "┡━━━━━━━━━━━━━━━━━━━━━━━━━━━━━━━━━╇━━━━━━━━━━━━━━━━━━━━━━━━╇━━━━━━━━━━━━━━━┩\n",
       "│ embedding_1 (<span style=\"color: #0087ff; text-decoration-color: #0087ff\">Embedding</span>)         │ ?                      │   <span style=\"color: #00af00; text-decoration-color: #00af00\">0</span> (unbuilt) │\n",
       "├─────────────────────────────────┼────────────────────────┼───────────────┤\n",
       "│ lstm_1 (<span style=\"color: #0087ff; text-decoration-color: #0087ff\">LSTM</span>)                   │ ?                      │   <span style=\"color: #00af00; text-decoration-color: #00af00\">0</span> (unbuilt) │\n",
       "├─────────────────────────────────┼────────────────────────┼───────────────┤\n",
       "│ dropout_1 (<span style=\"color: #0087ff; text-decoration-color: #0087ff\">Dropout</span>)             │ ?                      │             <span style=\"color: #00af00; text-decoration-color: #00af00\">0</span> │\n",
       "├─────────────────────────────────┼────────────────────────┼───────────────┤\n",
       "│ dense_1 (<span style=\"color: #0087ff; text-decoration-color: #0087ff\">Dense</span>)                 │ ?                      │   <span style=\"color: #00af00; text-decoration-color: #00af00\">0</span> (unbuilt) │\n",
       "└─────────────────────────────────┴────────────────────────┴───────────────┘\n",
       "</pre>\n"
      ],
      "text/plain": [
       "┏━━━━━━━━━━━━━━━━━━━━━━━━━━━━━━━━━┳━━━━━━━━━━━━━━━━━━━━━━━━┳━━━━━━━━━━━━━━━┓\n",
       "┃\u001b[1m \u001b[0m\u001b[1mLayer (type)                   \u001b[0m\u001b[1m \u001b[0m┃\u001b[1m \u001b[0m\u001b[1mOutput Shape          \u001b[0m\u001b[1m \u001b[0m┃\u001b[1m \u001b[0m\u001b[1m      Param #\u001b[0m\u001b[1m \u001b[0m┃\n",
       "┡━━━━━━━━━━━━━━━━━━━━━━━━━━━━━━━━━╇━━━━━━━━━━━━━━━━━━━━━━━━╇━━━━━━━━━━━━━━━┩\n",
       "│ embedding_1 (\u001b[38;5;33mEmbedding\u001b[0m)         │ ?                      │   \u001b[38;5;34m0\u001b[0m (unbuilt) │\n",
       "├─────────────────────────────────┼────────────────────────┼───────────────┤\n",
       "│ lstm_1 (\u001b[38;5;33mLSTM\u001b[0m)                   │ ?                      │   \u001b[38;5;34m0\u001b[0m (unbuilt) │\n",
       "├─────────────────────────────────┼────────────────────────┼───────────────┤\n",
       "│ dropout_1 (\u001b[38;5;33mDropout\u001b[0m)             │ ?                      │             \u001b[38;5;34m0\u001b[0m │\n",
       "├─────────────────────────────────┼────────────────────────┼───────────────┤\n",
       "│ dense_1 (\u001b[38;5;33mDense\u001b[0m)                 │ ?                      │   \u001b[38;5;34m0\u001b[0m (unbuilt) │\n",
       "└─────────────────────────────────┴────────────────────────┴───────────────┘\n"
      ]
     },
     "metadata": {},
     "output_type": "display_data"
    },
    {
     "data": {
      "text/html": [
       "<pre style=\"white-space:pre;overflow-x:auto;line-height:normal;font-family:Menlo,'DejaVu Sans Mono',consolas,'Courier New',monospace\"><span style=\"font-weight: bold\"> Total params: </span><span style=\"color: #00af00; text-decoration-color: #00af00\">0</span> (0.00 B)\n",
       "</pre>\n"
      ],
      "text/plain": [
       "\u001b[1m Total params: \u001b[0m\u001b[38;5;34m0\u001b[0m (0.00 B)\n"
      ]
     },
     "metadata": {},
     "output_type": "display_data"
    },
    {
     "data": {
      "text/html": [
       "<pre style=\"white-space:pre;overflow-x:auto;line-height:normal;font-family:Menlo,'DejaVu Sans Mono',consolas,'Courier New',monospace\"><span style=\"font-weight: bold\"> Trainable params: </span><span style=\"color: #00af00; text-decoration-color: #00af00\">0</span> (0.00 B)\n",
       "</pre>\n"
      ],
      "text/plain": [
       "\u001b[1m Trainable params: \u001b[0m\u001b[38;5;34m0\u001b[0m (0.00 B)\n"
      ]
     },
     "metadata": {},
     "output_type": "display_data"
    },
    {
     "data": {
      "text/html": [
       "<pre style=\"white-space:pre;overflow-x:auto;line-height:normal;font-family:Menlo,'DejaVu Sans Mono',consolas,'Courier New',monospace\"><span style=\"font-weight: bold\"> Non-trainable params: </span><span style=\"color: #00af00; text-decoration-color: #00af00\">0</span> (0.00 B)\n",
       "</pre>\n"
      ],
      "text/plain": [
       "\u001b[1m Non-trainable params: \u001b[0m\u001b[38;5;34m0\u001b[0m (0.00 B)\n"
      ]
     },
     "metadata": {},
     "output_type": "display_data"
    },
    {
     "name": "stdout",
     "output_type": "stream",
     "text": [
      "Epoch 1/100\n",
      "\u001b[1m491/491\u001b[0m \u001b[32m━━━━━━━━━━━━━━━━━━━━\u001b[0m\u001b[37m\u001b[0m \u001b[1m3s\u001b[0m 5ms/step - loss: 7.9310 - sparse_top_k_categorical_accuracy: 0.8954 - val_loss: 7.1033 - val_sparse_top_k_categorical_accuracy: 1.0000\n",
      "Epoch 2/100\n",
      "\u001b[1m491/491\u001b[0m \u001b[32m━━━━━━━━━━━━━━━━━━━━\u001b[0m\u001b[37m\u001b[0m \u001b[1m2s\u001b[0m 4ms/step - loss: 7.1063 - sparse_top_k_categorical_accuracy: 1.0000 - val_loss: 7.1033 - val_sparse_top_k_categorical_accuracy: 1.0000\n",
      "Epoch 3/100\n",
      "\u001b[1m491/491\u001b[0m \u001b[32m━━━━━━━━━━━━━━━━━━━━\u001b[0m\u001b[37m\u001b[0m \u001b[1m2s\u001b[0m 4ms/step - loss: 7.1100 - sparse_top_k_categorical_accuracy: 1.0000 - val_loss: 7.1033 - val_sparse_top_k_categorical_accuracy: 1.0000\n",
      "Epoch 4/100\n",
      "\u001b[1m491/491\u001b[0m \u001b[32m━━━━━━━━━━━━━━━━━━━━\u001b[0m\u001b[37m\u001b[0m \u001b[1m2s\u001b[0m 4ms/step - loss: 7.1110 - sparse_top_k_categorical_accuracy: 1.0000 - val_loss: 7.1033 - val_sparse_top_k_categorical_accuracy: 1.0000\n",
      "Epoch 5/100\n",
      "\u001b[1m491/491\u001b[0m \u001b[32m━━━━━━━━━━━━━━━━━━━━\u001b[0m\u001b[37m\u001b[0m \u001b[1m2s\u001b[0m 4ms/step - loss: 7.1059 - sparse_top_k_categorical_accuracy: 1.0000 - val_loss: 7.1033 - val_sparse_top_k_categorical_accuracy: 1.0000\n",
      "Epoch 6/100\n",
      "\u001b[1m491/491\u001b[0m \u001b[32m━━━━━━━━━━━━━━━━━━━━\u001b[0m\u001b[37m\u001b[0m \u001b[1m2s\u001b[0m 4ms/step - loss: 7.1034 - sparse_top_k_categorical_accuracy: 1.0000 - val_loss: 7.1033 - val_sparse_top_k_categorical_accuracy: 1.0000\n",
      "Epoch 7/100\n",
      "\u001b[1m491/491\u001b[0m \u001b[32m━━━━━━━━━━━━━━━━━━━━\u001b[0m\u001b[37m\u001b[0m \u001b[1m2s\u001b[0m 4ms/step - loss: 7.1040 - sparse_top_k_categorical_accuracy: 1.0000 - val_loss: 7.1033 - val_sparse_top_k_categorical_accuracy: 1.0000\n",
      "Epoch 8/100\n",
      "\u001b[1m491/491\u001b[0m \u001b[32m━━━━━━━━━━━━━━━━━━━━\u001b[0m\u001b[37m\u001b[0m \u001b[1m2s\u001b[0m 4ms/step - loss: 7.1112 - sparse_top_k_categorical_accuracy: 0.9999 - val_loss: 7.1033 - val_sparse_top_k_categorical_accuracy: 1.0000\n",
      "Epoch 9/100\n",
      "\u001b[1m491/491\u001b[0m \u001b[32m━━━━━━━━━━━━━━━━━━━━\u001b[0m\u001b[37m\u001b[0m \u001b[1m2s\u001b[0m 4ms/step - loss: 7.1075 - sparse_top_k_categorical_accuracy: 1.0000 - val_loss: 7.1033 - val_sparse_top_k_categorical_accuracy: 1.0000\n",
      "Epoch 10/100\n",
      "\u001b[1m491/491\u001b[0m \u001b[32m━━━━━━━━━━━━━━━━━━━━\u001b[0m\u001b[37m\u001b[0m \u001b[1m2s\u001b[0m 4ms/step - loss: 7.1054 - sparse_top_k_categorical_accuracy: 1.0000 - val_loss: 7.1033 - val_sparse_top_k_categorical_accuracy: 1.0000\n",
      "Epoch 11/100\n",
      "\u001b[1m491/491\u001b[0m \u001b[32m━━━━━━━━━━━━━━━━━━━━\u001b[0m\u001b[37m\u001b[0m \u001b[1m2s\u001b[0m 4ms/step - loss: 7.1057 - sparse_top_k_categorical_accuracy: 1.0000 - val_loss: 7.1033 - val_sparse_top_k_categorical_accuracy: 1.0000\n",
      "Epoch 12/100\n",
      "\u001b[1m491/491\u001b[0m \u001b[32m━━━━━━━━━━━━━━━━━━━━\u001b[0m\u001b[37m\u001b[0m \u001b[1m2s\u001b[0m 4ms/step - loss: 7.1035 - sparse_top_k_categorical_accuracy: 1.0000 - val_loss: 7.1033 - val_sparse_top_k_categorical_accuracy: 1.0000\n",
      "Epoch 13/100\n",
      "\u001b[1m491/491\u001b[0m \u001b[32m━━━━━━━━━━━━━━━━━━━━\u001b[0m\u001b[37m\u001b[0m \u001b[1m2s\u001b[0m 4ms/step - loss: 7.1040 - sparse_top_k_categorical_accuracy: 1.0000 - val_loss: 7.1033 - val_sparse_top_k_categorical_accuracy: 1.0000\n",
      "Epoch 14/100\n",
      "\u001b[1m491/491\u001b[0m \u001b[32m━━━━━━━━━━━━━━━━━━━━\u001b[0m\u001b[37m\u001b[0m \u001b[1m2s\u001b[0m 4ms/step - loss: 7.1033 - sparse_top_k_categorical_accuracy: 1.0000 - val_loss: 7.1033 - val_sparse_top_k_categorical_accuracy: 1.0000\n",
      "Epoch 15/100\n",
      "\u001b[1m491/491\u001b[0m \u001b[32m━━━━━━━━━━━━━━━━━━━━\u001b[0m\u001b[37m\u001b[0m \u001b[1m2s\u001b[0m 4ms/step - loss: 7.1033 - sparse_top_k_categorical_accuracy: 1.0000 - val_loss: 7.1033 - val_sparse_top_k_categorical_accuracy: 1.0000\n",
      "Epoch 16/100\n",
      "\u001b[1m491/491\u001b[0m \u001b[32m━━━━━━━━━━━━━━━━━━━━\u001b[0m\u001b[37m\u001b[0m \u001b[1m2s\u001b[0m 4ms/step - loss: 7.1033 - sparse_top_k_categorical_accuracy: 1.0000 - val_loss: 7.1033 - val_sparse_top_k_categorical_accuracy: 1.0000\n",
      "Epoch 17/100\n",
      "\u001b[1m491/491\u001b[0m \u001b[32m━━━━━━━━━━━━━━━━━━━━\u001b[0m\u001b[37m\u001b[0m \u001b[1m2s\u001b[0m 4ms/step - loss: 7.1033 - sparse_top_k_categorical_accuracy: 1.0000 - val_loss: 7.1033 - val_sparse_top_k_categorical_accuracy: 1.0000\n",
      "Epoch 18/100\n",
      "\u001b[1m491/491\u001b[0m \u001b[32m━━━━━━━━━━━━━━━━━━━━\u001b[0m\u001b[37m\u001b[0m \u001b[1m2s\u001b[0m 4ms/step - loss: 7.1033 - sparse_top_k_categorical_accuracy: 1.0000 - val_loss: 7.1033 - val_sparse_top_k_categorical_accuracy: 1.0000\n",
      "Epoch 19/100\n",
      "\u001b[1m491/491\u001b[0m \u001b[32m━━━━━━━━━━━━━━━━━━━━\u001b[0m\u001b[37m\u001b[0m \u001b[1m2s\u001b[0m 4ms/step - loss: 7.1040 - sparse_top_k_categorical_accuracy: 1.0000 - val_loss: 7.1033 - val_sparse_top_k_categorical_accuracy: 1.0000\n",
      "Epoch 20/100\n",
      "\u001b[1m491/491\u001b[0m \u001b[32m━━━━━━━━━━━━━━━━━━━━\u001b[0m\u001b[37m\u001b[0m \u001b[1m2s\u001b[0m 4ms/step - loss: 7.1048 - sparse_top_k_categorical_accuracy: 1.0000 - val_loss: 7.1033 - val_sparse_top_k_categorical_accuracy: 1.0000\n",
      "Epoch 21/100\n",
      "\u001b[1m491/491\u001b[0m \u001b[32m━━━━━━━━━━━━━━━━━━━━\u001b[0m\u001b[37m\u001b[0m \u001b[1m2s\u001b[0m 4ms/step - loss: 7.1033 - sparse_top_k_categorical_accuracy: 1.0000 - val_loss: 7.1033 - val_sparse_top_k_categorical_accuracy: 1.0000\n",
      "Epoch 22/100\n",
      "\u001b[1m491/491\u001b[0m \u001b[32m━━━━━━━━━━━━━━━━━━━━\u001b[0m\u001b[37m\u001b[0m \u001b[1m2s\u001b[0m 4ms/step - loss: 7.1046 - sparse_top_k_categorical_accuracy: 1.0000 - val_loss: 7.1033 - val_sparse_top_k_categorical_accuracy: 1.0000\n",
      "Epoch 23/100\n",
      "\u001b[1m491/491\u001b[0m \u001b[32m━━━━━━━━━━━━━━━━━━━━\u001b[0m\u001b[37m\u001b[0m \u001b[1m2s\u001b[0m 4ms/step - loss: 7.1045 - sparse_top_k_categorical_accuracy: 1.0000 - val_loss: 7.1033 - val_sparse_top_k_categorical_accuracy: 1.0000\n",
      "Epoch 24/100\n",
      "\u001b[1m491/491\u001b[0m \u001b[32m━━━━━━━━━━━━━━━━━━━━\u001b[0m\u001b[37m\u001b[0m \u001b[1m2s\u001b[0m 4ms/step - loss: 7.1033 - sparse_top_k_categorical_accuracy: 1.0000 - val_loss: 7.1033 - val_sparse_top_k_categorical_accuracy: 1.0000\n",
      "Epoch 25/100\n",
      "\u001b[1m491/491\u001b[0m \u001b[32m━━━━━━━━━━━━━━━━━━━━\u001b[0m\u001b[37m\u001b[0m \u001b[1m2s\u001b[0m 4ms/step - loss: 7.1033 - sparse_top_k_categorical_accuracy: 1.0000 - val_loss: 7.1033 - val_sparse_top_k_categorical_accuracy: 1.0000\n",
      "Epoch 26/100\n",
      "\u001b[1m491/491\u001b[0m \u001b[32m━━━━━━━━━━━━━━━━━━━━\u001b[0m\u001b[37m\u001b[0m \u001b[1m2s\u001b[0m 4ms/step - loss: 7.1033 - sparse_top_k_categorical_accuracy: 1.0000 - val_loss: 7.1033 - val_sparse_top_k_categorical_accuracy: 1.0000\n",
      "Epoch 27/100\n",
      "\u001b[1m491/491\u001b[0m \u001b[32m━━━━━━━━━━━━━━━━━━━━\u001b[0m\u001b[37m\u001b[0m \u001b[1m2s\u001b[0m 4ms/step - loss: 7.1035 - sparse_top_k_categorical_accuracy: 1.0000 - val_loss: 7.1033 - val_sparse_top_k_categorical_accuracy: 1.0000\n",
      "Epoch 28/100\n",
      "\u001b[1m491/491\u001b[0m \u001b[32m━━━━━━━━━━━━━━━━━━━━\u001b[0m\u001b[37m\u001b[0m \u001b[1m2s\u001b[0m 4ms/step - loss: 7.1037 - sparse_top_k_categorical_accuracy: 1.0000 - val_loss: 7.1033 - val_sparse_top_k_categorical_accuracy: 1.0000\n",
      "Epoch 29/100\n",
      "\u001b[1m491/491\u001b[0m \u001b[32m━━━━━━━━━━━━━━━━━━━━\u001b[0m\u001b[37m\u001b[0m \u001b[1m2s\u001b[0m 4ms/step - loss: 7.1033 - sparse_top_k_categorical_accuracy: 1.0000 - val_loss: 7.1033 - val_sparse_top_k_categorical_accuracy: 1.0000\n",
      "Epoch 30/100\n",
      "\u001b[1m491/491\u001b[0m \u001b[32m━━━━━━━━━━━━━━━━━━━━\u001b[0m\u001b[37m\u001b[0m \u001b[1m2s\u001b[0m 4ms/step - loss: 7.1033 - sparse_top_k_categorical_accuracy: 1.0000 - val_loss: 7.1033 - val_sparse_top_k_categorical_accuracy: 1.0000\n",
      "Epoch 31/100\n",
      "\u001b[1m491/491\u001b[0m \u001b[32m━━━━━━━━━━━━━━━━━━━━\u001b[0m\u001b[37m\u001b[0m \u001b[1m2s\u001b[0m 4ms/step - loss: 7.1033 - sparse_top_k_categorical_accuracy: 1.0000 - val_loss: 7.1033 - val_sparse_top_k_categorical_accuracy: 1.0000\n",
      "Epoch 32/100\n",
      "\u001b[1m491/491\u001b[0m \u001b[32m━━━━━━━━━━━━━━━━━━━━\u001b[0m\u001b[37m\u001b[0m \u001b[1m2s\u001b[0m 4ms/step - loss: 7.1033 - sparse_top_k_categorical_accuracy: 1.0000 - val_loss: 7.1033 - val_sparse_top_k_categorical_accuracy: 1.0000\n",
      "Epoch 33/100\n",
      "\u001b[1m491/491\u001b[0m \u001b[32m━━━━━━━━━━━━━━━━━━━━\u001b[0m\u001b[37m\u001b[0m \u001b[1m2s\u001b[0m 4ms/step - loss: 7.1065 - sparse_top_k_categorical_accuracy: 1.0000 - val_loss: 7.1033 - val_sparse_top_k_categorical_accuracy: 1.0000\n",
      "Epoch 34/100\n",
      "\u001b[1m491/491\u001b[0m \u001b[32m━━━━━━━━━━━━━━━━━━━━\u001b[0m\u001b[37m\u001b[0m \u001b[1m2s\u001b[0m 4ms/step - loss: 7.1113 - sparse_top_k_categorical_accuracy: 0.9999 - val_loss: 7.1033 - val_sparse_top_k_categorical_accuracy: 1.0000\n",
      "Epoch 35/100\n",
      "\u001b[1m491/491\u001b[0m \u001b[32m━━━━━━━━━━━━━━━━━━━━\u001b[0m\u001b[37m\u001b[0m \u001b[1m2s\u001b[0m 4ms/step - loss: 7.1051 - sparse_top_k_categorical_accuracy: 1.0000 - val_loss: 7.1033 - val_sparse_top_k_categorical_accuracy: 1.0000\n",
      "Epoch 36/100\n",
      "\u001b[1m491/491\u001b[0m \u001b[32m━━━━━━━━━━━━━━━━━━━━\u001b[0m\u001b[37m\u001b[0m \u001b[1m2s\u001b[0m 4ms/step - loss: 7.1036 - sparse_top_k_categorical_accuracy: 1.0000 - val_loss: 7.1033 - val_sparse_top_k_categorical_accuracy: 1.0000\n",
      "Epoch 37/100\n",
      "\u001b[1m491/491\u001b[0m \u001b[32m━━━━━━━━━━━━━━━━━━━━\u001b[0m\u001b[37m\u001b[0m \u001b[1m2s\u001b[0m 4ms/step - loss: 7.1034 - sparse_top_k_categorical_accuracy: 1.0000 - val_loss: 7.1033 - val_sparse_top_k_categorical_accuracy: 1.0000\n",
      "Epoch 38/100\n",
      "\u001b[1m491/491\u001b[0m \u001b[32m━━━━━━━━━━━━━━━━━━━━\u001b[0m\u001b[37m\u001b[0m \u001b[1m2s\u001b[0m 4ms/step - loss: 7.1049 - sparse_top_k_categorical_accuracy: 1.0000 - val_loss: 7.1033 - val_sparse_top_k_categorical_accuracy: 1.0000\n",
      "Epoch 39/100\n",
      "\u001b[1m491/491\u001b[0m \u001b[32m━━━━━━━━━━━━━━━━━━━━\u001b[0m\u001b[37m\u001b[0m \u001b[1m2s\u001b[0m 4ms/step - loss: 7.1037 - sparse_top_k_categorical_accuracy: 1.0000 - val_loss: 7.1033 - val_sparse_top_k_categorical_accuracy: 1.0000\n",
      "Epoch 40/100\n",
      "\u001b[1m491/491\u001b[0m \u001b[32m━━━━━━━━━━━━━━━━━━━━\u001b[0m\u001b[37m\u001b[0m \u001b[1m2s\u001b[0m 4ms/step - loss: 7.1033 - sparse_top_k_categorical_accuracy: 1.0000 - val_loss: 7.1033 - val_sparse_top_k_categorical_accuracy: 1.0000\n",
      "Epoch 41/100\n",
      "\u001b[1m491/491\u001b[0m \u001b[32m━━━━━━━━━━━━━━━━━━━━\u001b[0m\u001b[37m\u001b[0m \u001b[1m2s\u001b[0m 4ms/step - loss: 7.1035 - sparse_top_k_categorical_accuracy: 1.0000 - val_loss: 7.1033 - val_sparse_top_k_categorical_accuracy: 1.0000\n",
      "Epoch 42/100\n",
      "\u001b[1m491/491\u001b[0m \u001b[32m━━━━━━━━━━━━━━━━━━━━\u001b[0m\u001b[37m\u001b[0m \u001b[1m2s\u001b[0m 4ms/step - loss: 7.1039 - sparse_top_k_categorical_accuracy: 1.0000 - val_loss: 7.1033 - val_sparse_top_k_categorical_accuracy: 1.0000\n",
      "Epoch 43/100\n",
      "\u001b[1m491/491\u001b[0m \u001b[32m━━━━━━━━━━━━━━━━━━━━\u001b[0m\u001b[37m\u001b[0m \u001b[1m2s\u001b[0m 4ms/step - loss: 7.1036 - sparse_top_k_categorical_accuracy: 1.0000 - val_loss: 7.1033 - val_sparse_top_k_categorical_accuracy: 1.0000\n",
      "Epoch 44/100\n",
      "\u001b[1m491/491\u001b[0m \u001b[32m━━━━━━━━━━━━━━━━━━━━\u001b[0m\u001b[37m\u001b[0m \u001b[1m2s\u001b[0m 4ms/step - loss: 7.1037 - sparse_top_k_categorical_accuracy: 1.0000 - val_loss: 7.1033 - val_sparse_top_k_categorical_accuracy: 1.0000\n",
      "Epoch 45/100\n",
      "\u001b[1m491/491\u001b[0m \u001b[32m━━━━━━━━━━━━━━━━━━━━\u001b[0m\u001b[37m\u001b[0m \u001b[1m2s\u001b[0m 4ms/step - loss: 7.1033 - sparse_top_k_categorical_accuracy: 1.0000 - val_loss: 7.1033 - val_sparse_top_k_categorical_accuracy: 1.0000\n",
      "Epoch 46/100\n",
      "\u001b[1m491/491\u001b[0m \u001b[32m━━━━━━━━━━━━━━━━━━━━\u001b[0m\u001b[37m\u001b[0m \u001b[1m2s\u001b[0m 4ms/step - loss: 7.1033 - sparse_top_k_categorical_accuracy: 1.0000 - val_loss: 7.1033 - val_sparse_top_k_categorical_accuracy: 1.0000\n",
      "Epoch 47/100\n",
      "\u001b[1m491/491\u001b[0m \u001b[32m━━━━━━━━━━━━━━━━━━━━\u001b[0m\u001b[37m\u001b[0m \u001b[1m2s\u001b[0m 4ms/step - loss: 7.1033 - sparse_top_k_categorical_accuracy: 1.0000 - val_loss: 7.1033 - val_sparse_top_k_categorical_accuracy: 1.0000\n",
      "Epoch 48/100\n",
      "\u001b[1m491/491\u001b[0m \u001b[32m━━━━━━━━━━━━━━━━━━━━\u001b[0m\u001b[37m\u001b[0m \u001b[1m2s\u001b[0m 4ms/step - loss: 7.1033 - sparse_top_k_categorical_accuracy: 1.0000 - val_loss: 7.1033 - val_sparse_top_k_categorical_accuracy: 1.0000\n",
      "Epoch 49/100\n",
      "\u001b[1m491/491\u001b[0m \u001b[32m━━━━━━━━━━━━━━━━━━━━\u001b[0m\u001b[37m\u001b[0m \u001b[1m2s\u001b[0m 4ms/step - loss: 7.1033 - sparse_top_k_categorical_accuracy: 1.0000 - val_loss: 7.1033 - val_sparse_top_k_categorical_accuracy: 1.0000\n",
      "Epoch 50/100\n",
      "\u001b[1m491/491\u001b[0m \u001b[32m━━━━━━━━━━━━━━━━━━━━\u001b[0m\u001b[37m\u001b[0m \u001b[1m2s\u001b[0m 4ms/step - loss: 7.1044 - sparse_top_k_categorical_accuracy: 1.0000 - val_loss: 7.1033 - val_sparse_top_k_categorical_accuracy: 1.0000\n",
      "Epoch 51/100\n",
      "\u001b[1m491/491\u001b[0m \u001b[32m━━━━━━━━━━━━━━━━━━━━\u001b[0m\u001b[37m\u001b[0m \u001b[1m2s\u001b[0m 4ms/step - loss: 7.1055 - sparse_top_k_categorical_accuracy: 0.9998 - val_loss: 7.1033 - val_sparse_top_k_categorical_accuracy: 1.0000\n",
      "Epoch 52/100\n",
      "\u001b[1m491/491\u001b[0m \u001b[32m━━━━━━━━━━━━━━━━━━━━\u001b[0m\u001b[37m\u001b[0m \u001b[1m2s\u001b[0m 4ms/step - loss: 7.1033 - sparse_top_k_categorical_accuracy: 1.0000 - val_loss: 7.1033 - val_sparse_top_k_categorical_accuracy: 1.0000\n",
      "Epoch 53/100\n",
      "\u001b[1m491/491\u001b[0m \u001b[32m━━━━━━━━━━━━━━━━━━━━\u001b[0m\u001b[37m\u001b[0m \u001b[1m2s\u001b[0m 4ms/step - loss: 7.1033 - sparse_top_k_categorical_accuracy: 1.0000 - val_loss: 7.1033 - val_sparse_top_k_categorical_accuracy: 1.0000\n",
      "Epoch 54/100\n",
      "\u001b[1m491/491\u001b[0m \u001b[32m━━━━━━━━━━━━━━━━━━━━\u001b[0m\u001b[37m\u001b[0m \u001b[1m2s\u001b[0m 4ms/step - loss: 7.1056 - sparse_top_k_categorical_accuracy: 1.0000 - val_loss: 7.1033 - val_sparse_top_k_categorical_accuracy: 1.0000\n",
      "Epoch 55/100\n",
      "\u001b[1m491/491\u001b[0m \u001b[32m━━━━━━━━━━━━━━━━━━━━\u001b[0m\u001b[37m\u001b[0m \u001b[1m2s\u001b[0m 4ms/step - loss: 7.1033 - sparse_top_k_categorical_accuracy: 1.0000 - val_loss: 7.1033 - val_sparse_top_k_categorical_accuracy: 1.0000\n",
      "Epoch 56/100\n",
      "\u001b[1m491/491\u001b[0m \u001b[32m━━━━━━━━━━━━━━━━━━━━\u001b[0m\u001b[37m\u001b[0m \u001b[1m2s\u001b[0m 4ms/step - loss: 7.1033 - sparse_top_k_categorical_accuracy: 1.0000 - val_loss: 7.1033 - val_sparse_top_k_categorical_accuracy: 1.0000\n",
      "Epoch 57/100\n",
      "\u001b[1m491/491\u001b[0m \u001b[32m━━━━━━━━━━━━━━━━━━━━\u001b[0m\u001b[37m\u001b[0m \u001b[1m2s\u001b[0m 4ms/step - loss: 7.1033 - sparse_top_k_categorical_accuracy: 1.0000 - val_loss: 7.1033 - val_sparse_top_k_categorical_accuracy: 1.0000\n",
      "Epoch 58/100\n",
      "\u001b[1m491/491\u001b[0m \u001b[32m━━━━━━━━━━━━━━━━━━━━\u001b[0m\u001b[37m\u001b[0m \u001b[1m2s\u001b[0m 5ms/step - loss: 7.1033 - sparse_top_k_categorical_accuracy: 1.0000 - val_loss: 7.1033 - val_sparse_top_k_categorical_accuracy: 1.0000\n",
      "Epoch 59/100\n",
      "\u001b[1m491/491\u001b[0m \u001b[32m━━━━━━━━━━━━━━━━━━━━\u001b[0m\u001b[37m\u001b[0m \u001b[1m2s\u001b[0m 4ms/step - loss: 7.1034 - sparse_top_k_categorical_accuracy: 1.0000 - val_loss: 7.1033 - val_sparse_top_k_categorical_accuracy: 1.0000\n",
      "Epoch 60/100\n",
      "\u001b[1m491/491\u001b[0m \u001b[32m━━━━━━━━━━━━━━━━━━━━\u001b[0m\u001b[37m\u001b[0m \u001b[1m2s\u001b[0m 4ms/step - loss: 7.1035 - sparse_top_k_categorical_accuracy: 1.0000 - val_loss: 7.1033 - val_sparse_top_k_categorical_accuracy: 1.0000\n",
      "Epoch 61/100\n",
      "\u001b[1m491/491\u001b[0m \u001b[32m━━━━━━━━━━━━━━━━━━━━\u001b[0m\u001b[37m\u001b[0m \u001b[1m2s\u001b[0m 4ms/step - loss: 7.1033 - sparse_top_k_categorical_accuracy: 1.0000 - val_loss: 7.1033 - val_sparse_top_k_categorical_accuracy: 1.0000\n",
      "Epoch 62/100\n",
      "\u001b[1m491/491\u001b[0m \u001b[32m━━━━━━━━━━━━━━━━━━━━\u001b[0m\u001b[37m\u001b[0m \u001b[1m2s\u001b[0m 4ms/step - loss: 7.1033 - sparse_top_k_categorical_accuracy: 1.0000 - val_loss: 7.1033 - val_sparse_top_k_categorical_accuracy: 1.0000\n",
      "Epoch 63/100\n",
      "\u001b[1m491/491\u001b[0m \u001b[32m━━━━━━━━━━━━━━━━━━━━\u001b[0m\u001b[37m\u001b[0m \u001b[1m2s\u001b[0m 4ms/step - loss: 7.1033 - sparse_top_k_categorical_accuracy: 1.0000 - val_loss: 7.1033 - val_sparse_top_k_categorical_accuracy: 1.0000\n",
      "Epoch 64/100\n",
      "\u001b[1m491/491\u001b[0m \u001b[32m━━━━━━━━━━━━━━━━━━━━\u001b[0m\u001b[37m\u001b[0m \u001b[1m2s\u001b[0m 4ms/step - loss: 7.1033 - sparse_top_k_categorical_accuracy: 1.0000 - val_loss: 7.1033 - val_sparse_top_k_categorical_accuracy: 1.0000\n",
      "Epoch 65/100\n",
      "\u001b[1m491/491\u001b[0m \u001b[32m━━━━━━━━━━━━━━━━━━━━\u001b[0m\u001b[37m\u001b[0m \u001b[1m2s\u001b[0m 5ms/step - loss: 7.1033 - sparse_top_k_categorical_accuracy: 1.0000 - val_loss: 7.1033 - val_sparse_top_k_categorical_accuracy: 1.0000\n",
      "Epoch 66/100\n",
      "\u001b[1m491/491\u001b[0m \u001b[32m━━━━━━━━━━━━━━━━━━━━\u001b[0m\u001b[37m\u001b[0m \u001b[1m2s\u001b[0m 5ms/step - loss: 7.1033 - sparse_top_k_categorical_accuracy: 1.0000 - val_loss: 7.1033 - val_sparse_top_k_categorical_accuracy: 1.0000\n",
      "Epoch 67/100\n",
      "\u001b[1m491/491\u001b[0m \u001b[32m━━━━━━━━━━━━━━━━━━━━\u001b[0m\u001b[37m\u001b[0m \u001b[1m2s\u001b[0m 4ms/step - loss: 7.1033 - sparse_top_k_categorical_accuracy: 1.0000 - val_loss: 7.1033 - val_sparse_top_k_categorical_accuracy: 1.0000\n",
      "Epoch 68/100\n",
      "\u001b[1m491/491\u001b[0m \u001b[32m━━━━━━━━━━━━━━━━━━━━\u001b[0m\u001b[37m\u001b[0m \u001b[1m2s\u001b[0m 4ms/step - loss: 7.1033 - sparse_top_k_categorical_accuracy: 1.0000 - val_loss: 7.1033 - val_sparse_top_k_categorical_accuracy: 1.0000\n",
      "Epoch 69/100\n",
      "\u001b[1m491/491\u001b[0m \u001b[32m━━━━━━━━━━━━━━━━━━━━\u001b[0m\u001b[37m\u001b[0m \u001b[1m2s\u001b[0m 4ms/step - loss: 7.1033 - sparse_top_k_categorical_accuracy: 1.0000 - val_loss: 7.1033 - val_sparse_top_k_categorical_accuracy: 1.0000\n",
      "Epoch 70/100\n",
      "\u001b[1m491/491\u001b[0m \u001b[32m━━━━━━━━━━━━━━━━━━━━\u001b[0m\u001b[37m\u001b[0m \u001b[1m2s\u001b[0m 4ms/step - loss: 7.1033 - sparse_top_k_categorical_accuracy: 1.0000 - val_loss: 7.1033 - val_sparse_top_k_categorical_accuracy: 1.0000\n",
      "Epoch 71/100\n",
      "\u001b[1m491/491\u001b[0m \u001b[32m━━━━━━━━━━━━━━━━━━━━\u001b[0m\u001b[37m\u001b[0m \u001b[1m2s\u001b[0m 4ms/step - loss: 7.1033 - sparse_top_k_categorical_accuracy: 1.0000 - val_loss: 7.1033 - val_sparse_top_k_categorical_accuracy: 1.0000\n",
      "Epoch 72/100\n",
      "\u001b[1m491/491\u001b[0m \u001b[32m━━━━━━━━━━━━━━━━━━━━\u001b[0m\u001b[37m\u001b[0m \u001b[1m2s\u001b[0m 5ms/step - loss: 7.1033 - sparse_top_k_categorical_accuracy: 1.0000 - val_loss: 7.1033 - val_sparse_top_k_categorical_accuracy: 1.0000\n",
      "Epoch 73/100\n",
      "\u001b[1m491/491\u001b[0m \u001b[32m━━━━━━━━━━━━━━━━━━━━\u001b[0m\u001b[37m\u001b[0m \u001b[1m2s\u001b[0m 4ms/step - loss: 7.1033 - sparse_top_k_categorical_accuracy: 1.0000 - val_loss: 7.1033 - val_sparse_top_k_categorical_accuracy: 1.0000\n",
      "Epoch 74/100\n",
      "\u001b[1m491/491\u001b[0m \u001b[32m━━━━━━━━━━━━━━━━━━━━\u001b[0m\u001b[37m\u001b[0m \u001b[1m2s\u001b[0m 5ms/step - loss: 7.1033 - sparse_top_k_categorical_accuracy: 1.0000 - val_loss: 7.1033 - val_sparse_top_k_categorical_accuracy: 1.0000\n",
      "Epoch 75/100\n",
      "\u001b[1m491/491\u001b[0m \u001b[32m━━━━━━━━━━━━━━━━━━━━\u001b[0m\u001b[37m\u001b[0m \u001b[1m2s\u001b[0m 4ms/step - loss: 7.1033 - sparse_top_k_categorical_accuracy: 1.0000 - val_loss: 7.1033 - val_sparse_top_k_categorical_accuracy: 1.0000\n",
      "Epoch 76/100\n",
      "\u001b[1m491/491\u001b[0m \u001b[32m━━━━━━━━━━━━━━━━━━━━\u001b[0m\u001b[37m\u001b[0m \u001b[1m2s\u001b[0m 5ms/step - loss: 7.1033 - sparse_top_k_categorical_accuracy: 1.0000 - val_loss: 7.1033 - val_sparse_top_k_categorical_accuracy: 1.0000\n",
      "Epoch 77/100\n",
      "\u001b[1m491/491\u001b[0m \u001b[32m━━━━━━━━━━━━━━━━━━━━\u001b[0m\u001b[37m\u001b[0m \u001b[1m2s\u001b[0m 4ms/step - loss: 7.1034 - sparse_top_k_categorical_accuracy: 1.0000 - val_loss: 7.1033 - val_sparse_top_k_categorical_accuracy: 1.0000\n",
      "Epoch 78/100\n",
      "\u001b[1m491/491\u001b[0m \u001b[32m━━━━━━━━━━━━━━━━━━━━\u001b[0m\u001b[37m\u001b[0m \u001b[1m2s\u001b[0m 4ms/step - loss: 7.1033 - sparse_top_k_categorical_accuracy: 1.0000 - val_loss: 7.1033 - val_sparse_top_k_categorical_accuracy: 1.0000\n",
      "Epoch 79/100\n",
      "\u001b[1m491/491\u001b[0m \u001b[32m━━━━━━━━━━━━━━━━━━━━\u001b[0m\u001b[37m\u001b[0m \u001b[1m2s\u001b[0m 4ms/step - loss: 7.1049 - sparse_top_k_categorical_accuracy: 1.0000 - val_loss: 7.1033 - val_sparse_top_k_categorical_accuracy: 1.0000\n",
      "Epoch 80/100\n",
      "\u001b[1m491/491\u001b[0m \u001b[32m━━━━━━━━━━━━━━━━━━━━\u001b[0m\u001b[37m\u001b[0m \u001b[1m2s\u001b[0m 4ms/step - loss: 7.1033 - sparse_top_k_categorical_accuracy: 1.0000 - val_loss: 7.1033 - val_sparse_top_k_categorical_accuracy: 1.0000\n",
      "Epoch 81/100\n",
      "\u001b[1m491/491\u001b[0m \u001b[32m━━━━━━━━━━━━━━━━━━━━\u001b[0m\u001b[37m\u001b[0m \u001b[1m2s\u001b[0m 4ms/step - loss: 7.1039 - sparse_top_k_categorical_accuracy: 1.0000 - val_loss: 7.1033 - val_sparse_top_k_categorical_accuracy: 1.0000\n",
      "Epoch 82/100\n",
      "\u001b[1m491/491\u001b[0m \u001b[32m━━━━━━━━━━━━━━━━━━━━\u001b[0m\u001b[37m\u001b[0m \u001b[1m2s\u001b[0m 4ms/step - loss: 7.1033 - sparse_top_k_categorical_accuracy: 1.0000 - val_loss: 7.1033 - val_sparse_top_k_categorical_accuracy: 1.0000\n",
      "Epoch 83/100\n",
      "\u001b[1m491/491\u001b[0m \u001b[32m━━━━━━━━━━━━━━━━━━━━\u001b[0m\u001b[37m\u001b[0m \u001b[1m2s\u001b[0m 4ms/step - loss: 7.1033 - sparse_top_k_categorical_accuracy: 1.0000 - val_loss: 7.1033 - val_sparse_top_k_categorical_accuracy: 1.0000\n",
      "Epoch 84/100\n",
      "\u001b[1m491/491\u001b[0m \u001b[32m━━━━━━━━━━━━━━━━━━━━\u001b[0m\u001b[37m\u001b[0m \u001b[1m2s\u001b[0m 4ms/step - loss: 7.1033 - sparse_top_k_categorical_accuracy: 1.0000 - val_loss: 7.1033 - val_sparse_top_k_categorical_accuracy: 1.0000\n",
      "Epoch 85/100\n",
      "\u001b[1m491/491\u001b[0m \u001b[32m━━━━━━━━━━━━━━━━━━━━\u001b[0m\u001b[37m\u001b[0m \u001b[1m2s\u001b[0m 4ms/step - loss: 7.1033 - sparse_top_k_categorical_accuracy: 1.0000 - val_loss: 7.1033 - val_sparse_top_k_categorical_accuracy: 1.0000\n",
      "Epoch 86/100\n",
      "\u001b[1m491/491\u001b[0m \u001b[32m━━━━━━━━━━━━━━━━━━━━\u001b[0m\u001b[37m\u001b[0m \u001b[1m2s\u001b[0m 5ms/step - loss: 7.1033 - sparse_top_k_categorical_accuracy: 1.0000 - val_loss: 7.1033 - val_sparse_top_k_categorical_accuracy: 1.0000\n",
      "Epoch 87/100\n",
      "\u001b[1m491/491\u001b[0m \u001b[32m━━━━━━━━━━━━━━━━━━━━\u001b[0m\u001b[37m\u001b[0m \u001b[1m2s\u001b[0m 4ms/step - loss: 7.1033 - sparse_top_k_categorical_accuracy: 1.0000 - val_loss: 7.1033 - val_sparse_top_k_categorical_accuracy: 1.0000\n",
      "Epoch 88/100\n",
      "\u001b[1m491/491\u001b[0m \u001b[32m━━━━━━━━━━━━━━━━━━━━\u001b[0m\u001b[37m\u001b[0m \u001b[1m2s\u001b[0m 4ms/step - loss: 7.1033 - sparse_top_k_categorical_accuracy: 1.0000 - val_loss: 7.1033 - val_sparse_top_k_categorical_accuracy: 1.0000\n",
      "Epoch 89/100\n",
      "\u001b[1m491/491\u001b[0m \u001b[32m━━━━━━━━━━━━━━━━━━━━\u001b[0m\u001b[37m\u001b[0m \u001b[1m2s\u001b[0m 4ms/step - loss: 7.1033 - sparse_top_k_categorical_accuracy: 1.0000 - val_loss: 7.1033 - val_sparse_top_k_categorical_accuracy: 1.0000\n",
      "Epoch 90/100\n",
      "\u001b[1m491/491\u001b[0m \u001b[32m━━━━━━━━━━━━━━━━━━━━\u001b[0m\u001b[37m\u001b[0m \u001b[1m2s\u001b[0m 4ms/step - loss: 7.1033 - sparse_top_k_categorical_accuracy: 1.0000 - val_loss: 7.1033 - val_sparse_top_k_categorical_accuracy: 1.0000\n",
      "Epoch 91/100\n",
      "\u001b[1m491/491\u001b[0m \u001b[32m━━━━━━━━━━━━━━━━━━━━\u001b[0m\u001b[37m\u001b[0m \u001b[1m2s\u001b[0m 4ms/step - loss: 7.1033 - sparse_top_k_categorical_accuracy: 1.0000 - val_loss: 7.1033 - val_sparse_top_k_categorical_accuracy: 1.0000\n",
      "Epoch 92/100\n",
      "\u001b[1m491/491\u001b[0m \u001b[32m━━━━━━━━━━━━━━━━━━━━\u001b[0m\u001b[37m\u001b[0m \u001b[1m2s\u001b[0m 5ms/step - loss: 7.1033 - sparse_top_k_categorical_accuracy: 1.0000 - val_loss: 7.1033 - val_sparse_top_k_categorical_accuracy: 1.0000\n",
      "Epoch 93/100\n",
      "\u001b[1m491/491\u001b[0m \u001b[32m━━━━━━━━━━━━━━━━━━━━\u001b[0m\u001b[37m\u001b[0m \u001b[1m2s\u001b[0m 4ms/step - loss: 7.1033 - sparse_top_k_categorical_accuracy: 1.0000 - val_loss: 7.1033 - val_sparse_top_k_categorical_accuracy: 1.0000\n",
      "Epoch 94/100\n",
      "\u001b[1m491/491\u001b[0m \u001b[32m━━━━━━━━━━━━━━━━━━━━\u001b[0m\u001b[37m\u001b[0m \u001b[1m2s\u001b[0m 5ms/step - loss: 7.1033 - sparse_top_k_categorical_accuracy: 1.0000 - val_loss: 7.1033 - val_sparse_top_k_categorical_accuracy: 1.0000\n",
      "Epoch 95/100\n",
      "\u001b[1m491/491\u001b[0m \u001b[32m━━━━━━━━━━━━━━━━━━━━\u001b[0m\u001b[37m\u001b[0m \u001b[1m2s\u001b[0m 5ms/step - loss: 7.1076 - sparse_top_k_categorical_accuracy: 0.9997 - val_loss: 7.1033 - val_sparse_top_k_categorical_accuracy: 1.0000\n",
      "Epoch 96/100\n",
      "\u001b[1m491/491\u001b[0m \u001b[32m━━━━━━━━━━━━━━━━━━━━\u001b[0m\u001b[37m\u001b[0m \u001b[1m2s\u001b[0m 5ms/step - loss: 7.1039 - sparse_top_k_categorical_accuracy: 1.0000 - val_loss: 7.1033 - val_sparse_top_k_categorical_accuracy: 1.0000\n",
      "Epoch 97/100\n",
      "\u001b[1m491/491\u001b[0m \u001b[32m━━━━━━━━━━━━━━━━━━━━\u001b[0m\u001b[37m\u001b[0m \u001b[1m2s\u001b[0m 5ms/step - loss: 7.1033 - sparse_top_k_categorical_accuracy: 1.0000 - val_loss: 7.1033 - val_sparse_top_k_categorical_accuracy: 1.0000\n",
      "Epoch 98/100\n",
      "\u001b[1m491/491\u001b[0m \u001b[32m━━━━━━━━━━━━━━━━━━━━\u001b[0m\u001b[37m\u001b[0m \u001b[1m2s\u001b[0m 4ms/step - loss: 7.1033 - sparse_top_k_categorical_accuracy: 1.0000 - val_loss: 7.1033 - val_sparse_top_k_categorical_accuracy: 1.0000\n",
      "Epoch 99/100\n",
      "\u001b[1m491/491\u001b[0m \u001b[32m━━━━━━━━━━━━━━━━━━━━\u001b[0m\u001b[37m\u001b[0m \u001b[1m2s\u001b[0m 4ms/step - loss: 7.1033 - sparse_top_k_categorical_accuracy: 1.0000 - val_loss: 7.1033 - val_sparse_top_k_categorical_accuracy: 1.0000\n",
      "Epoch 100/100\n",
      "\u001b[1m491/491\u001b[0m \u001b[32m━━━━━━━━━━━━━━━━━━━━\u001b[0m\u001b[37m\u001b[0m \u001b[1m2s\u001b[0m 4ms/step - loss: 7.1040 - sparse_top_k_categorical_accuracy: 0.9999 - val_loss: 7.1033 - val_sparse_top_k_categorical_accuracy: 1.0000\n"
     ]
    }
   ],
   "source": [
    "best_hps = tuner.get_best_hyperparameters(num_trials=1)[0]\n",
    "model = tuner.hypermodel.build(best_hps)\n",
    "history = model.fit(x_train, y_train, epochs=100, batch_size=16, verbose=1, validation_data=(x_test, y_test))"
   ]
  },
  {
   "cell_type": "markdown",
   "metadata": {},
   "source": [
    "Storing the history of training into variables"
   ]
  },
  {
   "cell_type": "code",
   "execution_count": 28,
   "metadata": {},
   "outputs": [],
   "source": [
    "train_loss = history.history['loss']\n",
    "val_loss = history.history['val_loss']\n",
    "# train_accuracy = history.history['accuracy']\n",
    "# val_accuracy = history.history['val_accuracy']\n",
    "train_accuracy = history.history['sparse_top_k_categorical_accuracy']\n",
    "val_accuracy = history.history['val_sparse_top_k_categorical_accuracy']\n",
    "\n",
    "epochs = range(1, len(train_loss) + 1)"
   ]
  },
  {
   "cell_type": "markdown",
   "metadata": {},
   "source": [
    "Plotting a result graph "
   ]
  },
  {
   "cell_type": "code",
   "execution_count": 29,
   "metadata": {},
   "outputs": [
    {
     "data": {
      "image/png": "[encoded data removed]",
      "text/plain": [
       "<Figure size 1200x600 with 2 Axes>"
      ]
     },
     "metadata": {},
     "output_type": "display_data"
    }
   ],
   "source": [
    "import matplotlib.pyplot as plt\n",
    "\n",
    "plt.figure(figsize=(12, 6))\n",
    "\n",
    "# Loss\n",
    "plt.subplot(1, 2, 1)\n",
    "plt.plot(epochs, train_loss, label='Training Loss')\n",
    "plt.plot(epochs, val_loss, label='Validation Loss')\n",
    "plt.title('Loss During Training and Validation')\n",
    "plt.xlabel('Epochs')\n",
    "plt.ylabel('Loss')\n",
    "plt.legend()\n",
    "\n",
    "# Accuracy\n",
    "plt.subplot(1, 2, 2)\n",
    "plt.plot(epochs, train_accuracy, label='Training Accuracy')\n",
    "plt.plot(epochs, val_accuracy, label='Validation Accuracy')\n",
    "plt.title('Accuracy During Training and Validation')\n",
    "plt.xlabel('Epochs')\n",
    "plt.ylabel('Accuracy')\n",
    "plt.legend()\n",
    "\n",
    "plt.tight_layout()\n",
    "plt.show()"
   ]
  },
  {
   "cell_type": "markdown",
   "metadata": {},
   "source": [
    "Saving the hyperparameters"
   ]
  },
  {
   "cell_type": "code",
   "execution_count": 30,
   "metadata": {},
   "outputs": [],
   "source": [
    "import configparser\n",
    "\n",
    "# Create a ConfigParser instance\n",
    "config = configparser.ConfigParser()\n",
    "\n",
    "# Add a section for hyperparameters\n",
    "config.add_section('Hyperparameters')\n",
    "\n",
    "# Store the best hyperparameters in the section\n",
    "config.set('Hyperparameters', 'embedding_dim', str(best_hps.get('embedding_dim')))\n",
    "config.set('Hyperparameters', 'lstm_units', str(best_hps.get('lstm_units')))\n",
    "config.set('Hyperparameters', 'activation', str(best_hps.get('activation')))\n",
    "config.set('Hyperparameters', 'dropout_rate', str(best_hps.get('dropout_rate')))\n",
    "config.set('Hyperparameters', 'learning_rate', str(best_hps.get('learning_rate')))\n",
    "config.set('Hyperparameters', 'batch_size', str(best_hps.get('batch_size')))\n",
    "config.set('Hyperparameters', 'top_k', str(best_hps.get('top_k')))\n",
    "\n",
    "# Write the configuration to a file\n",
    "with open('best_hyperparameters.ini', 'w') as configfile:\n",
    "    config.write(configfile)\n"
   ]
  },
  {
   "cell_type": "markdown",
   "metadata": {},
   "source": [
    "Testing parameter loading"
   ]
  },
  {
   "cell_type": "code",
   "execution_count": 31,
   "metadata": {},
   "outputs": [
    {
     "name": "stdout",
     "output_type": "stream",
     "text": [
      "embedding_dim: 128\n",
      "lstm_units: 64\n",
      "dropout_rate: 0.30000000000000004\n",
      "learning_rate: 0.01\n",
      "batch_size: 16\n"
     ]
    }
   ],
   "source": [
    "################\n",
    "# reading \n",
    "################\n",
    "config = configparser.ConfigParser()\n",
    "config.read('best_hyperparameters.ini')\n",
    "\n",
    "# Access hyperparameters\n",
    "embedding_dim = config.getint('Hyperparameters', 'embedding_dim')\n",
    "lstm_units = config.getint('Hyperparameters', 'lstm_units')\n",
    "dropout_rate = config.getfloat('Hyperparameters', 'dropout_rate')\n",
    "learning_rate = config.getfloat('Hyperparameters', 'learning_rate')\n",
    "batch_size = config.getint('Hyperparameters', 'batch_size')\n",
    "\n",
    "print(f\"embedding_dim: {embedding_dim}\")\n",
    "print(f\"lstm_units: {lstm_units}\")\n",
    "print(f\"dropout_rate: {dropout_rate}\")\n",
    "print(f\"learning_rate: {learning_rate}\")\n",
    "print(f\"batch_size: {batch_size}\")\n"
   ]
  },
  {
   "cell_type": "markdown",
   "metadata": {},
   "source": [
    "Parameters dictionnary"
   ]
  },
  {
   "cell_type": "markdown",
   "metadata": {},
   "source": [
    "Creating kerasClassifier to wrapp our model "
   ]
  },
  {
   "cell_type": "markdown",
   "metadata": {},
   "source": [
    "RandomSearchCV from best parameters"
   ]
  },
  {
   "cell_type": "markdown",
   "metadata": {},
   "source": [
    "Fitting to data"
   ]
  },
  {
   "cell_type": "markdown",
   "metadata": {},
   "source": [
    "Extraction statistics"
   ]
  },
  {
   "cell_type": "markdown",
   "metadata": {},
   "source": [
    "Graphs"
   ]
  },
  {
   "cell_type": "markdown",
   "metadata": {},
   "source": [
    "Saving the model"
   ]
  },
  {
   "cell_type": "markdown",
   "metadata": {},
   "source": [
    "Saving the tokenizer"
   ]
  }
 ],
 "metadata": {
  "kernelspec": {
   "display_name": ".lstm",
   "language": "python",
   "name": "python3"
  },
  "language_info": {
   "codemirror_mode": {
    "name": "ipython",
    "version": 3
   },
   "file_extension": ".py",
   "mimetype": "text/x-python",
   "name": "python",
   "nbconvert_exporter": "python",
   "pygments_lexer": "ipython3",
   "version": "3.12.3"
  }
 },
 "nbformat": 4,
 "nbformat_minor": 2
}
