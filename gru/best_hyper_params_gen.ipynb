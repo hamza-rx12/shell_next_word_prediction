{
 "cells": [
  {
   "cell_type": "markdown",
   "metadata": {},
   "source": [
    "Some libraries to import"
   ]
  },
  {
   "cell_type": "code",
   "execution_count": 5,
   "metadata": {},
   "outputs": [],
   "source": [
    "import tensorflow as tf\n",
    "from tensorflow.keras.preprocessing.text import Tokenizer\n",
    "from tensorflow.keras.preprocessing.sequence import pad_sequences\n",
    "from tensorflow.keras.models import Sequential\n",
    "from tensorflow.keras.layers import Embedding, GRU, Dense, Dropout\n",
    "from sklearn.model_selection import train_test_split\n",
    "import numpy as np\n",
    "import keras_tuner as kt"
   ]
  },
  {
   "cell_type": "markdown",
   "metadata": {},
   "source": [
    "Choosing to work with the GPU for faster training"
   ]
  },
  {
   "cell_type": "code",
   "execution_count": 6,
   "metadata": {},
   "outputs": [
    {
     "name": "stderr",
     "output_type": "stream",
     "text": [
      "W0000 00:00:1734706021.538435   45167 gpu_device.cc:2344] Cannot dlopen some GPU libraries. Please make sure the missing libraries mentioned above are installed properly if you would like to use GPU. Follow the guide at https://www.tensorflow.org/install/gpu for how to download and setup the required libraries for your platform.\n",
      "Skipping registering GPU devices...\n"
     ]
    }
   ],
   "source": [
    "gpus = tf.config.experimental.list_physical_devices('GPU')\n",
    "if gpus:\n",
    "    try:\n",
    "        tf.config.experimental.set_visible_devices(gpus[0], 'GPU')  # Use only the first GPU\n",
    "    except RuntimeError as e:\n",
    "        print(e)"
   ]
  },
  {
   "cell_type": "markdown",
   "metadata": {},
   "source": [
    "Importing data"
   ]
  },
  {
   "cell_type": "code",
   "execution_count": 7,
   "metadata": {},
   "outputs": [],
   "source": [
    "commands = []\n",
    "\n",
    "with open('data.txt', 'r') as file:\n",
    "    for line in file:\n",
    "      if line:\n",
    "        commands.append(line.strip())\n",
    "\n",
    "# commands"
   ]
  },
  {
   "cell_type": "markdown",
   "metadata": {},
   "source": [
    "Tokenization"
   ]
  },
  {
   "cell_type": "code",
   "execution_count": 8,
   "metadata": {},
   "outputs": [],
   "source": [
    "tokenizer = Tokenizer(filters='')\n",
    "tokenizer.fit_on_texts(commands)"
   ]
  },
  {
   "cell_type": "markdown",
   "metadata": {},
   "source": [
    "Sequencing"
   ]
  },
  {
   "cell_type": "code",
   "execution_count": 9,
   "metadata": {},
   "outputs": [],
   "source": [
    "sequences = tokenizer.texts_to_sequences(commands)\n",
    "word_index = tokenizer.word_index\n",
    "vocab_size = len(word_index) + 1"
   ]
  },
  {
   "cell_type": "markdown",
   "metadata": {},
   "source": [
    "Input Output sequences"
   ]
  },
  {
   "cell_type": "code",
   "execution_count": 10,
   "metadata": {},
   "outputs": [],
   "source": [
    "input_sequences = []\n",
    "target_sequences = []\n",
    "\n",
    "for seq in sequences:\n",
    "    for i in range(1, len(seq)):\n",
    "        input_sequences.append(seq[:i])\n",
    "        target_sequences.append(seq[i])"
   ]
  },
  {
   "cell_type": "markdown",
   "metadata": {},
   "source": [
    "Padding"
   ]
  },
  {
   "cell_type": "code",
   "execution_count": 11,
   "metadata": {},
   "outputs": [],
   "source": [
    "max_seq_len = max(len(seq) for seq in input_sequences)\n",
    "input_sequences = pad_sequences(input_sequences, maxlen=max_seq_len, padding='post')\n",
    "target_sequences = np.array(target_sequences)"
   ]
  },
  {
   "cell_type": "markdown",
   "metadata": {},
   "source": [
    "Train_text spliting"
   ]
  },
  {
   "cell_type": "code",
   "execution_count": 12,
   "metadata": {},
   "outputs": [],
   "source": [
    "x_train, x_test, y_train, y_test = train_test_split(input_sequences,target_sequences, test_size=0.2)"
   ]
  },
  {
   "cell_type": "markdown",
   "metadata": {},
   "source": [
    "Model building function"
   ]
  },
  {
   "cell_type": "code",
   "execution_count": 13,
   "metadata": {},
   "outputs": [],
   "source": [
    "# model = Sequential([\n",
    "#     Embedding(vocab_size, embedding_dim, input_length=max_seq_len),\n",
    "#     GRU(gru_units, return_sequences=False),\n",
    "#     Dropout(0.2),\n",
    "#     Dense(vocab_size, activation='softmax')\n",
    "# ])\n",
    "\n",
    "# model.compile(optimizer='adam', loss='sparse_categorical_crossentropy', metrics=['accuracy'])\n",
    "# model.summary()"
   ]
  },
  {
   "cell_type": "code",
   "execution_count": 14,
   "metadata": {},
   "outputs": [],
   "source": [
    "def my_model(hp):    \n",
    "    model = Sequential([\n",
    "        Embedding(\n",
    "            input_dim=vocab_size, \n",
    "            output_dim=hp.Choice('embedding_dim', [64,128,256])\n",
    "        ),\n",
    "        GRU(\n",
    "            units=hp.Choice('gru_units', [32, 64, 128]), \n",
    "            return_sequences=False\n",
    "        ),\n",
    "        Dropout(\n",
    "            rate=hp.Float('dropout_rate', 0.2, 0.5, step=0.1)\n",
    "        ),\n",
    "        Dense(\n",
    "            vocab_size, \n",
    "            activation=hp.Choice('activation', ['softmax', 'sigmoid'])\n",
    "        )\n",
    "    ])\n",
    "\n",
    "    model.compile(\n",
    "        optimizer=tf.keras.optimizers.Adam(learning_rate=hp.Choice('learning_rate', [1e-2, 1e-3, 1e-4])), \n",
    "        loss='sparse_categorical_crossentropy', \n",
    "        metrics=[tf.keras.metrics.SparseTopKCategoricalAccuracy(k=hp.Choice(\"top_k\", [3, 5]))]\n",
    "    )\n",
    "    model.summary()\n",
    "    return model"
   ]
  },
  {
   "cell_type": "markdown",
   "metadata": {},
   "source": [
    "Tuner initialization"
   ]
  },
  {
   "cell_type": "code",
   "execution_count": 15,
   "metadata": {},
   "outputs": [
    {
     "data": {
      "text/html": [
       "<pre style=\"white-space:pre;overflow-x:auto;line-height:normal;font-family:Menlo,'DejaVu Sans Mono',consolas,'Courier New',monospace\"><span style=\"font-weight: bold\">Model: \"sequential\"</span>\n",
       "</pre>\n"
      ],
      "text/plain": [
       "\u001b[1mModel: \"sequential\"\u001b[0m\n"
      ]
     },
     "metadata": {},
     "output_type": "display_data"
    },
    {
     "data": {
      "text/html": [
       "<pre style=\"white-space:pre;overflow-x:auto;line-height:normal;font-family:Menlo,'DejaVu Sans Mono',consolas,'Courier New',monospace\">┏━━━━━━━━━━━━━━━━━━━━━━━━━━━━━━━━━┳━━━━━━━━━━━━━━━━━━━━━━━━┳━━━━━━━━━━━━━━━┓\n",
       "┃<span style=\"font-weight: bold\"> Layer (type)                    </span>┃<span style=\"font-weight: bold\"> Output Shape           </span>┃<span style=\"font-weight: bold\">       Param # </span>┃\n",
       "┡━━━━━━━━━━━━━━━━━━━━━━━━━━━━━━━━━╇━━━━━━━━━━━━━━━━━━━━━━━━╇━━━━━━━━━━━━━━━┩\n",
       "│ embedding (<span style=\"color: #0087ff; text-decoration-color: #0087ff\">Embedding</span>)           │ ?                      │   <span style=\"color: #00af00; text-decoration-color: #00af00\">0</span> (unbuilt) │\n",
       "├─────────────────────────────────┼────────────────────────┼───────────────┤\n",
       "│ gru (<span style=\"color: #0087ff; text-decoration-color: #0087ff\">GRU</span>)                       │ ?                      │   <span style=\"color: #00af00; text-decoration-color: #00af00\">0</span> (unbuilt) │\n",
       "├─────────────────────────────────┼────────────────────────┼───────────────┤\n",
       "│ dropout (<span style=\"color: #0087ff; text-decoration-color: #0087ff\">Dropout</span>)               │ ?                      │             <span style=\"color: #00af00; text-decoration-color: #00af00\">0</span> │\n",
       "├─────────────────────────────────┼────────────────────────┼───────────────┤\n",
       "│ dense (<span style=\"color: #0087ff; text-decoration-color: #0087ff\">Dense</span>)                   │ ?                      │   <span style=\"color: #00af00; text-decoration-color: #00af00\">0</span> (unbuilt) │\n",
       "└─────────────────────────────────┴────────────────────────┴───────────────┘\n",
       "</pre>\n"
      ],
      "text/plain": [
       "┏━━━━━━━━━━━━━━━━━━━━━━━━━━━━━━━━━┳━━━━━━━━━━━━━━━━━━━━━━━━┳━━━━━━━━━━━━━━━┓\n",
       "┃\u001b[1m \u001b[0m\u001b[1mLayer (type)                   \u001b[0m\u001b[1m \u001b[0m┃\u001b[1m \u001b[0m\u001b[1mOutput Shape          \u001b[0m\u001b[1m \u001b[0m┃\u001b[1m \u001b[0m\u001b[1m      Param #\u001b[0m\u001b[1m \u001b[0m┃\n",
       "┡━━━━━━━━━━━━━━━━━━━━━━━━━━━━━━━━━╇━━━━━━━━━━━━━━━━━━━━━━━━╇━━━━━━━━━━━━━━━┩\n",
       "│ embedding (\u001b[38;5;33mEmbedding\u001b[0m)           │ ?                      │   \u001b[38;5;34m0\u001b[0m (unbuilt) │\n",
       "├─────────────────────────────────┼────────────────────────┼───────────────┤\n",
       "│ gru (\u001b[38;5;33mGRU\u001b[0m)                       │ ?                      │   \u001b[38;5;34m0\u001b[0m (unbuilt) │\n",
       "├─────────────────────────────────┼────────────────────────┼───────────────┤\n",
       "│ dropout (\u001b[38;5;33mDropout\u001b[0m)               │ ?                      │             \u001b[38;5;34m0\u001b[0m │\n",
       "├─────────────────────────────────┼────────────────────────┼───────────────┤\n",
       "│ dense (\u001b[38;5;33mDense\u001b[0m)                   │ ?                      │   \u001b[38;5;34m0\u001b[0m (unbuilt) │\n",
       "└─────────────────────────────────┴────────────────────────┴───────────────┘\n"
      ]
     },
     "metadata": {},
     "output_type": "display_data"
    },
    {
     "data": {
      "text/html": [
       "<pre style=\"white-space:pre;overflow-x:auto;line-height:normal;font-family:Menlo,'DejaVu Sans Mono',consolas,'Courier New',monospace\"><span style=\"font-weight: bold\"> Total params: </span><span style=\"color: #00af00; text-decoration-color: #00af00\">0</span> (0.00 B)\n",
       "</pre>\n"
      ],
      "text/plain": [
       "\u001b[1m Total params: \u001b[0m\u001b[38;5;34m0\u001b[0m (0.00 B)\n"
      ]
     },
     "metadata": {},
     "output_type": "display_data"
    },
    {
     "data": {
      "text/html": [
       "<pre style=\"white-space:pre;overflow-x:auto;line-height:normal;font-family:Menlo,'DejaVu Sans Mono',consolas,'Courier New',monospace\"><span style=\"font-weight: bold\"> Trainable params: </span><span style=\"color: #00af00; text-decoration-color: #00af00\">0</span> (0.00 B)\n",
       "</pre>\n"
      ],
      "text/plain": [
       "\u001b[1m Trainable params: \u001b[0m\u001b[38;5;34m0\u001b[0m (0.00 B)\n"
      ]
     },
     "metadata": {},
     "output_type": "display_data"
    },
    {
     "data": {
      "text/html": [
       "<pre style=\"white-space:pre;overflow-x:auto;line-height:normal;font-family:Menlo,'DejaVu Sans Mono',consolas,'Courier New',monospace\"><span style=\"font-weight: bold\"> Non-trainable params: </span><span style=\"color: #00af00; text-decoration-color: #00af00\">0</span> (0.00 B)\n",
       "</pre>\n"
      ],
      "text/plain": [
       "\u001b[1m Non-trainable params: \u001b[0m\u001b[38;5;34m0\u001b[0m (0.00 B)\n"
      ]
     },
     "metadata": {},
     "output_type": "display_data"
    }
   ],
   "source": [
    "tuner = kt.Hyperband(\n",
    "    my_model,\n",
    "    objective=kt.Objective(\"val_sparse_top_k_categorical_accuracy\", direction=\"max\"),\n",
    "    max_epochs=60,\n",
    "    factor=3,\n",
    "    directory='my_dir2',\n",
    "    project_name='command_completion'\n",
    ")\n"
   ]
  },
  {
   "cell_type": "markdown",
   "metadata": {},
   "source": [
    "Early Stopping callback"
   ]
  },
  {
   "cell_type": "code",
   "execution_count": 16,
   "metadata": {},
   "outputs": [],
   "source": [
    "stop_early = tf.keras.callbacks.EarlyStopping(monitor='val_loss', patience=3)"
   ]
  },
  {
   "cell_type": "markdown",
   "metadata": {},
   "source": [
    "Searching for the best hyperparameters"
   ]
  },
  {
   "cell_type": "code",
   "execution_count": 17,
   "metadata": {},
   "outputs": [
    {
     "name": "stdout",
     "output_type": "stream",
     "text": [
      "Trial 90 Complete [00h 02m 39s]\n",
      "val_sparse_top_k_categorical_accuracy: 0.4484076499938965\n",
      "\n",
      "Best val_sparse_top_k_categorical_accuracy So Far: 0.7566878795623779\n",
      "Total elapsed time: 00h 24m 48s\n"
     ]
    }
   ],
   "source": [
    "tuner.search(\n",
    "    x_train, \n",
    "    y_train, \n",
    "    epochs=60, \n",
    "    validation_split=0.2, \n",
    "    callbacks=[stop_early],\n",
    "    batch_size=tuner.oracle.hyperparameters.Choice('batch_size', [16, 32, 64])\n",
    ")"
   ]
  },
  {
   "cell_type": "code",
   "execution_count": 18,
   "metadata": {},
   "outputs": [
    {
     "name": "stdout",
     "output_type": "stream",
     "text": [
      "\n",
      "Best embedding_dim: \t256\n",
      "Best gru_units: \t64\n",
      "Best dropout_rate: \t0.2\n",
      "Best activation function: \tsigmoid\n",
      "Best learning_rate: \t0.001\n",
      "Best batch_size: \t16\n",
      "Best k for accuracy: \t5\n",
      "\n",
      "\n"
     ]
    }
   ],
   "source": [
    "best_hps = tuner.get_best_hyperparameters(num_trials=1)[0]\n",
    "print(f\"\"\"\n",
    "Best embedding_dim: \\t{best_hps.get('embedding_dim')}\n",
    "Best gru_units: \\t{best_hps.get('gru_units')}\n",
    "Best dropout_rate: \\t{best_hps.get('dropout_rate')}\n",
    "Best activation function: \\t{best_hps.get('activation')}\n",
    "Best learning_rate: \\t{best_hps.get('learning_rate')}\n",
    "Best batch_size: \\t{best_hps.get('batch_size')}\n",
    "Best k for accuracy: \\t{best_hps.get('top_k')}\n",
    "\n",
    "\"\"\")"
   ]
  },
  {
   "cell_type": "markdown",
   "metadata": {},
   "source": [
    "Training the model using the best hyperparameters we got"
   ]
  },
  {
   "cell_type": "code",
   "execution_count": 19,
   "metadata": {},
   "outputs": [
    {
     "data": {
      "text/html": [
       "<pre style=\"white-space:pre;overflow-x:auto;line-height:normal;font-family:Menlo,'DejaVu Sans Mono',consolas,'Courier New',monospace\"><span style=\"font-weight: bold\">Model: \"sequential_1\"</span>\n",
       "</pre>\n"
      ],
      "text/plain": [
       "\u001b[1mModel: \"sequential_1\"\u001b[0m\n"
      ]
     },
     "metadata": {},
     "output_type": "display_data"
    },
    {
     "data": {
      "text/html": [
       "<pre style=\"white-space:pre;overflow-x:auto;line-height:normal;font-family:Menlo,'DejaVu Sans Mono',consolas,'Courier New',monospace\">┏━━━━━━━━━━━━━━━━━━━━━━━━━━━━━━━━━┳━━━━━━━━━━━━━━━━━━━━━━━━┳━━━━━━━━━━━━━━━┓\n",
       "┃<span style=\"font-weight: bold\"> Layer (type)                    </span>┃<span style=\"font-weight: bold\"> Output Shape           </span>┃<span style=\"font-weight: bold\">       Param # </span>┃\n",
       "┡━━━━━━━━━━━━━━━━━━━━━━━━━━━━━━━━━╇━━━━━━━━━━━━━━━━━━━━━━━━╇━━━━━━━━━━━━━━━┩\n",
       "│ embedding_1 (<span style=\"color: #0087ff; text-decoration-color: #0087ff\">Embedding</span>)         │ ?                      │   <span style=\"color: #00af00; text-decoration-color: #00af00\">0</span> (unbuilt) │\n",
       "├─────────────────────────────────┼────────────────────────┼───────────────┤\n",
       "│ gru_1 (<span style=\"color: #0087ff; text-decoration-color: #0087ff\">GRU</span>)                     │ ?                      │   <span style=\"color: #00af00; text-decoration-color: #00af00\">0</span> (unbuilt) │\n",
       "├─────────────────────────────────┼────────────────────────┼───────────────┤\n",
       "│ dropout_1 (<span style=\"color: #0087ff; text-decoration-color: #0087ff\">Dropout</span>)             │ ?                      │             <span style=\"color: #00af00; text-decoration-color: #00af00\">0</span> │\n",
       "├─────────────────────────────────┼────────────────────────┼───────────────┤\n",
       "│ dense_1 (<span style=\"color: #0087ff; text-decoration-color: #0087ff\">Dense</span>)                 │ ?                      │   <span style=\"color: #00af00; text-decoration-color: #00af00\">0</span> (unbuilt) │\n",
       "└─────────────────────────────────┴────────────────────────┴───────────────┘\n",
       "</pre>\n"
      ],
      "text/plain": [
       "┏━━━━━━━━━━━━━━━━━━━━━━━━━━━━━━━━━┳━━━━━━━━━━━━━━━━━━━━━━━━┳━━━━━━━━━━━━━━━┓\n",
       "┃\u001b[1m \u001b[0m\u001b[1mLayer (type)                   \u001b[0m\u001b[1m \u001b[0m┃\u001b[1m \u001b[0m\u001b[1mOutput Shape          \u001b[0m\u001b[1m \u001b[0m┃\u001b[1m \u001b[0m\u001b[1m      Param #\u001b[0m\u001b[1m \u001b[0m┃\n",
       "┡━━━━━━━━━━━━━━━━━━━━━━━━━━━━━━━━━╇━━━━━━━━━━━━━━━━━━━━━━━━╇━━━━━━━━━━━━━━━┩\n",
       "│ embedding_1 (\u001b[38;5;33mEmbedding\u001b[0m)         │ ?                      │   \u001b[38;5;34m0\u001b[0m (unbuilt) │\n",
       "├─────────────────────────────────┼────────────────────────┼───────────────┤\n",
       "│ gru_1 (\u001b[38;5;33mGRU\u001b[0m)                     │ ?                      │   \u001b[38;5;34m0\u001b[0m (unbuilt) │\n",
       "├─────────────────────────────────┼────────────────────────┼───────────────┤\n",
       "│ dropout_1 (\u001b[38;5;33mDropout\u001b[0m)             │ ?                      │             \u001b[38;5;34m0\u001b[0m │\n",
       "├─────────────────────────────────┼────────────────────────┼───────────────┤\n",
       "│ dense_1 (\u001b[38;5;33mDense\u001b[0m)                 │ ?                      │   \u001b[38;5;34m0\u001b[0m (unbuilt) │\n",
       "└─────────────────────────────────┴────────────────────────┴───────────────┘\n"
      ]
     },
     "metadata": {},
     "output_type": "display_data"
    },
    {
     "data": {
      "text/html": [
       "<pre style=\"white-space:pre;overflow-x:auto;line-height:normal;font-family:Menlo,'DejaVu Sans Mono',consolas,'Courier New',monospace\"><span style=\"font-weight: bold\"> Total params: </span><span style=\"color: #00af00; text-decoration-color: #00af00\">0</span> (0.00 B)\n",
       "</pre>\n"
      ],
      "text/plain": [
       "\u001b[1m Total params: \u001b[0m\u001b[38;5;34m0\u001b[0m (0.00 B)\n"
      ]
     },
     "metadata": {},
     "output_type": "display_data"
    },
    {
     "data": {
      "text/html": [
       "<pre style=\"white-space:pre;overflow-x:auto;line-height:normal;font-family:Menlo,'DejaVu Sans Mono',consolas,'Courier New',monospace\"><span style=\"font-weight: bold\"> Trainable params: </span><span style=\"color: #00af00; text-decoration-color: #00af00\">0</span> (0.00 B)\n",
       "</pre>\n"
      ],
      "text/plain": [
       "\u001b[1m Trainable params: \u001b[0m\u001b[38;5;34m0\u001b[0m (0.00 B)\n"
      ]
     },
     "metadata": {},
     "output_type": "display_data"
    },
    {
     "data": {
      "text/html": [
       "<pre style=\"white-space:pre;overflow-x:auto;line-height:normal;font-family:Menlo,'DejaVu Sans Mono',consolas,'Courier New',monospace\"><span style=\"font-weight: bold\"> Non-trainable params: </span><span style=\"color: #00af00; text-decoration-color: #00af00\">0</span> (0.00 B)\n",
       "</pre>\n"
      ],
      "text/plain": [
       "\u001b[1m Non-trainable params: \u001b[0m\u001b[38;5;34m0\u001b[0m (0.00 B)\n"
      ]
     },
     "metadata": {},
     "output_type": "display_data"
    },
    {
     "name": "stdout",
     "output_type": "stream",
     "text": [
      "Epoch 1/100\n",
      "\u001b[1m491/491\u001b[0m \u001b[32m━━━━━━━━━━━━━━━━━━━━\u001b[0m\u001b[37m\u001b[0m \u001b[1m3s\u001b[0m 5ms/step - loss: 6.1364 - sparse_top_k_categorical_accuracy: 0.1762 - val_loss: 5.2217 - val_sparse_top_k_categorical_accuracy: 0.2762\n",
      "Epoch 2/100\n",
      "\u001b[1m491/491\u001b[0m \u001b[32m━━━━━━━━━━━━━━━━━━━━\u001b[0m\u001b[37m\u001b[0m \u001b[1m2s\u001b[0m 4ms/step - loss: 4.7646 - sparse_top_k_categorical_accuracy: 0.3398 - val_loss: 4.4897 - val_sparse_top_k_categorical_accuracy: 0.4052\n",
      "Epoch 3/100\n",
      "\u001b[1m491/491\u001b[0m \u001b[32m━━━━━━━━━━━━━━━━━━━━\u001b[0m\u001b[37m\u001b[0m \u001b[1m2s\u001b[0m 4ms/step - loss: 4.0193 - sparse_top_k_categorical_accuracy: 0.4687 - val_loss: 3.9367 - val_sparse_top_k_categorical_accuracy: 0.4969\n",
      "Epoch 4/100\n",
      "\u001b[1m491/491\u001b[0m \u001b[32m━━━━━━━━━━━━━━━━━━━━\u001b[0m\u001b[37m\u001b[0m \u001b[1m2s\u001b[0m 4ms/step - loss: 3.4802 - sparse_top_k_categorical_accuracy: 0.5558 - val_loss: 3.5430 - val_sparse_top_k_categorical_accuracy: 0.5632\n",
      "Epoch 5/100\n",
      "\u001b[1m491/491\u001b[0m \u001b[32m━━━━━━━━━━━━━━━━━━━━\u001b[0m\u001b[37m\u001b[0m \u001b[1m2s\u001b[0m 5ms/step - loss: 3.1315 - sparse_top_k_categorical_accuracy: 0.6076 - val_loss: 3.2736 - val_sparse_top_k_categorical_accuracy: 0.6106\n",
      "Epoch 6/100\n",
      "\u001b[1m491/491\u001b[0m \u001b[32m━━━━━━━━━━━━━━━━━━━━\u001b[0m\u001b[37m\u001b[0m \u001b[1m2s\u001b[0m 4ms/step - loss: 2.8089 - sparse_top_k_categorical_accuracy: 0.6667 - val_loss: 3.0660 - val_sparse_top_k_categorical_accuracy: 0.6391\n",
      "Epoch 7/100\n",
      "\u001b[1m491/491\u001b[0m \u001b[32m━━━━━━━━━━━━━━━━━━━━\u001b[0m\u001b[37m\u001b[0m \u001b[1m2s\u001b[0m 4ms/step - loss: 2.5883 - sparse_top_k_categorical_accuracy: 0.7014 - val_loss: 2.8992 - val_sparse_top_k_categorical_accuracy: 0.6600\n",
      "Epoch 8/100\n",
      "\u001b[1m491/491\u001b[0m \u001b[32m━━━━━━━━━━━━━━━━━━━━\u001b[0m\u001b[37m\u001b[0m \u001b[1m2s\u001b[0m 5ms/step - loss: 2.3615 - sparse_top_k_categorical_accuracy: 0.7481 - val_loss: 2.8159 - val_sparse_top_k_categorical_accuracy: 0.6651\n",
      "Epoch 9/100\n",
      "\u001b[1m491/491\u001b[0m \u001b[32m━━━━━━━━━━━━━━━━━━━━\u001b[0m\u001b[37m\u001b[0m \u001b[1m2s\u001b[0m 5ms/step - loss: 2.2851 - sparse_top_k_categorical_accuracy: 0.7499 - val_loss: 2.6718 - val_sparse_top_k_categorical_accuracy: 0.6932\n",
      "Epoch 10/100\n",
      "\u001b[1m491/491\u001b[0m \u001b[32m━━━━━━━━━━━━━━━━━━━━\u001b[0m\u001b[37m\u001b[0m \u001b[1m2s\u001b[0m 4ms/step - loss: 2.1441 - sparse_top_k_categorical_accuracy: 0.7688 - val_loss: 2.5661 - val_sparse_top_k_categorical_accuracy: 0.7141\n",
      "Epoch 11/100\n",
      "\u001b[1m491/491\u001b[0m \u001b[32m━━━━━━━━━━━━━━━━━━━━\u001b[0m\u001b[37m\u001b[0m \u001b[1m2s\u001b[0m 5ms/step - loss: 2.0398 - sparse_top_k_categorical_accuracy: 0.7810 - val_loss: 2.5050 - val_sparse_top_k_categorical_accuracy: 0.7181\n",
      "Epoch 12/100\n",
      "\u001b[1m491/491\u001b[0m \u001b[32m━━━━━━━━━━━━━━━━━━━━\u001b[0m\u001b[37m\u001b[0m \u001b[1m2s\u001b[0m 5ms/step - loss: 1.9719 - sparse_top_k_categorical_accuracy: 0.7900 - val_loss: 2.4531 - val_sparse_top_k_categorical_accuracy: 0.7360\n",
      "Epoch 13/100\n",
      "\u001b[1m491/491\u001b[0m \u001b[32m━━━━━━━━━━━━━━━━━━━━\u001b[0m\u001b[37m\u001b[0m \u001b[1m2s\u001b[0m 5ms/step - loss: 1.9020 - sparse_top_k_categorical_accuracy: 0.8010 - val_loss: 2.4052 - val_sparse_top_k_categorical_accuracy: 0.7421\n",
      "Epoch 14/100\n",
      "\u001b[1m491/491\u001b[0m \u001b[32m━━━━━━━━━━━━━━━━━━━━\u001b[0m\u001b[37m\u001b[0m \u001b[1m2s\u001b[0m 5ms/step - loss: 1.8863 - sparse_top_k_categorical_accuracy: 0.8029 - val_loss: 2.3586 - val_sparse_top_k_categorical_accuracy: 0.7533\n",
      "Epoch 15/100\n",
      "\u001b[1m491/491\u001b[0m \u001b[32m━━━━━━━━━━━━━━━━━━━━\u001b[0m\u001b[37m\u001b[0m \u001b[1m2s\u001b[0m 5ms/step - loss: 1.8466 - sparse_top_k_categorical_accuracy: 0.7988 - val_loss: 2.3168 - val_sparse_top_k_categorical_accuracy: 0.7559\n",
      "Epoch 16/100\n",
      "\u001b[1m491/491\u001b[0m \u001b[32m━━━━━━━━━━━━━━━━━━━━\u001b[0m\u001b[37m\u001b[0m \u001b[1m2s\u001b[0m 5ms/step - loss: 1.8000 - sparse_top_k_categorical_accuracy: 0.8099 - val_loss: 2.2788 - val_sparse_top_k_categorical_accuracy: 0.7543\n",
      "Epoch 17/100\n",
      "\u001b[1m491/491\u001b[0m \u001b[32m━━━━━━━━━━━━━━━━━━━━\u001b[0m\u001b[37m\u001b[0m \u001b[1m3s\u001b[0m 5ms/step - loss: 1.7522 - sparse_top_k_categorical_accuracy: 0.8110 - val_loss: 2.2522 - val_sparse_top_k_categorical_accuracy: 0.7554\n",
      "Epoch 18/100\n",
      "\u001b[1m491/491\u001b[0m \u001b[32m━━━━━━━━━━━━━━━━━━━━\u001b[0m\u001b[37m\u001b[0m \u001b[1m3s\u001b[0m 5ms/step - loss: 1.7569 - sparse_top_k_categorical_accuracy: 0.8064 - val_loss: 2.2384 - val_sparse_top_k_categorical_accuracy: 0.7635\n",
      "Epoch 19/100\n",
      "\u001b[1m491/491\u001b[0m \u001b[32m━━━━━━━━━━━━━━━━━━━━\u001b[0m\u001b[37m\u001b[0m \u001b[1m3s\u001b[0m 5ms/step - loss: 1.7292 - sparse_top_k_categorical_accuracy: 0.8118 - val_loss: 2.2338 - val_sparse_top_k_categorical_accuracy: 0.7599\n",
      "Epoch 20/100\n",
      "\u001b[1m491/491\u001b[0m \u001b[32m━━━━━━━━━━━━━━━━━━━━\u001b[0m\u001b[37m\u001b[0m \u001b[1m3s\u001b[0m 5ms/step - loss: 1.7229 - sparse_top_k_categorical_accuracy: 0.8118 - val_loss: 2.2099 - val_sparse_top_k_categorical_accuracy: 0.7615\n",
      "Epoch 21/100\n",
      "\u001b[1m491/491\u001b[0m \u001b[32m━━━━━━━━━━━━━━━━━━━━\u001b[0m\u001b[37m\u001b[0m \u001b[1m3s\u001b[0m 5ms/step - loss: 1.7115 - sparse_top_k_categorical_accuracy: 0.8125 - val_loss: 2.2001 - val_sparse_top_k_categorical_accuracy: 0.7630\n",
      "Epoch 22/100\n",
      "\u001b[1m491/491\u001b[0m \u001b[32m━━━━━━━━━━━━━━━━━━━━\u001b[0m\u001b[37m\u001b[0m \u001b[1m3s\u001b[0m 5ms/step - loss: 1.6951 - sparse_top_k_categorical_accuracy: 0.8125 - val_loss: 2.1772 - val_sparse_top_k_categorical_accuracy: 0.7610\n",
      "Epoch 23/100\n",
      "\u001b[1m491/491\u001b[0m \u001b[32m━━━━━━━━━━━━━━━━━━━━\u001b[0m\u001b[37m\u001b[0m \u001b[1m3s\u001b[0m 5ms/step - loss: 1.6891 - sparse_top_k_categorical_accuracy: 0.8125 - val_loss: 2.1810 - val_sparse_top_k_categorical_accuracy: 0.7712\n",
      "Epoch 24/100\n",
      "\u001b[1m491/491\u001b[0m \u001b[32m━━━━━━━━━━━━━━━━━━━━\u001b[0m\u001b[37m\u001b[0m \u001b[1m3s\u001b[0m 5ms/step - loss: 1.6679 - sparse_top_k_categorical_accuracy: 0.8124 - val_loss: 2.1761 - val_sparse_top_k_categorical_accuracy: 0.7717\n",
      "Epoch 25/100\n",
      "\u001b[1m491/491\u001b[0m \u001b[32m━━━━━━━━━━━━━━━━━━━━\u001b[0m\u001b[37m\u001b[0m \u001b[1m3s\u001b[0m 5ms/step - loss: 1.6563 - sparse_top_k_categorical_accuracy: 0.8153 - val_loss: 2.1557 - val_sparse_top_k_categorical_accuracy: 0.7757\n",
      "Epoch 26/100\n",
      "\u001b[1m491/491\u001b[0m \u001b[32m━━━━━━━━━━━━━━━━━━━━\u001b[0m\u001b[37m\u001b[0m \u001b[1m2s\u001b[0m 5ms/step - loss: 1.6239 - sparse_top_k_categorical_accuracy: 0.8207 - val_loss: 2.1606 - val_sparse_top_k_categorical_accuracy: 0.7717\n",
      "Epoch 27/100\n",
      "\u001b[1m491/491\u001b[0m \u001b[32m━━━━━━━━━━━━━━━━━━━━\u001b[0m\u001b[37m\u001b[0m \u001b[1m3s\u001b[0m 5ms/step - loss: 1.6570 - sparse_top_k_categorical_accuracy: 0.8196 - val_loss: 2.1636 - val_sparse_top_k_categorical_accuracy: 0.7727\n",
      "Epoch 28/100\n",
      "\u001b[1m491/491\u001b[0m \u001b[32m━━━━━━━━━━━━━━━━━━━━\u001b[0m\u001b[37m\u001b[0m \u001b[1m3s\u001b[0m 5ms/step - loss: 1.6274 - sparse_top_k_categorical_accuracy: 0.8213 - val_loss: 2.1734 - val_sparse_top_k_categorical_accuracy: 0.7676\n",
      "Epoch 29/100\n",
      "\u001b[1m491/491\u001b[0m \u001b[32m━━━━━━━━━━━━━━━━━━━━\u001b[0m\u001b[37m\u001b[0m \u001b[1m3s\u001b[0m 5ms/step - loss: 1.6359 - sparse_top_k_categorical_accuracy: 0.8181 - val_loss: 2.1583 - val_sparse_top_k_categorical_accuracy: 0.7681\n",
      "Epoch 30/100\n",
      "\u001b[1m491/491\u001b[0m \u001b[32m━━━━━━━━━━━━━━━━━━━━\u001b[0m\u001b[37m\u001b[0m \u001b[1m3s\u001b[0m 5ms/step - loss: 1.6193 - sparse_top_k_categorical_accuracy: 0.8177 - val_loss: 2.1577 - val_sparse_top_k_categorical_accuracy: 0.7727\n",
      "Epoch 31/100\n",
      "\u001b[1m491/491\u001b[0m \u001b[32m━━━━━━━━━━━━━━━━━━━━\u001b[0m\u001b[37m\u001b[0m \u001b[1m3s\u001b[0m 5ms/step - loss: 1.6333 - sparse_top_k_categorical_accuracy: 0.8179 - val_loss: 2.1616 - val_sparse_top_k_categorical_accuracy: 0.7752\n",
      "Epoch 32/100\n",
      "\u001b[1m491/491\u001b[0m \u001b[32m━━━━━━━━━━━━━━━━━━━━\u001b[0m\u001b[37m\u001b[0m \u001b[1m3s\u001b[0m 5ms/step - loss: 1.6030 - sparse_top_k_categorical_accuracy: 0.8156 - val_loss: 2.1408 - val_sparse_top_k_categorical_accuracy: 0.7712\n",
      "Epoch 33/100\n",
      "\u001b[1m491/491\u001b[0m \u001b[32m━━━━━━━━━━━━━━━━━━━━\u001b[0m\u001b[37m\u001b[0m \u001b[1m2s\u001b[0m 5ms/step - loss: 1.6005 - sparse_top_k_categorical_accuracy: 0.8213 - val_loss: 2.1518 - val_sparse_top_k_categorical_accuracy: 0.7747\n",
      "Epoch 34/100\n",
      "\u001b[1m491/491\u001b[0m \u001b[32m━━━━━━━━━━━━━━━━━━━━\u001b[0m\u001b[37m\u001b[0m \u001b[1m2s\u001b[0m 5ms/step - loss: 1.6511 - sparse_top_k_categorical_accuracy: 0.8100 - val_loss: 2.1543 - val_sparse_top_k_categorical_accuracy: 0.7747\n",
      "Epoch 35/100\n",
      "\u001b[1m491/491\u001b[0m \u001b[32m━━━━━━━━━━━━━━━━━━━━\u001b[0m\u001b[37m\u001b[0m \u001b[1m3s\u001b[0m 5ms/step - loss: 1.6110 - sparse_top_k_categorical_accuracy: 0.8171 - val_loss: 2.1499 - val_sparse_top_k_categorical_accuracy: 0.7650\n",
      "Epoch 36/100\n",
      "\u001b[1m491/491\u001b[0m \u001b[32m━━━━━━━━━━━━━━━━━━━━\u001b[0m\u001b[37m\u001b[0m \u001b[1m2s\u001b[0m 5ms/step - loss: 1.5820 - sparse_top_k_categorical_accuracy: 0.8252 - val_loss: 2.1448 - val_sparse_top_k_categorical_accuracy: 0.7717\n",
      "Epoch 37/100\n",
      "\u001b[1m491/491\u001b[0m \u001b[32m━━━━━━━━━━━━━━━━━━━━\u001b[0m\u001b[37m\u001b[0m \u001b[1m3s\u001b[0m 5ms/step - loss: 1.6259 - sparse_top_k_categorical_accuracy: 0.8150 - val_loss: 2.1562 - val_sparse_top_k_categorical_accuracy: 0.7737\n",
      "Epoch 38/100\n",
      "\u001b[1m491/491\u001b[0m \u001b[32m━━━━━━━━━━━━━━━━━━━━\u001b[0m\u001b[37m\u001b[0m \u001b[1m2s\u001b[0m 5ms/step - loss: 1.6038 - sparse_top_k_categorical_accuracy: 0.8168 - val_loss: 2.1498 - val_sparse_top_k_categorical_accuracy: 0.7712\n",
      "Epoch 39/100\n",
      "\u001b[1m491/491\u001b[0m \u001b[32m━━━━━━━━━━━━━━━━━━━━\u001b[0m\u001b[37m\u001b[0m \u001b[1m3s\u001b[0m 5ms/step - loss: 1.6003 - sparse_top_k_categorical_accuracy: 0.8208 - val_loss: 2.1495 - val_sparse_top_k_categorical_accuracy: 0.7727\n",
      "Epoch 40/100\n",
      "\u001b[1m491/491\u001b[0m \u001b[32m━━━━━━━━━━━━━━━━━━━━\u001b[0m\u001b[37m\u001b[0m \u001b[1m3s\u001b[0m 5ms/step - loss: 1.6138 - sparse_top_k_categorical_accuracy: 0.8158 - val_loss: 2.1372 - val_sparse_top_k_categorical_accuracy: 0.7737\n",
      "Epoch 41/100\n",
      "\u001b[1m491/491\u001b[0m \u001b[32m━━━━━━━━━━━━━━━━━━━━\u001b[0m\u001b[37m\u001b[0m \u001b[1m3s\u001b[0m 6ms/step - loss: 1.5909 - sparse_top_k_categorical_accuracy: 0.8200 - val_loss: 2.1507 - val_sparse_top_k_categorical_accuracy: 0.7727\n",
      "Epoch 42/100\n",
      "\u001b[1m491/491\u001b[0m \u001b[32m━━━━━━━━━━━━━━━━━━━━\u001b[0m\u001b[37m\u001b[0m \u001b[1m3s\u001b[0m 5ms/step - loss: 1.5861 - sparse_top_k_categorical_accuracy: 0.8261 - val_loss: 2.1490 - val_sparse_top_k_categorical_accuracy: 0.7778\n",
      "Epoch 43/100\n",
      "\u001b[1m491/491\u001b[0m \u001b[32m━━━━━━━━━━━━━━━━━━━━\u001b[0m\u001b[37m\u001b[0m \u001b[1m3s\u001b[0m 5ms/step - loss: 1.6168 - sparse_top_k_categorical_accuracy: 0.8112 - val_loss: 2.1721 - val_sparse_top_k_categorical_accuracy: 0.7701\n",
      "Epoch 44/100\n",
      "\u001b[1m491/491\u001b[0m \u001b[32m━━━━━━━━━━━━━━━━━━━━\u001b[0m\u001b[37m\u001b[0m \u001b[1m2s\u001b[0m 5ms/step - loss: 1.6263 - sparse_top_k_categorical_accuracy: 0.8132 - val_loss: 2.1453 - val_sparse_top_k_categorical_accuracy: 0.7752\n",
      "Epoch 45/100\n",
      "\u001b[1m491/491\u001b[0m \u001b[32m━━━━━━━━━━━━━━━━━━━━\u001b[0m\u001b[37m\u001b[0m \u001b[1m3s\u001b[0m 5ms/step - loss: 1.5586 - sparse_top_k_categorical_accuracy: 0.8249 - val_loss: 2.1497 - val_sparse_top_k_categorical_accuracy: 0.7778\n",
      "Epoch 46/100\n",
      "\u001b[1m491/491\u001b[0m \u001b[32m━━━━━━━━━━━━━━━━━━━━\u001b[0m\u001b[37m\u001b[0m \u001b[1m2s\u001b[0m 5ms/step - loss: 1.5661 - sparse_top_k_categorical_accuracy: 0.8197 - val_loss: 2.1518 - val_sparse_top_k_categorical_accuracy: 0.7630\n",
      "Epoch 47/100\n",
      "\u001b[1m491/491\u001b[0m \u001b[32m━━━━━━━━━━━━━━━━━━━━\u001b[0m\u001b[37m\u001b[0m \u001b[1m3s\u001b[0m 5ms/step - loss: 1.5657 - sparse_top_k_categorical_accuracy: 0.8178 - val_loss: 2.1471 - val_sparse_top_k_categorical_accuracy: 0.7762\n",
      "Epoch 48/100\n",
      "\u001b[1m491/491\u001b[0m \u001b[32m━━━━━━━━━━━━━━━━━━━━\u001b[0m\u001b[37m\u001b[0m \u001b[1m2s\u001b[0m 5ms/step - loss: 1.5790 - sparse_top_k_categorical_accuracy: 0.8188 - val_loss: 2.1591 - val_sparse_top_k_categorical_accuracy: 0.7747\n",
      "Epoch 49/100\n",
      "\u001b[1m491/491\u001b[0m \u001b[32m━━━━━━━━━━━━━━━━━━━━\u001b[0m\u001b[37m\u001b[0m \u001b[1m3s\u001b[0m 5ms/step - loss: 1.5780 - sparse_top_k_categorical_accuracy: 0.8211 - val_loss: 2.1495 - val_sparse_top_k_categorical_accuracy: 0.7666\n",
      "Epoch 50/100\n",
      "\u001b[1m491/491\u001b[0m \u001b[32m━━━━━━━━━━━━━━━━━━━━\u001b[0m\u001b[37m\u001b[0m \u001b[1m2s\u001b[0m 5ms/step - loss: 1.5624 - sparse_top_k_categorical_accuracy: 0.8211 - val_loss: 2.1512 - val_sparse_top_k_categorical_accuracy: 0.7717\n",
      "Epoch 51/100\n",
      "\u001b[1m491/491\u001b[0m \u001b[32m━━━━━━━━━━━━━━━━━━━━\u001b[0m\u001b[37m\u001b[0m \u001b[1m3s\u001b[0m 5ms/step - loss: 1.5809 - sparse_top_k_categorical_accuracy: 0.8197 - val_loss: 2.1535 - val_sparse_top_k_categorical_accuracy: 0.7752\n",
      "Epoch 52/100\n",
      "\u001b[1m491/491\u001b[0m \u001b[32m━━━━━━━━━━━━━━━━━━━━\u001b[0m\u001b[37m\u001b[0m \u001b[1m2s\u001b[0m 5ms/step - loss: 1.5888 - sparse_top_k_categorical_accuracy: 0.8215 - val_loss: 2.1667 - val_sparse_top_k_categorical_accuracy: 0.7635\n",
      "Epoch 53/100\n",
      "\u001b[1m491/491\u001b[0m \u001b[32m━━━━━━━━━━━━━━━━━━━━\u001b[0m\u001b[37m\u001b[0m \u001b[1m3s\u001b[0m 5ms/step - loss: 1.6060 - sparse_top_k_categorical_accuracy: 0.8167 - val_loss: 2.1448 - val_sparse_top_k_categorical_accuracy: 0.7752\n",
      "Epoch 54/100\n",
      "\u001b[1m491/491\u001b[0m \u001b[32m━━━━━━━━━━━━━━━━━━━━\u001b[0m\u001b[37m\u001b[0m \u001b[1m2s\u001b[0m 5ms/step - loss: 1.5430 - sparse_top_k_categorical_accuracy: 0.8248 - val_loss: 2.1609 - val_sparse_top_k_categorical_accuracy: 0.7757\n",
      "Epoch 55/100\n",
      "\u001b[1m491/491\u001b[0m \u001b[32m━━━━━━━━━━━━━━━━━━━━\u001b[0m\u001b[37m\u001b[0m \u001b[1m3s\u001b[0m 5ms/step - loss: 1.5880 - sparse_top_k_categorical_accuracy: 0.8152 - val_loss: 2.1533 - val_sparse_top_k_categorical_accuracy: 0.7732\n",
      "Epoch 56/100\n",
      "\u001b[1m491/491\u001b[0m \u001b[32m━━━━━━━━━━━━━━━━━━━━\u001b[0m\u001b[37m\u001b[0m \u001b[1m2s\u001b[0m 5ms/step - loss: 1.5802 - sparse_top_k_categorical_accuracy: 0.8129 - val_loss: 2.1601 - val_sparse_top_k_categorical_accuracy: 0.7599\n",
      "Epoch 57/100\n",
      "\u001b[1m491/491\u001b[0m \u001b[32m━━━━━━━━━━━━━━━━━━━━\u001b[0m\u001b[37m\u001b[0m \u001b[1m3s\u001b[0m 5ms/step - loss: 1.6044 - sparse_top_k_categorical_accuracy: 0.8130 - val_loss: 2.1384 - val_sparse_top_k_categorical_accuracy: 0.7773\n",
      "Epoch 58/100\n",
      "\u001b[1m491/491\u001b[0m \u001b[32m━━━━━━━━━━━━━━━━━━━━\u001b[0m\u001b[37m\u001b[0m \u001b[1m2s\u001b[0m 5ms/step - loss: 1.5777 - sparse_top_k_categorical_accuracy: 0.8204 - val_loss: 2.1574 - val_sparse_top_k_categorical_accuracy: 0.7732\n",
      "Epoch 59/100\n",
      "\u001b[1m491/491\u001b[0m \u001b[32m━━━━━━━━━━━━━━━━━━━━\u001b[0m\u001b[37m\u001b[0m \u001b[1m3s\u001b[0m 5ms/step - loss: 1.5736 - sparse_top_k_categorical_accuracy: 0.8238 - val_loss: 2.1684 - val_sparse_top_k_categorical_accuracy: 0.7701\n",
      "Epoch 60/100\n",
      "\u001b[1m491/491\u001b[0m \u001b[32m━━━━━━━━━━━━━━━━━━━━\u001b[0m\u001b[37m\u001b[0m \u001b[1m2s\u001b[0m 5ms/step - loss: 1.5990 - sparse_top_k_categorical_accuracy: 0.8185 - val_loss: 2.1508 - val_sparse_top_k_categorical_accuracy: 0.7757\n",
      "Epoch 61/100\n",
      "\u001b[1m491/491\u001b[0m \u001b[32m━━━━━━━━━━━━━━━━━━━━\u001b[0m\u001b[37m\u001b[0m \u001b[1m3s\u001b[0m 5ms/step - loss: 1.5612 - sparse_top_k_categorical_accuracy: 0.8228 - val_loss: 2.1662 - val_sparse_top_k_categorical_accuracy: 0.7742\n",
      "Epoch 62/100\n",
      "\u001b[1m491/491\u001b[0m \u001b[32m━━━━━━━━━━━━━━━━━━━━\u001b[0m\u001b[37m\u001b[0m \u001b[1m2s\u001b[0m 5ms/step - loss: 1.5740 - sparse_top_k_categorical_accuracy: 0.8214 - val_loss: 2.1628 - val_sparse_top_k_categorical_accuracy: 0.7778\n",
      "Epoch 63/100\n",
      "\u001b[1m491/491\u001b[0m \u001b[32m━━━━━━━━━━━━━━━━━━━━\u001b[0m\u001b[37m\u001b[0m \u001b[1m3s\u001b[0m 5ms/step - loss: 1.6032 - sparse_top_k_categorical_accuracy: 0.8085 - val_loss: 2.1574 - val_sparse_top_k_categorical_accuracy: 0.7762\n",
      "Epoch 64/100\n",
      "\u001b[1m491/491\u001b[0m \u001b[32m━━━━━━━━━━━━━━━━━━━━\u001b[0m\u001b[37m\u001b[0m \u001b[1m3s\u001b[0m 5ms/step - loss: 1.5689 - sparse_top_k_categorical_accuracy: 0.8165 - val_loss: 2.1625 - val_sparse_top_k_categorical_accuracy: 0.7732\n",
      "Epoch 65/100\n",
      "\u001b[1m491/491\u001b[0m \u001b[32m━━━━━━━━━━━━━━━━━━━━\u001b[0m\u001b[37m\u001b[0m \u001b[1m2s\u001b[0m 5ms/step - loss: 1.5847 - sparse_top_k_categorical_accuracy: 0.8198 - val_loss: 2.1392 - val_sparse_top_k_categorical_accuracy: 0.7732\n",
      "Epoch 66/100\n",
      "\u001b[1m491/491\u001b[0m \u001b[32m━━━━━━━━━━━━━━━━━━━━\u001b[0m\u001b[37m\u001b[0m \u001b[1m3s\u001b[0m 5ms/step - loss: 1.5737 - sparse_top_k_categorical_accuracy: 0.8229 - val_loss: 2.1680 - val_sparse_top_k_categorical_accuracy: 0.7722\n",
      "Epoch 67/100\n",
      "\u001b[1m491/491\u001b[0m \u001b[32m━━━━━━━━━━━━━━━━━━━━\u001b[0m\u001b[37m\u001b[0m \u001b[1m2s\u001b[0m 5ms/step - loss: 1.5633 - sparse_top_k_categorical_accuracy: 0.8203 - val_loss: 2.1546 - val_sparse_top_k_categorical_accuracy: 0.7737\n",
      "Epoch 68/100\n",
      "\u001b[1m491/491\u001b[0m \u001b[32m━━━━━━━━━━━━━━━━━━━━\u001b[0m\u001b[37m\u001b[0m \u001b[1m3s\u001b[0m 5ms/step - loss: 1.5420 - sparse_top_k_categorical_accuracy: 0.8336 - val_loss: 2.1368 - val_sparse_top_k_categorical_accuracy: 0.7712\n",
      "Epoch 69/100\n",
      "\u001b[1m491/491\u001b[0m \u001b[32m━━━━━━━━━━━━━━━━━━━━\u001b[0m\u001b[37m\u001b[0m \u001b[1m2s\u001b[0m 5ms/step - loss: 1.5570 - sparse_top_k_categorical_accuracy: 0.8226 - val_loss: 2.1626 - val_sparse_top_k_categorical_accuracy: 0.7747\n",
      "Epoch 70/100\n",
      "\u001b[1m491/491\u001b[0m \u001b[32m━━━━━━━━━━━━━━━━━━━━\u001b[0m\u001b[37m\u001b[0m \u001b[1m3s\u001b[0m 5ms/step - loss: 1.5133 - sparse_top_k_categorical_accuracy: 0.8336 - val_loss: 2.1681 - val_sparse_top_k_categorical_accuracy: 0.7762\n",
      "Epoch 71/100\n",
      "\u001b[1m491/491\u001b[0m \u001b[32m━━━━━━━━━━━━━━━━━━━━\u001b[0m\u001b[37m\u001b[0m \u001b[1m3s\u001b[0m 5ms/step - loss: 1.5887 - sparse_top_k_categorical_accuracy: 0.8153 - val_loss: 2.1624 - val_sparse_top_k_categorical_accuracy: 0.7752\n",
      "Epoch 72/100\n",
      "\u001b[1m491/491\u001b[0m \u001b[32m━━━━━━━━━━━━━━━━━━━━\u001b[0m\u001b[37m\u001b[0m \u001b[1m2s\u001b[0m 5ms/step - loss: 1.5751 - sparse_top_k_categorical_accuracy: 0.8159 - val_loss: 2.1437 - val_sparse_top_k_categorical_accuracy: 0.7747\n",
      "Epoch 73/100\n",
      "\u001b[1m491/491\u001b[0m \u001b[32m━━━━━━━━━━━━━━━━━━━━\u001b[0m\u001b[37m\u001b[0m \u001b[1m3s\u001b[0m 5ms/step - loss: 1.5724 - sparse_top_k_categorical_accuracy: 0.8125 - val_loss: 2.1606 - val_sparse_top_k_categorical_accuracy: 0.7752\n",
      "Epoch 74/100\n",
      "\u001b[1m491/491\u001b[0m \u001b[32m━━━━━━━━━━━━━━━━━━━━\u001b[0m\u001b[37m\u001b[0m \u001b[1m3s\u001b[0m 6ms/step - loss: 1.5681 - sparse_top_k_categorical_accuracy: 0.8185 - val_loss: 2.1590 - val_sparse_top_k_categorical_accuracy: 0.7722\n",
      "Epoch 75/100\n",
      "\u001b[1m491/491\u001b[0m \u001b[32m━━━━━━━━━━━━━━━━━━━━\u001b[0m\u001b[37m\u001b[0m \u001b[1m3s\u001b[0m 5ms/step - loss: 1.5466 - sparse_top_k_categorical_accuracy: 0.8216 - val_loss: 2.1474 - val_sparse_top_k_categorical_accuracy: 0.7757\n",
      "Epoch 76/100\n",
      "\u001b[1m491/491\u001b[0m \u001b[32m━━━━━━━━━━━━━━━━━━━━\u001b[0m\u001b[37m\u001b[0m \u001b[1m3s\u001b[0m 5ms/step - loss: 1.5756 - sparse_top_k_categorical_accuracy: 0.8129 - val_loss: 2.1548 - val_sparse_top_k_categorical_accuracy: 0.7671\n",
      "Epoch 77/100\n",
      "\u001b[1m491/491\u001b[0m \u001b[32m━━━━━━━━━━━━━━━━━━━━\u001b[0m\u001b[37m\u001b[0m \u001b[1m2s\u001b[0m 5ms/step - loss: 1.5589 - sparse_top_k_categorical_accuracy: 0.8243 - val_loss: 2.1503 - val_sparse_top_k_categorical_accuracy: 0.7737\n",
      "Epoch 78/100\n",
      "\u001b[1m491/491\u001b[0m \u001b[32m━━━━━━━━━━━━━━━━━━━━\u001b[0m\u001b[37m\u001b[0m \u001b[1m3s\u001b[0m 5ms/step - loss: 1.5393 - sparse_top_k_categorical_accuracy: 0.8244 - val_loss: 2.1586 - val_sparse_top_k_categorical_accuracy: 0.7737\n",
      "Epoch 79/100\n",
      "\u001b[1m491/491\u001b[0m \u001b[32m━━━━━━━━━━━━━━━━━━━━\u001b[0m\u001b[37m\u001b[0m \u001b[1m3s\u001b[0m 5ms/step - loss: 1.5843 - sparse_top_k_categorical_accuracy: 0.8208 - val_loss: 2.1508 - val_sparse_top_k_categorical_accuracy: 0.7727\n",
      "Epoch 80/100\n",
      "\u001b[1m491/491\u001b[0m \u001b[32m━━━━━━━━━━━━━━━━━━━━\u001b[0m\u001b[37m\u001b[0m \u001b[1m2s\u001b[0m 5ms/step - loss: 1.5481 - sparse_top_k_categorical_accuracy: 0.8238 - val_loss: 2.1405 - val_sparse_top_k_categorical_accuracy: 0.7706\n",
      "Epoch 81/100\n",
      "\u001b[1m491/491\u001b[0m \u001b[32m━━━━━━━━━━━━━━━━━━━━\u001b[0m\u001b[37m\u001b[0m \u001b[1m3s\u001b[0m 5ms/step - loss: 1.5698 - sparse_top_k_categorical_accuracy: 0.8167 - val_loss: 2.1516 - val_sparse_top_k_categorical_accuracy: 0.7696\n",
      "Epoch 82/100\n",
      "\u001b[1m491/491\u001b[0m \u001b[32m━━━━━━━━━━━━━━━━━━━━\u001b[0m\u001b[37m\u001b[0m \u001b[1m3s\u001b[0m 5ms/step - loss: 1.5425 - sparse_top_k_categorical_accuracy: 0.8228 - val_loss: 2.1707 - val_sparse_top_k_categorical_accuracy: 0.7650\n",
      "Epoch 83/100\n",
      "\u001b[1m491/491\u001b[0m \u001b[32m━━━━━━━━━━━━━━━━━━━━\u001b[0m\u001b[37m\u001b[0m \u001b[1m3s\u001b[0m 5ms/step - loss: 1.5571 - sparse_top_k_categorical_accuracy: 0.8236 - val_loss: 2.1538 - val_sparse_top_k_categorical_accuracy: 0.7712\n",
      "Epoch 84/100\n",
      "\u001b[1m491/491\u001b[0m \u001b[32m━━━━━━━━━━━━━━━━━━━━\u001b[0m\u001b[37m\u001b[0m \u001b[1m3s\u001b[0m 5ms/step - loss: 1.5573 - sparse_top_k_categorical_accuracy: 0.8220 - val_loss: 2.1489 - val_sparse_top_k_categorical_accuracy: 0.7722\n",
      "Epoch 85/100\n",
      "\u001b[1m491/491\u001b[0m \u001b[32m━━━━━━━━━━━━━━━━━━━━\u001b[0m\u001b[37m\u001b[0m \u001b[1m2s\u001b[0m 5ms/step - loss: 1.5505 - sparse_top_k_categorical_accuracy: 0.8189 - val_loss: 2.1714 - val_sparse_top_k_categorical_accuracy: 0.7727\n",
      "Epoch 86/100\n",
      "\u001b[1m491/491\u001b[0m \u001b[32m━━━━━━━━━━━━━━━━━━━━\u001b[0m\u001b[37m\u001b[0m \u001b[1m3s\u001b[0m 5ms/step - loss: 1.5479 - sparse_top_k_categorical_accuracy: 0.8211 - val_loss: 2.1647 - val_sparse_top_k_categorical_accuracy: 0.7768\n",
      "Epoch 87/100\n",
      "\u001b[1m491/491\u001b[0m \u001b[32m━━━━━━━━━━━━━━━━━━━━\u001b[0m\u001b[37m\u001b[0m \u001b[1m3s\u001b[0m 6ms/step - loss: 1.5121 - sparse_top_k_categorical_accuracy: 0.8344 - val_loss: 2.1700 - val_sparse_top_k_categorical_accuracy: 0.7788\n",
      "Epoch 88/100\n",
      "\u001b[1m491/491\u001b[0m \u001b[32m━━━━━━━━━━━━━━━━━━━━\u001b[0m\u001b[37m\u001b[0m \u001b[1m2s\u001b[0m 5ms/step - loss: 1.5552 - sparse_top_k_categorical_accuracy: 0.8220 - val_loss: 2.1624 - val_sparse_top_k_categorical_accuracy: 0.7701\n",
      "Epoch 89/100\n",
      "\u001b[1m491/491\u001b[0m \u001b[32m━━━━━━━━━━━━━━━━━━━━\u001b[0m\u001b[37m\u001b[0m \u001b[1m3s\u001b[0m 5ms/step - loss: 1.5196 - sparse_top_k_categorical_accuracy: 0.8293 - val_loss: 2.1489 - val_sparse_top_k_categorical_accuracy: 0.7788\n",
      "Epoch 90/100\n",
      "\u001b[1m491/491\u001b[0m \u001b[32m━━━━━━━━━━━━━━━━━━━━\u001b[0m\u001b[37m\u001b[0m \u001b[1m3s\u001b[0m 5ms/step - loss: 1.5599 - sparse_top_k_categorical_accuracy: 0.8218 - val_loss: 2.1658 - val_sparse_top_k_categorical_accuracy: 0.7762\n",
      "Epoch 91/100\n",
      "\u001b[1m491/491\u001b[0m \u001b[32m━━━━━━━━━━━━━━━━━━━━\u001b[0m\u001b[37m\u001b[0m \u001b[1m2s\u001b[0m 5ms/step - loss: 1.5501 - sparse_top_k_categorical_accuracy: 0.8232 - val_loss: 2.1737 - val_sparse_top_k_categorical_accuracy: 0.7768\n",
      "Epoch 92/100\n",
      "\u001b[1m491/491\u001b[0m \u001b[32m━━━━━━━━━━━━━━━━━━━━\u001b[0m\u001b[37m\u001b[0m \u001b[1m3s\u001b[0m 5ms/step - loss: 1.5621 - sparse_top_k_categorical_accuracy: 0.8188 - val_loss: 2.1563 - val_sparse_top_k_categorical_accuracy: 0.7768\n",
      "Epoch 93/100\n",
      "\u001b[1m491/491\u001b[0m \u001b[32m━━━━━━━━━━━━━━━━━━━━\u001b[0m\u001b[37m\u001b[0m \u001b[1m3s\u001b[0m 5ms/step - loss: 1.5305 - sparse_top_k_categorical_accuracy: 0.8229 - val_loss: 2.1524 - val_sparse_top_k_categorical_accuracy: 0.7762\n",
      "Epoch 94/100\n",
      "\u001b[1m491/491\u001b[0m \u001b[32m━━━━━━━━━━━━━━━━━━━━\u001b[0m\u001b[37m\u001b[0m \u001b[1m2s\u001b[0m 5ms/step - loss: 1.5495 - sparse_top_k_categorical_accuracy: 0.8304 - val_loss: 2.1750 - val_sparse_top_k_categorical_accuracy: 0.7742\n",
      "Epoch 95/100\n",
      "\u001b[1m491/491\u001b[0m \u001b[32m━━━━━━━━━━━━━━━━━━━━\u001b[0m\u001b[37m\u001b[0m \u001b[1m3s\u001b[0m 5ms/step - loss: 1.5298 - sparse_top_k_categorical_accuracy: 0.8307 - val_loss: 2.1570 - val_sparse_top_k_categorical_accuracy: 0.7737\n",
      "Epoch 96/100\n",
      "\u001b[1m491/491\u001b[0m \u001b[32m━━━━━━━━━━━━━━━━━━━━\u001b[0m\u001b[37m\u001b[0m \u001b[1m3s\u001b[0m 5ms/step - loss: 1.5654 - sparse_top_k_categorical_accuracy: 0.8194 - val_loss: 2.1621 - val_sparse_top_k_categorical_accuracy: 0.7717\n",
      "Epoch 97/100\n",
      "\u001b[1m491/491\u001b[0m \u001b[32m━━━━━━━━━━━━━━━━━━━━\u001b[0m\u001b[37m\u001b[0m \u001b[1m2s\u001b[0m 5ms/step - loss: 1.5470 - sparse_top_k_categorical_accuracy: 0.8243 - val_loss: 2.1652 - val_sparse_top_k_categorical_accuracy: 0.7681\n",
      "Epoch 98/100\n",
      "\u001b[1m491/491\u001b[0m \u001b[32m━━━━━━━━━━━━━━━━━━━━\u001b[0m\u001b[37m\u001b[0m \u001b[1m3s\u001b[0m 5ms/step - loss: 1.5416 - sparse_top_k_categorical_accuracy: 0.8273 - val_loss: 2.1701 - val_sparse_top_k_categorical_accuracy: 0.7747\n",
      "Epoch 99/100\n",
      "\u001b[1m491/491\u001b[0m \u001b[32m━━━━━━━━━━━━━━━━━━━━\u001b[0m\u001b[37m\u001b[0m \u001b[1m3s\u001b[0m 5ms/step - loss: 1.5269 - sparse_top_k_categorical_accuracy: 0.8260 - val_loss: 2.1633 - val_sparse_top_k_categorical_accuracy: 0.7712\n",
      "Epoch 100/100\n",
      "\u001b[1m491/491\u001b[0m \u001b[32m━━━━━━━━━━━━━━━━━━━━\u001b[0m\u001b[37m\u001b[0m \u001b[1m3s\u001b[0m 6ms/step - loss: 1.5737 - sparse_top_k_categorical_accuracy: 0.8207 - val_loss: 2.1592 - val_sparse_top_k_categorical_accuracy: 0.7737\n"
     ]
    }
   ],
   "source": [
    "best_hps = tuner.get_best_hyperparameters(num_trials=1)[0]\n",
    "model = tuner.hypermodel.build(best_hps)\n",
    "history = model.fit(x_train, y_train, epochs=100, batch_size=best_hps.get('batch_size'), verbose=1, validation_data=(x_test, y_test))"
   ]
  },
  {
   "cell_type": "markdown",
   "metadata": {},
   "source": [
    "Storing the history of training into variables"
   ]
  },
  {
   "cell_type": "code",
   "execution_count": 20,
   "metadata": {},
   "outputs": [],
   "source": [
    "train_loss = history.history['loss']\n",
    "val_loss = history.history['val_loss']\n",
    "# train_accuracy = history.history['accuracy']\n",
    "# val_accuracy = history.history['val_accuracy']\n",
    "train_accuracy = history.history['sparse_top_k_categorical_accuracy']\n",
    "val_accuracy = history.history['val_sparse_top_k_categorical_accuracy']\n",
    "\n",
    "epochs = range(1, len(train_loss) + 1)"
   ]
  },
  {
   "cell_type": "markdown",
   "metadata": {},
   "source": [
    "Plotting a result graph "
   ]
  },
  {
   "cell_type": "code",
   "execution_count": 23,
   "metadata": {},
   "outputs": [
    {
     "data": {
      "image/png": "[encoded data removed]",
      "text/plain": [
       "<Figure size 1200x600 with 2 Axes>"
      ]
     },
     "metadata": {},
     "output_type": "display_data"
    }
   ],
   "source": [
    "import matplotlib.pyplot as plt\n",
    "\n",
    "plt.figure(figsize=(12, 6))\n",
    "\n",
    "# Loss\n",
    "plt.subplot(1, 2, 1)\n",
    "plt.plot(epochs, train_loss, label='Training Loss')\n",
    "plt.plot(epochs, val_loss, label='Validation Loss')\n",
    "plt.title('Loss During Training and Validation')\n",
    "plt.xlabel('Epochs')\n",
    "plt.ylabel('Loss')\n",
    "plt.legend()\n",
    "\n",
    "# Accuracy\n",
    "plt.subplot(1, 2, 2)\n",
    "plt.plot(epochs, train_accuracy, label='Training Accuracy')\n",
    "plt.plot(epochs, val_accuracy, label='Validation Accuracy')\n",
    "plt.title('Accuracy During Training and Validation')\n",
    "plt.xlabel('Epochs')\n",
    "plt.ylabel('Accuracy')\n",
    "plt.legend()\n",
    "\n",
    "plt.tight_layout()\n",
    "plt.show()"
   ]
  },
  {
   "cell_type": "markdown",
   "metadata": {},
   "source": [
    "Saving the hyperparameters"
   ]
  },
  {
   "cell_type": "code",
   "execution_count": 24,
   "metadata": {},
   "outputs": [],
   "source": [
    "import configparser\n",
    "\n",
    "# Create a ConfigParser instance\n",
    "config = configparser.ConfigParser()\n",
    "\n",
    "# Add a section for hyperparameters\n",
    "config.add_section('Hyperparameters')\n",
    "\n",
    "# Store the best hyperparameters in the section\n",
    "config.set('Hyperparameters', 'embedding_dim', str(best_hps.get('embedding_dim')))\n",
    "config.set('Hyperparameters', 'gru_units', str(best_hps.get('gru_units')))\n",
    "config.set('Hyperparameters', 'activation', str(best_hps.get('activation')))\n",
    "config.set('Hyperparameters', 'dropout_rate', str(best_hps.get('dropout_rate')))\n",
    "config.set('Hyperparameters', 'learning_rate', str(best_hps.get('learning_rate')))\n",
    "config.set('Hyperparameters', 'batch_size', str(best_hps.get('batch_size')))\n",
    "config.set('Hyperparameters', 'top_k', str(best_hps.get('top_k')))\n",
    "\n",
    "# Write the configuration to a file\n",
    "with open('best_hyperparameters.ini', 'w') as configfile:\n",
    "    config.write(configfile)\n"
   ]
  },
  {
   "cell_type": "markdown",
   "metadata": {},
   "source": [
    "### Testing parameter loading"
   ]
  },
  {
   "cell_type": "code",
   "execution_count": 18,
   "metadata": {},
   "outputs": [
    {
     "name": "stdout",
     "output_type": "stream",
     "text": [
      "embedding_dim: 256\n",
      "lstm_units: 128\n",
      "dropout_rate: 0.30000000000000004\n",
      "learning_rate: 0.001\n",
      "batch_size: 16\n"
     ]
    }
   ],
   "source": [
    "################\n",
    "# reading \n",
    "################\n",
    "config = configparser.ConfigParser()\n",
    "config.read('best_hyperparameters.ini')\n",
    "\n",
    "# Access hyperparameters\n",
    "embedding_dim = config.getint('Hyperparameters', 'embedding_dim')\n",
    "gru_units = config.getint('Hyperparameters', 'gru_units')\n",
    "dropout_rate = config.getfloat('Hyperparameters', 'dropout_rate')\n",
    "learning_rate = config.getfloat('Hyperparameters', 'learning_rate')\n",
    "batch_size = config.getint('Hyperparameters', 'batch_size')\n",
    "\n",
    "print(f\"embedding_dim: {embedding_dim}\")\n",
    "print(f\"gru_units: {gru_units}\")\n",
    "print(f\"dropout_rate: {dropout_rate}\")\n",
    "print(f\"learning_rate: {learning_rate}\")\n",
    "print(f\"batch_size: {batch_size}\")\n"
   ]
  },
  {
   "cell_type": "markdown",
   "metadata": {},
   "source": [
    "Parameters dictionnary"
   ]
  },
  {
   "cell_type": "markdown",
   "metadata": {},
   "source": [
    "Creating kerasClassifier to wrapp our model "
   ]
  },
  {
   "cell_type": "markdown",
   "metadata": {},
   "source": [
    "RandomSearchCV from best parameters"
   ]
  },
  {
   "cell_type": "markdown",
   "metadata": {},
   "source": [
    "Fitting to data"
   ]
  },
  {
   "cell_type": "markdown",
   "metadata": {},
   "source": [
    "Extraction statistics"
   ]
  },
  {
   "cell_type": "markdown",
   "metadata": {},
   "source": [
    "Graphs"
   ]
  },
  {
   "cell_type": "markdown",
   "metadata": {},
   "source": [
    "Saving the model"
   ]
  },
  {
   "cell_type": "markdown",
   "metadata": {},
   "source": [
    "Saving the tokenizer"
   ]
  }
 ],
 "metadata": {
  "kernelspec": {
   "display_name": ".gru",
   "language": "python",
   "name": "python3"
  },
  "language_info": {
   "codemirror_mode": {
    "name": "ipython",
    "version": 3
   },
   "file_extension": ".py",
   "mimetype": "text/x-python",
   "name": "python",
   "nbconvert_exporter": "python",
   "pygments_lexer": "ipython3",
   "version": "3.12.3"
  }
 },
 "nbformat": 4,
 "nbformat_minor": 2
}
