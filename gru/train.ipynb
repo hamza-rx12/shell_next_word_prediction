{
 "cells": [
  {
   "cell_type": "markdown",
   "metadata": {},
   "source": [
    "Some libraries to import"
   ]
  },
  {
   "cell_type": "code",
   "execution_count": 49,
   "metadata": {},
   "outputs": [],
   "source": [
    "import tensorflow as tf\n",
    "import numpy as np\n",
    "from tensorflow.keras.layers import GRU, Dropout, Embedding, Dense\n",
    "from tensorflow.keras.preprocessing.text import Tokenizer\n",
    "from tensorflow.keras.preprocessing.sequence import pad_sequences\n",
    "from tensorflow.keras.models import Sequential\n",
    "from sklearn.model_selection import train_test_split"
   ]
  },
  {
   "cell_type": "markdown",
   "metadata": {},
   "source": [
    "Choosing to work with the GPU for faster training"
   ]
  },
  {
   "cell_type": "code",
   "execution_count": 50,
   "metadata": {},
   "outputs": [],
   "source": [
    "gpus = tf.config.experimental.list_physical_devices('GPU')\n",
    "if gpus:\n",
    "    try:\n",
    "        tf.config.experimental.set_visible_devices(gpus[0], 'GPU')  # Use only the first GPU\n",
    "    except RuntimeError as e:\n",
    "        print(e) "
   ]
  },
  {
   "cell_type": "markdown",
   "metadata": {},
   "source": [
    "Importing data"
   ]
  },
  {
   "cell_type": "code",
   "execution_count": 51,
   "metadata": {},
   "outputs": [],
   "source": [
    "commands = []\n",
    "\n",
    "with open('data.txt', 'r') as file:\n",
    "    for line in file:\n",
    "      if line:\n",
    "        commands.append(line.strip())\n",
    "\n",
    "# commands"
   ]
  },
  {
   "cell_type": "markdown",
   "metadata": {},
   "source": [
    "Tokenization"
   ]
  },
  {
   "cell_type": "code",
   "execution_count": 52,
   "metadata": {},
   "outputs": [],
   "source": [
    "tokenizer = Tokenizer(filters='')\n",
    "tokenizer.fit_on_texts(commands)"
   ]
  },
  {
   "cell_type": "markdown",
   "metadata": {},
   "source": [
    "Sequencing"
   ]
  },
  {
   "cell_type": "code",
   "execution_count": 53,
   "metadata": {},
   "outputs": [],
   "source": [
    "sequences = tokenizer.texts_to_sequences(commands)\n",
    "word_index = tokenizer.word_index\n",
    "vocab_size = len(word_index) + 1"
   ]
  },
  {
   "cell_type": "markdown",
   "metadata": {},
   "source": [
    "Input Output sequences"
   ]
  },
  {
   "cell_type": "code",
   "execution_count": 54,
   "metadata": {},
   "outputs": [],
   "source": [
    "input_sequences = []\n",
    "target_sequences = []\n",
    "\n",
    "for seq in sequences:\n",
    "    for i in range(1, len(seq)):\n",
    "        input_sequences.append(seq[:i])\n",
    "        target_sequences.append(seq[i])"
   ]
  },
  {
   "cell_type": "markdown",
   "metadata": {},
   "source": [
    "Padding"
   ]
  },
  {
   "cell_type": "code",
   "execution_count": 55,
   "metadata": {},
   "outputs": [],
   "source": [
    "max_seq_len = max(len(seq) for seq in input_sequences)\n",
    "input_sequences = pad_sequences(input_sequences, maxlen=max_seq_len, padding='post')\n",
    "target_sequences = np.array(target_sequences)"
   ]
  },
  {
   "cell_type": "markdown",
   "metadata": {},
   "source": [
    "Train_text spliting"
   ]
  },
  {
   "cell_type": "code",
   "execution_count": 56,
   "metadata": {},
   "outputs": [],
   "source": [
    "x_train, x_test, y_train, y_test = train_test_split(input_sequences,target_sequences, test_size=0.2)"
   ]
  },
  {
   "cell_type": "markdown",
   "metadata": {},
   "source": [
    "Parameter loading"
   ]
  },
  {
   "cell_type": "code",
   "execution_count": 57,
   "metadata": {},
   "outputs": [
    {
     "data": {
      "text/plain": [
       "'sigmoid'"
      ]
     },
     "execution_count": 57,
     "metadata": {},
     "output_type": "execute_result"
    }
   ],
   "source": [
    "import configparser\n",
    "################\n",
    "# reading \n",
    "################\n",
    "config = configparser.ConfigParser()\n",
    "config.read('best_hyperparameters.ini')\n",
    "\n",
    "# Access hyperparameters\n",
    "embedding_dim = config.getint('Hyperparameters', 'embedding_dim')\n",
    "gru_units = config.getint('Hyperparameters', 'gru_units')\n",
    "dropout_rate = config.getfloat('Hyperparameters', 'dropout_rate')\n",
    "learning_rate = config.getfloat('Hyperparameters', 'learning_rate')\n",
    "batch_size = config.getint('Hyperparameters', 'batch_size')\n",
    "top_k = config.getint('Hyperparameters', 'top_k')\n",
    "activation = config.get('Hyperparameters', 'activation')\n",
    "activation"
   ]
  },
  {
   "cell_type": "markdown",
   "metadata": {},
   "source": [
    "Model building"
   ]
  },
  {
   "cell_type": "code",
   "execution_count": 58,
   "metadata": {},
   "outputs": [
    {
     "data": {
      "text/html": [
       "<pre style=\"white-space:pre;overflow-x:auto;line-height:normal;font-family:Menlo,'DejaVu Sans Mono',consolas,'Courier New',monospace\"><span style=\"font-weight: bold\">Model: \"sequential_3\"</span>\n",
       "</pre>\n"
      ],
      "text/plain": [
       "\u001b[1mModel: \"sequential_3\"\u001b[0m\n"
      ]
     },
     "metadata": {},
     "output_type": "display_data"
    },
    {
     "data": {
      "text/html": [
       "<pre style=\"white-space:pre;overflow-x:auto;line-height:normal;font-family:Menlo,'DejaVu Sans Mono',consolas,'Courier New',monospace\">┏━━━━━━━━━━━━━━━━━━━━━━━━━━━━━━━━━┳━━━━━━━━━━━━━━━━━━━━━━━━┳━━━━━━━━━━━━━━━┓\n",
       "┃<span style=\"font-weight: bold\"> Layer (type)                    </span>┃<span style=\"font-weight: bold\"> Output Shape           </span>┃<span style=\"font-weight: bold\">       Param # </span>┃\n",
       "┡━━━━━━━━━━━━━━━━━━━━━━━━━━━━━━━━━╇━━━━━━━━━━━━━━━━━━━━━━━━╇━━━━━━━━━━━━━━━┩\n",
       "│ embedding_3 (<span style=\"color: #0087ff; text-decoration-color: #0087ff\">Embedding</span>)         │ ?                      │   <span style=\"color: #00af00; text-decoration-color: #00af00\">0</span> (unbuilt) │\n",
       "├─────────────────────────────────┼────────────────────────┼───────────────┤\n",
       "│ gru_3 (<span style=\"color: #0087ff; text-decoration-color: #0087ff\">GRU</span>)                     │ ?                      │   <span style=\"color: #00af00; text-decoration-color: #00af00\">0</span> (unbuilt) │\n",
       "├─────────────────────────────────┼────────────────────────┼───────────────┤\n",
       "│ dropout_3 (<span style=\"color: #0087ff; text-decoration-color: #0087ff\">Dropout</span>)             │ ?                      │             <span style=\"color: #00af00; text-decoration-color: #00af00\">0</span> │\n",
       "├─────────────────────────────────┼────────────────────────┼───────────────┤\n",
       "│ dense_3 (<span style=\"color: #0087ff; text-decoration-color: #0087ff\">Dense</span>)                 │ ?                      │   <span style=\"color: #00af00; text-decoration-color: #00af00\">0</span> (unbuilt) │\n",
       "└─────────────────────────────────┴────────────────────────┴───────────────┘\n",
       "</pre>\n"
      ],
      "text/plain": [
       "┏━━━━━━━━━━━━━━━━━━━━━━━━━━━━━━━━━┳━━━━━━━━━━━━━━━━━━━━━━━━┳━━━━━━━━━━━━━━━┓\n",
       "┃\u001b[1m \u001b[0m\u001b[1mLayer (type)                   \u001b[0m\u001b[1m \u001b[0m┃\u001b[1m \u001b[0m\u001b[1mOutput Shape          \u001b[0m\u001b[1m \u001b[0m┃\u001b[1m \u001b[0m\u001b[1m      Param #\u001b[0m\u001b[1m \u001b[0m┃\n",
       "┡━━━━━━━━━━━━━━━━━━━━━━━━━━━━━━━━━╇━━━━━━━━━━━━━━━━━━━━━━━━╇━━━━━━━━━━━━━━━┩\n",
       "│ embedding_3 (\u001b[38;5;33mEmbedding\u001b[0m)         │ ?                      │   \u001b[38;5;34m0\u001b[0m (unbuilt) │\n",
       "├─────────────────────────────────┼────────────────────────┼───────────────┤\n",
       "│ gru_3 (\u001b[38;5;33mGRU\u001b[0m)                     │ ?                      │   \u001b[38;5;34m0\u001b[0m (unbuilt) │\n",
       "├─────────────────────────────────┼────────────────────────┼───────────────┤\n",
       "│ dropout_3 (\u001b[38;5;33mDropout\u001b[0m)             │ ?                      │             \u001b[38;5;34m0\u001b[0m │\n",
       "├─────────────────────────────────┼────────────────────────┼───────────────┤\n",
       "│ dense_3 (\u001b[38;5;33mDense\u001b[0m)                 │ ?                      │   \u001b[38;5;34m0\u001b[0m (unbuilt) │\n",
       "└─────────────────────────────────┴────────────────────────┴───────────────┘\n"
      ]
     },
     "metadata": {},
     "output_type": "display_data"
    },
    {
     "data": {
      "text/html": [
       "<pre style=\"white-space:pre;overflow-x:auto;line-height:normal;font-family:Menlo,'DejaVu Sans Mono',consolas,'Courier New',monospace\"><span style=\"font-weight: bold\"> Total params: </span><span style=\"color: #00af00; text-decoration-color: #00af00\">0</span> (0.00 B)\n",
       "</pre>\n"
      ],
      "text/plain": [
       "\u001b[1m Total params: \u001b[0m\u001b[38;5;34m0\u001b[0m (0.00 B)\n"
      ]
     },
     "metadata": {},
     "output_type": "display_data"
    },
    {
     "data": {
      "text/html": [
       "<pre style=\"white-space:pre;overflow-x:auto;line-height:normal;font-family:Menlo,'DejaVu Sans Mono',consolas,'Courier New',monospace\"><span style=\"font-weight: bold\"> Trainable params: </span><span style=\"color: #00af00; text-decoration-color: #00af00\">0</span> (0.00 B)\n",
       "</pre>\n"
      ],
      "text/plain": [
       "\u001b[1m Trainable params: \u001b[0m\u001b[38;5;34m0\u001b[0m (0.00 B)\n"
      ]
     },
     "metadata": {},
     "output_type": "display_data"
    },
    {
     "data": {
      "text/html": [
       "<pre style=\"white-space:pre;overflow-x:auto;line-height:normal;font-family:Menlo,'DejaVu Sans Mono',consolas,'Courier New',monospace\"><span style=\"font-weight: bold\"> Non-trainable params: </span><span style=\"color: #00af00; text-decoration-color: #00af00\">0</span> (0.00 B)\n",
       "</pre>\n"
      ],
      "text/plain": [
       "\u001b[1m Non-trainable params: \u001b[0m\u001b[38;5;34m0\u001b[0m (0.00 B)\n"
      ]
     },
     "metadata": {},
     "output_type": "display_data"
    }
   ],
   "source": [
    "model = Sequential([\n",
    "    Embedding(vocab_size, embedding_dim, input_length=max_seq_len),\n",
    "    GRU(gru_units, return_sequences=False),\n",
    "    Dropout(dropout_rate),\n",
    "    Dense(vocab_size, activation=activation)\n",
    "])\n",
    "\n",
    "model.compile(\n",
    "    optimizer=tf.keras.optimizers.Adam(learning_rate=learning_rate), \n",
    "    loss='sparse_categorical_crossentropy', \n",
    "    metrics=[tf.keras.metrics.SparseTopKCategoricalAccuracy(k=top_k)])\n",
    "model.summary()"
   ]
  },
  {
   "cell_type": "markdown",
   "metadata": {},
   "source": [
    "Limiting the usage of the gpu"
   ]
  },
  {
   "cell_type": "code",
   "execution_count": 59,
   "metadata": {},
   "outputs": [],
   "source": [
    "# gpus = tf.config.experimental.list_physical_devices('GPU')\n",
    "# if gpus:\n",
    "#   try:\n",
    "#     tf.config.experimental.set_virtual_device_configuration(\n",
    "#         gpus[0],[tf.config.experimental.VirtualDeviceConfiguration(memory_limit=5120)])\n",
    "#   except RuntimeError as e:\n",
    "#     print(e)"
   ]
  },
  {
   "cell_type": "markdown",
   "metadata": {},
   "source": [
    "Fitting to data"
   ]
  },
  {
   "cell_type": "code",
   "execution_count": 60,
   "metadata": {},
   "outputs": [
    {
     "name": "stdout",
     "output_type": "stream",
     "text": [
      "Epoch 1/150\n",
      "\u001b[1m491/491\u001b[0m \u001b[32m━━━━━━━━━━━━━━━━━━━━\u001b[0m\u001b[37m\u001b[0m \u001b[1m4s\u001b[0m 5ms/step - loss: 6.2047 - sparse_top_k_categorical_accuracy: 0.1571 - val_loss: 5.1917 - val_sparse_top_k_categorical_accuracy: 0.2793\n",
      "Epoch 2/150\n",
      "\u001b[1m491/491\u001b[0m \u001b[32m━━━━━━━━━━━━━━━━━━━━\u001b[0m\u001b[37m\u001b[0m \u001b[1m2s\u001b[0m 4ms/step - loss: 4.8836 - sparse_top_k_categorical_accuracy: 0.3264 - val_loss: 4.5286 - val_sparse_top_k_categorical_accuracy: 0.4032\n",
      "Epoch 3/150\n",
      "\u001b[1m491/491\u001b[0m \u001b[32m━━━━━━━━━━━━━━━━━━━━\u001b[0m\u001b[37m\u001b[0m \u001b[1m2s\u001b[0m 5ms/step - loss: 4.2070 - sparse_top_k_categorical_accuracy: 0.4323 - val_loss: 4.0092 - val_sparse_top_k_categorical_accuracy: 0.4720\n",
      "Epoch 4/150\n",
      "\u001b[1m491/491\u001b[0m \u001b[32m━━━━━━━━━━━━━━━━━━━━\u001b[0m\u001b[37m\u001b[0m \u001b[1m2s\u001b[0m 5ms/step - loss: 3.6317 - sparse_top_k_categorical_accuracy: 0.5319 - val_loss: 3.5756 - val_sparse_top_k_categorical_accuracy: 0.5530\n",
      "Epoch 5/150\n",
      "\u001b[1m491/491\u001b[0m \u001b[32m━━━━━━━━━━━━━━━━━━━━\u001b[0m\u001b[37m\u001b[0m \u001b[1m2s\u001b[0m 5ms/step - loss: 3.2460 - sparse_top_k_categorical_accuracy: 0.5885 - val_loss: 3.2760 - val_sparse_top_k_categorical_accuracy: 0.6075\n",
      "Epoch 6/150\n",
      "\u001b[1m491/491\u001b[0m \u001b[32m━━━━━━━━━━━━━━━━━━━━\u001b[0m\u001b[37m\u001b[0m \u001b[1m2s\u001b[0m 5ms/step - loss: 2.8726 - sparse_top_k_categorical_accuracy: 0.6503 - val_loss: 3.0388 - val_sparse_top_k_categorical_accuracy: 0.6371\n",
      "Epoch 7/150\n",
      "\u001b[1m491/491\u001b[0m \u001b[32m━━━━━━━━━━━━━━━━━━━━\u001b[0m\u001b[37m\u001b[0m \u001b[1m2s\u001b[0m 5ms/step - loss: 2.6677 - sparse_top_k_categorical_accuracy: 0.6855 - val_loss: 2.8555 - val_sparse_top_k_categorical_accuracy: 0.6626\n",
      "Epoch 8/150\n",
      "\u001b[1m491/491\u001b[0m \u001b[32m━━━━━━━━━━━━━━━━━━━━\u001b[0m\u001b[37m\u001b[0m \u001b[1m2s\u001b[0m 5ms/step - loss: 2.4624 - sparse_top_k_categorical_accuracy: 0.7222 - val_loss: 2.7117 - val_sparse_top_k_categorical_accuracy: 0.6820\n",
      "Epoch 9/150\n",
      "\u001b[1m491/491\u001b[0m \u001b[32m━━━━━━━━━━━━━━━━━━━━\u001b[0m\u001b[37m\u001b[0m \u001b[1m2s\u001b[0m 5ms/step - loss: 2.3315 - sparse_top_k_categorical_accuracy: 0.7434 - val_loss: 2.5990 - val_sparse_top_k_categorical_accuracy: 0.7018\n",
      "Epoch 10/150\n",
      "\u001b[1m491/491\u001b[0m \u001b[32m━━━━━━━━━━━━━━━━━━━━\u001b[0m\u001b[37m\u001b[0m \u001b[1m2s\u001b[0m 4ms/step - loss: 2.1938 - sparse_top_k_categorical_accuracy: 0.7619 - val_loss: 2.5043 - val_sparse_top_k_categorical_accuracy: 0.7207\n",
      "Epoch 11/150\n",
      "\u001b[1m491/491\u001b[0m \u001b[32m━━━━━━━━━━━━━━━━━━━━\u001b[0m\u001b[37m\u001b[0m \u001b[1m2s\u001b[0m 5ms/step - loss: 2.1121 - sparse_top_k_categorical_accuracy: 0.7762 - val_loss: 2.4474 - val_sparse_top_k_categorical_accuracy: 0.7207\n",
      "Epoch 12/150\n",
      "\u001b[1m491/491\u001b[0m \u001b[32m━━━━━━━━━━━━━━━━━━━━\u001b[0m\u001b[37m\u001b[0m \u001b[1m3s\u001b[0m 5ms/step - loss: 2.0031 - sparse_top_k_categorical_accuracy: 0.7898 - val_loss: 2.3747 - val_sparse_top_k_categorical_accuracy: 0.7446\n",
      "Epoch 13/150\n",
      "\u001b[1m491/491\u001b[0m \u001b[32m━━━━━━━━━━━━━━━━━━━━\u001b[0m\u001b[37m\u001b[0m \u001b[1m2s\u001b[0m 5ms/step - loss: 1.9833 - sparse_top_k_categorical_accuracy: 0.7863 - val_loss: 2.3210 - val_sparse_top_k_categorical_accuracy: 0.7462\n",
      "Epoch 14/150\n",
      "\u001b[1m491/491\u001b[0m \u001b[32m━━━━━━━━━━━━━━━━━━━━\u001b[0m\u001b[37m\u001b[0m \u001b[1m3s\u001b[0m 5ms/step - loss: 1.9481 - sparse_top_k_categorical_accuracy: 0.7920 - val_loss: 2.2716 - val_sparse_top_k_categorical_accuracy: 0.7599\n",
      "Epoch 15/150\n",
      "\u001b[1m491/491\u001b[0m \u001b[32m━━━━━━━━━━━━━━━━━━━━\u001b[0m\u001b[37m\u001b[0m \u001b[1m3s\u001b[0m 5ms/step - loss: 1.9048 - sparse_top_k_categorical_accuracy: 0.7955 - val_loss: 2.2389 - val_sparse_top_k_categorical_accuracy: 0.7604\n",
      "Epoch 16/150\n",
      "\u001b[1m491/491\u001b[0m \u001b[32m━━━━━━━━━━━━━━━━━━━━\u001b[0m\u001b[37m\u001b[0m \u001b[1m2s\u001b[0m 5ms/step - loss: 1.8880 - sparse_top_k_categorical_accuracy: 0.7879 - val_loss: 2.2029 - val_sparse_top_k_categorical_accuracy: 0.7625\n",
      "Epoch 17/150\n",
      "\u001b[1m491/491\u001b[0m \u001b[32m━━━━━━━━━━━━━━━━━━━━\u001b[0m\u001b[37m\u001b[0m \u001b[1m2s\u001b[0m 5ms/step - loss: 1.7965 - sparse_top_k_categorical_accuracy: 0.8112 - val_loss: 2.1625 - val_sparse_top_k_categorical_accuracy: 0.7727\n",
      "Epoch 18/150\n",
      "\u001b[1m491/491\u001b[0m \u001b[32m━━━━━━━━━━━━━━━━━━━━\u001b[0m\u001b[37m\u001b[0m \u001b[1m3s\u001b[0m 5ms/step - loss: 1.7302 - sparse_top_k_categorical_accuracy: 0.8145 - val_loss: 2.1277 - val_sparse_top_k_categorical_accuracy: 0.7727\n",
      "Epoch 19/150\n",
      "\u001b[1m491/491\u001b[0m \u001b[32m━━━━━━━━━━━━━━━━━━━━\u001b[0m\u001b[37m\u001b[0m \u001b[1m2s\u001b[0m 5ms/step - loss: 1.7990 - sparse_top_k_categorical_accuracy: 0.8020 - val_loss: 2.1225 - val_sparse_top_k_categorical_accuracy: 0.7762\n",
      "Epoch 20/150\n",
      "\u001b[1m491/491\u001b[0m \u001b[32m━━━━━━━━━━━━━━━━━━━━\u001b[0m\u001b[37m\u001b[0m \u001b[1m2s\u001b[0m 5ms/step - loss: 1.7415 - sparse_top_k_categorical_accuracy: 0.8135 - val_loss: 2.1022 - val_sparse_top_k_categorical_accuracy: 0.7696\n",
      "Epoch 21/150\n",
      "\u001b[1m491/491\u001b[0m \u001b[32m━━━━━━━━━━━━━━━━━━━━\u001b[0m\u001b[37m\u001b[0m \u001b[1m3s\u001b[0m 5ms/step - loss: 1.7155 - sparse_top_k_categorical_accuracy: 0.8055 - val_loss: 2.0641 - val_sparse_top_k_categorical_accuracy: 0.7727\n",
      "Epoch 22/150\n",
      "\u001b[1m491/491\u001b[0m \u001b[32m━━━━━━━━━━━━━━━━━━━━\u001b[0m\u001b[37m\u001b[0m \u001b[1m2s\u001b[0m 5ms/step - loss: 1.7191 - sparse_top_k_categorical_accuracy: 0.8088 - val_loss: 2.0622 - val_sparse_top_k_categorical_accuracy: 0.7798\n",
      "Epoch 23/150\n",
      "\u001b[1m491/491\u001b[0m \u001b[32m━━━━━━━━━━━━━━━━━━━━\u001b[0m\u001b[37m\u001b[0m \u001b[1m2s\u001b[0m 5ms/step - loss: 1.7148 - sparse_top_k_categorical_accuracy: 0.8135 - val_loss: 2.0482 - val_sparse_top_k_categorical_accuracy: 0.7783\n",
      "Epoch 24/150\n",
      "\u001b[1m491/491\u001b[0m \u001b[32m━━━━━━━━━━━━━━━━━━━━\u001b[0m\u001b[37m\u001b[0m \u001b[1m2s\u001b[0m 5ms/step - loss: 1.7153 - sparse_top_k_categorical_accuracy: 0.8090 - val_loss: 2.0482 - val_sparse_top_k_categorical_accuracy: 0.7849\n",
      "Epoch 25/150\n",
      "\u001b[1m491/491\u001b[0m \u001b[32m━━━━━━━━━━━━━━━━━━━━\u001b[0m\u001b[37m\u001b[0m \u001b[1m2s\u001b[0m 5ms/step - loss: 1.6965 - sparse_top_k_categorical_accuracy: 0.8152 - val_loss: 2.0260 - val_sparse_top_k_categorical_accuracy: 0.7844\n",
      "Epoch 26/150\n",
      "\u001b[1m491/491\u001b[0m \u001b[32m━━━━━━━━━━━━━━━━━━━━\u001b[0m\u001b[37m\u001b[0m \u001b[1m2s\u001b[0m 5ms/step - loss: 1.6892 - sparse_top_k_categorical_accuracy: 0.8118 - val_loss: 2.0202 - val_sparse_top_k_categorical_accuracy: 0.7829\n",
      "Epoch 27/150\n",
      "\u001b[1m491/491\u001b[0m \u001b[32m━━━━━━━━━━━━━━━━━━━━\u001b[0m\u001b[37m\u001b[0m \u001b[1m3s\u001b[0m 5ms/step - loss: 1.6866 - sparse_top_k_categorical_accuracy: 0.8088 - val_loss: 2.0169 - val_sparse_top_k_categorical_accuracy: 0.7890\n",
      "Epoch 28/150\n",
      "\u001b[1m491/491\u001b[0m \u001b[32m━━━━━━━━━━━━━━━━━━━━\u001b[0m\u001b[37m\u001b[0m \u001b[1m2s\u001b[0m 5ms/step - loss: 1.6646 - sparse_top_k_categorical_accuracy: 0.8133 - val_loss: 2.0092 - val_sparse_top_k_categorical_accuracy: 0.7798\n",
      "Epoch 29/150\n",
      "\u001b[1m491/491\u001b[0m \u001b[32m━━━━━━━━━━━━━━━━━━━━\u001b[0m\u001b[37m\u001b[0m \u001b[1m2s\u001b[0m 5ms/step - loss: 1.6709 - sparse_top_k_categorical_accuracy: 0.8033 - val_loss: 2.0250 - val_sparse_top_k_categorical_accuracy: 0.7895\n",
      "Epoch 30/150\n",
      "\u001b[1m491/491\u001b[0m \u001b[32m━━━━━━━━━━━━━━━━━━━━\u001b[0m\u001b[37m\u001b[0m \u001b[1m2s\u001b[0m 5ms/step - loss: 1.6728 - sparse_top_k_categorical_accuracy: 0.8128 - val_loss: 2.0073 - val_sparse_top_k_categorical_accuracy: 0.7839\n",
      "Epoch 31/150\n",
      "\u001b[1m491/491\u001b[0m \u001b[32m━━━━━━━━━━━━━━━━━━━━\u001b[0m\u001b[37m\u001b[0m \u001b[1m2s\u001b[0m 5ms/step - loss: 1.6453 - sparse_top_k_categorical_accuracy: 0.8160 - val_loss: 2.0005 - val_sparse_top_k_categorical_accuracy: 0.7926\n",
      "Epoch 32/150\n",
      "\u001b[1m491/491\u001b[0m \u001b[32m━━━━━━━━━━━━━━━━━━━━\u001b[0m\u001b[37m\u001b[0m \u001b[1m2s\u001b[0m 5ms/step - loss: 1.6711 - sparse_top_k_categorical_accuracy: 0.8102 - val_loss: 1.9882 - val_sparse_top_k_categorical_accuracy: 0.7864\n",
      "Epoch 33/150\n",
      "\u001b[1m491/491\u001b[0m \u001b[32m━━━━━━━━━━━━━━━━━━━━\u001b[0m\u001b[37m\u001b[0m \u001b[1m2s\u001b[0m 5ms/step - loss: 1.6259 - sparse_top_k_categorical_accuracy: 0.8147 - val_loss: 1.9992 - val_sparse_top_k_categorical_accuracy: 0.7875\n",
      "Epoch 34/150\n",
      "\u001b[1m491/491\u001b[0m \u001b[32m━━━━━━━━━━━━━━━━━━━━\u001b[0m\u001b[37m\u001b[0m \u001b[1m2s\u001b[0m 5ms/step - loss: 1.6593 - sparse_top_k_categorical_accuracy: 0.8105 - val_loss: 1.9899 - val_sparse_top_k_categorical_accuracy: 0.7941\n",
      "Epoch 35/150\n",
      "\u001b[1m491/491\u001b[0m \u001b[32m━━━━━━━━━━━━━━━━━━━━\u001b[0m\u001b[37m\u001b[0m \u001b[1m3s\u001b[0m 5ms/step - loss: 1.6329 - sparse_top_k_categorical_accuracy: 0.8175 - val_loss: 1.9897 - val_sparse_top_k_categorical_accuracy: 0.7885\n",
      "Epoch 36/150\n",
      "\u001b[1m491/491\u001b[0m \u001b[32m━━━━━━━━━━━━━━━━━━━━\u001b[0m\u001b[37m\u001b[0m \u001b[1m3s\u001b[0m 5ms/step - loss: 1.6132 - sparse_top_k_categorical_accuracy: 0.8167 - val_loss: 2.0192 - val_sparse_top_k_categorical_accuracy: 0.7900\n",
      "Epoch 37/150\n",
      "\u001b[1m491/491\u001b[0m \u001b[32m━━━━━━━━━━━━━━━━━━━━\u001b[0m\u001b[37m\u001b[0m \u001b[1m2s\u001b[0m 5ms/step - loss: 1.6298 - sparse_top_k_categorical_accuracy: 0.8157 - val_loss: 1.9948 - val_sparse_top_k_categorical_accuracy: 0.7915\n",
      "Epoch 38/150\n",
      "\u001b[1m491/491\u001b[0m \u001b[32m━━━━━━━━━━━━━━━━━━━━\u001b[0m\u001b[37m\u001b[0m \u001b[1m2s\u001b[0m 5ms/step - loss: 1.6218 - sparse_top_k_categorical_accuracy: 0.8138 - val_loss: 1.9995 - val_sparse_top_k_categorical_accuracy: 0.7885\n",
      "Epoch 39/150\n",
      "\u001b[1m491/491\u001b[0m \u001b[32m━━━━━━━━━━━━━━━━━━━━\u001b[0m\u001b[37m\u001b[0m \u001b[1m3s\u001b[0m 5ms/step - loss: 1.6155 - sparse_top_k_categorical_accuracy: 0.8151 - val_loss: 2.0001 - val_sparse_top_k_categorical_accuracy: 0.7895\n",
      "Epoch 40/150\n",
      "\u001b[1m491/491\u001b[0m \u001b[32m━━━━━━━━━━━━━━━━━━━━\u001b[0m\u001b[37m\u001b[0m \u001b[1m3s\u001b[0m 5ms/step - loss: 1.6394 - sparse_top_k_categorical_accuracy: 0.8095 - val_loss: 1.9938 - val_sparse_top_k_categorical_accuracy: 0.7941\n",
      "Epoch 41/150\n",
      "\u001b[1m491/491\u001b[0m \u001b[32m━━━━━━━━━━━━━━━━━━━━\u001b[0m\u001b[37m\u001b[0m \u001b[1m3s\u001b[0m 5ms/step - loss: 1.6547 - sparse_top_k_categorical_accuracy: 0.7975 - val_loss: 1.9947 - val_sparse_top_k_categorical_accuracy: 0.7956\n",
      "Epoch 42/150\n",
      "\u001b[1m491/491\u001b[0m \u001b[32m━━━━━━━━━━━━━━━━━━━━\u001b[0m\u001b[37m\u001b[0m \u001b[1m2s\u001b[0m 5ms/step - loss: 1.6190 - sparse_top_k_categorical_accuracy: 0.8181 - val_loss: 2.0053 - val_sparse_top_k_categorical_accuracy: 0.7864\n",
      "Epoch 43/150\n",
      "\u001b[1m491/491\u001b[0m \u001b[32m━━━━━━━━━━━━━━━━━━━━\u001b[0m\u001b[37m\u001b[0m \u001b[1m3s\u001b[0m 5ms/step - loss: 1.6309 - sparse_top_k_categorical_accuracy: 0.8140 - val_loss: 1.9830 - val_sparse_top_k_categorical_accuracy: 0.7910\n",
      "Epoch 44/150\n",
      "\u001b[1m491/491\u001b[0m \u001b[32m━━━━━━━━━━━━━━━━━━━━\u001b[0m\u001b[37m\u001b[0m \u001b[1m2s\u001b[0m 5ms/step - loss: 1.6099 - sparse_top_k_categorical_accuracy: 0.8232 - val_loss: 1.9919 - val_sparse_top_k_categorical_accuracy: 0.7946\n",
      "Epoch 45/150\n",
      "\u001b[1m491/491\u001b[0m \u001b[32m━━━━━━━━━━━━━━━━━━━━\u001b[0m\u001b[37m\u001b[0m \u001b[1m2s\u001b[0m 5ms/step - loss: 1.6202 - sparse_top_k_categorical_accuracy: 0.8112 - val_loss: 1.9793 - val_sparse_top_k_categorical_accuracy: 0.7992\n",
      "Epoch 46/150\n",
      "\u001b[1m491/491\u001b[0m \u001b[32m━━━━━━━━━━━━━━━━━━━━\u001b[0m\u001b[37m\u001b[0m \u001b[1m3s\u001b[0m 5ms/step - loss: 1.6155 - sparse_top_k_categorical_accuracy: 0.8130 - val_loss: 1.9837 - val_sparse_top_k_categorical_accuracy: 0.8012\n",
      "Epoch 47/150\n",
      "\u001b[1m491/491\u001b[0m \u001b[32m━━━━━━━━━━━━━━━━━━━━\u001b[0m\u001b[37m\u001b[0m \u001b[1m2s\u001b[0m 5ms/step - loss: 1.6008 - sparse_top_k_categorical_accuracy: 0.8119 - val_loss: 1.9849 - val_sparse_top_k_categorical_accuracy: 0.7951\n",
      "Epoch 48/150\n",
      "\u001b[1m491/491\u001b[0m \u001b[32m━━━━━━━━━━━━━━━━━━━━\u001b[0m\u001b[37m\u001b[0m \u001b[1m3s\u001b[0m 5ms/step - loss: 1.5944 - sparse_top_k_categorical_accuracy: 0.8193 - val_loss: 1.9799 - val_sparse_top_k_categorical_accuracy: 0.7875\n",
      "Epoch 49/150\n",
      "\u001b[1m491/491\u001b[0m \u001b[32m━━━━━━━━━━━━━━━━━━━━\u001b[0m\u001b[37m\u001b[0m \u001b[1m2s\u001b[0m 5ms/step - loss: 1.6411 - sparse_top_k_categorical_accuracy: 0.8085 - val_loss: 1.9898 - val_sparse_top_k_categorical_accuracy: 0.7864\n",
      "Epoch 50/150\n",
      "\u001b[1m491/491\u001b[0m \u001b[32m━━━━━━━━━━━━━━━━━━━━\u001b[0m\u001b[37m\u001b[0m \u001b[1m2s\u001b[0m 5ms/step - loss: 1.6191 - sparse_top_k_categorical_accuracy: 0.8131 - val_loss: 1.9815 - val_sparse_top_k_categorical_accuracy: 0.7961\n",
      "Epoch 51/150\n",
      "\u001b[1m491/491\u001b[0m \u001b[32m━━━━━━━━━━━━━━━━━━━━\u001b[0m\u001b[37m\u001b[0m \u001b[1m3s\u001b[0m 5ms/step - loss: 1.5692 - sparse_top_k_categorical_accuracy: 0.8185 - val_loss: 1.9962 - val_sparse_top_k_categorical_accuracy: 0.7900\n",
      "Epoch 52/150\n",
      "\u001b[1m491/491\u001b[0m \u001b[32m━━━━━━━━━━━━━━━━━━━━\u001b[0m\u001b[37m\u001b[0m \u001b[1m2s\u001b[0m 5ms/step - loss: 1.6202 - sparse_top_k_categorical_accuracy: 0.8095 - val_loss: 1.9938 - val_sparse_top_k_categorical_accuracy: 0.7982\n",
      "Epoch 53/150\n",
      "\u001b[1m491/491\u001b[0m \u001b[32m━━━━━━━━━━━━━━━━━━━━\u001b[0m\u001b[37m\u001b[0m \u001b[1m2s\u001b[0m 5ms/step - loss: 1.6179 - sparse_top_k_categorical_accuracy: 0.8145 - val_loss: 1.9816 - val_sparse_top_k_categorical_accuracy: 0.7915\n",
      "Epoch 54/150\n",
      "\u001b[1m491/491\u001b[0m \u001b[32m━━━━━━━━━━━━━━━━━━━━\u001b[0m\u001b[37m\u001b[0m \u001b[1m2s\u001b[0m 5ms/step - loss: 1.5733 - sparse_top_k_categorical_accuracy: 0.8179 - val_loss: 1.9837 - val_sparse_top_k_categorical_accuracy: 0.7931\n",
      "Epoch 55/150\n",
      "\u001b[1m491/491\u001b[0m \u001b[32m━━━━━━━━━━━━━━━━━━━━\u001b[0m\u001b[37m\u001b[0m \u001b[1m3s\u001b[0m 5ms/step - loss: 1.5671 - sparse_top_k_categorical_accuracy: 0.8202 - val_loss: 1.9932 - val_sparse_top_k_categorical_accuracy: 0.7936\n",
      "Epoch 56/150\n",
      "\u001b[1m491/491\u001b[0m \u001b[32m━━━━━━━━━━━━━━━━━━━━\u001b[0m\u001b[37m\u001b[0m \u001b[1m3s\u001b[0m 5ms/step - loss: 1.5840 - sparse_top_k_categorical_accuracy: 0.8179 - val_loss: 1.9839 - val_sparse_top_k_categorical_accuracy: 0.7905\n",
      "Epoch 57/150\n",
      "\u001b[1m491/491\u001b[0m \u001b[32m━━━━━━━━━━━━━━━━━━━━\u001b[0m\u001b[37m\u001b[0m \u001b[1m2s\u001b[0m 5ms/step - loss: 1.6059 - sparse_top_k_categorical_accuracy: 0.8153 - val_loss: 1.9715 - val_sparse_top_k_categorical_accuracy: 0.7956\n",
      "Epoch 58/150\n",
      "\u001b[1m491/491\u001b[0m \u001b[32m━━━━━━━━━━━━━━━━━━━━\u001b[0m\u001b[37m\u001b[0m \u001b[1m2s\u001b[0m 5ms/step - loss: 1.5855 - sparse_top_k_categorical_accuracy: 0.8195 - val_loss: 1.9743 - val_sparse_top_k_categorical_accuracy: 0.7951\n",
      "Epoch 59/150\n",
      "\u001b[1m491/491\u001b[0m \u001b[32m━━━━━━━━━━━━━━━━━━━━\u001b[0m\u001b[37m\u001b[0m \u001b[1m2s\u001b[0m 5ms/step - loss: 1.5897 - sparse_top_k_categorical_accuracy: 0.8111 - val_loss: 1.9736 - val_sparse_top_k_categorical_accuracy: 0.7936\n",
      "Epoch 60/150\n",
      "\u001b[1m491/491\u001b[0m \u001b[32m━━━━━━━━━━━━━━━━━━━━\u001b[0m\u001b[37m\u001b[0m \u001b[1m3s\u001b[0m 5ms/step - loss: 1.6212 - sparse_top_k_categorical_accuracy: 0.8085 - val_loss: 1.9825 - val_sparse_top_k_categorical_accuracy: 0.7859\n",
      "Epoch 61/150\n",
      "\u001b[1m491/491\u001b[0m \u001b[32m━━━━━━━━━━━━━━━━━━━━\u001b[0m\u001b[37m\u001b[0m \u001b[1m3s\u001b[0m 5ms/step - loss: 1.5952 - sparse_top_k_categorical_accuracy: 0.8086 - val_loss: 1.9882 - val_sparse_top_k_categorical_accuracy: 0.7910\n",
      "Epoch 62/150\n",
      "\u001b[1m491/491\u001b[0m \u001b[32m━━━━━━━━━━━━━━━━━━━━\u001b[0m\u001b[37m\u001b[0m \u001b[1m3s\u001b[0m 5ms/step - loss: 1.6127 - sparse_top_k_categorical_accuracy: 0.8168 - val_loss: 1.9716 - val_sparse_top_k_categorical_accuracy: 0.7931\n",
      "Epoch 63/150\n",
      "\u001b[1m491/491\u001b[0m \u001b[32m━━━━━━━━━━━━━━━━━━━━\u001b[0m\u001b[37m\u001b[0m \u001b[1m2s\u001b[0m 5ms/step - loss: 1.6200 - sparse_top_k_categorical_accuracy: 0.8140 - val_loss: 2.0061 - val_sparse_top_k_categorical_accuracy: 0.7915\n",
      "Epoch 64/150\n",
      "\u001b[1m491/491\u001b[0m \u001b[32m━━━━━━━━━━━━━━━━━━━━\u001b[0m\u001b[37m\u001b[0m \u001b[1m3s\u001b[0m 5ms/step - loss: 1.6369 - sparse_top_k_categorical_accuracy: 0.8093 - val_loss: 1.9889 - val_sparse_top_k_categorical_accuracy: 0.7900\n",
      "Epoch 65/150\n",
      "\u001b[1m491/491\u001b[0m \u001b[32m━━━━━━━━━━━━━━━━━━━━\u001b[0m\u001b[37m\u001b[0m \u001b[1m3s\u001b[0m 5ms/step - loss: 1.5875 - sparse_top_k_categorical_accuracy: 0.8206 - val_loss: 1.9793 - val_sparse_top_k_categorical_accuracy: 0.7875\n",
      "Epoch 66/150\n",
      "\u001b[1m491/491\u001b[0m \u001b[32m━━━━━━━━━━━━━━━━━━━━\u001b[0m\u001b[37m\u001b[0m \u001b[1m3s\u001b[0m 5ms/step - loss: 1.6054 - sparse_top_k_categorical_accuracy: 0.8127 - val_loss: 1.9497 - val_sparse_top_k_categorical_accuracy: 0.7926\n",
      "Epoch 67/150\n",
      "\u001b[1m491/491\u001b[0m \u001b[32m━━━━━━━━━━━━━━━━━━━━\u001b[0m\u001b[37m\u001b[0m \u001b[1m3s\u001b[0m 5ms/step - loss: 1.5783 - sparse_top_k_categorical_accuracy: 0.8204 - val_loss: 1.9649 - val_sparse_top_k_categorical_accuracy: 0.7936\n",
      "Epoch 68/150\n",
      "\u001b[1m491/491\u001b[0m \u001b[32m━━━━━━━━━━━━━━━━━━━━\u001b[0m\u001b[37m\u001b[0m \u001b[1m3s\u001b[0m 5ms/step - loss: 1.6009 - sparse_top_k_categorical_accuracy: 0.8119 - val_loss: 1.9737 - val_sparse_top_k_categorical_accuracy: 0.7864\n",
      "Epoch 69/150\n",
      "\u001b[1m491/491\u001b[0m \u001b[32m━━━━━━━━━━━━━━━━━━━━\u001b[0m\u001b[37m\u001b[0m \u001b[1m2s\u001b[0m 5ms/step - loss: 1.5973 - sparse_top_k_categorical_accuracy: 0.8147 - val_loss: 1.9714 - val_sparse_top_k_categorical_accuracy: 0.7854\n",
      "Epoch 70/150\n",
      "\u001b[1m491/491\u001b[0m \u001b[32m━━━━━━━━━━━━━━━━━━━━\u001b[0m\u001b[37m\u001b[0m \u001b[1m3s\u001b[0m 5ms/step - loss: 1.5939 - sparse_top_k_categorical_accuracy: 0.8132 - val_loss: 1.9807 - val_sparse_top_k_categorical_accuracy: 0.7875\n",
      "Epoch 71/150\n",
      "\u001b[1m491/491\u001b[0m \u001b[32m━━━━━━━━━━━━━━━━━━━━\u001b[0m\u001b[37m\u001b[0m \u001b[1m3s\u001b[0m 5ms/step - loss: 1.5643 - sparse_top_k_categorical_accuracy: 0.8191 - val_loss: 1.9791 - val_sparse_top_k_categorical_accuracy: 0.7905\n",
      "Epoch 72/150\n",
      "\u001b[1m491/491\u001b[0m \u001b[32m━━━━━━━━━━━━━━━━━━━━\u001b[0m\u001b[37m\u001b[0m \u001b[1m2s\u001b[0m 5ms/step - loss: 1.5921 - sparse_top_k_categorical_accuracy: 0.8132 - val_loss: 1.9815 - val_sparse_top_k_categorical_accuracy: 0.7890\n",
      "Epoch 73/150\n",
      "\u001b[1m491/491\u001b[0m \u001b[32m━━━━━━━━━━━━━━━━━━━━\u001b[0m\u001b[37m\u001b[0m \u001b[1m2s\u001b[0m 5ms/step - loss: 1.5969 - sparse_top_k_categorical_accuracy: 0.8140 - val_loss: 1.9720 - val_sparse_top_k_categorical_accuracy: 0.7926\n",
      "Epoch 74/150\n",
      "\u001b[1m491/491\u001b[0m \u001b[32m━━━━━━━━━━━━━━━━━━━━\u001b[0m\u001b[37m\u001b[0m \u001b[1m3s\u001b[0m 5ms/step - loss: 1.5695 - sparse_top_k_categorical_accuracy: 0.8166 - val_loss: 1.9695 - val_sparse_top_k_categorical_accuracy: 0.7926\n",
      "Epoch 75/150\n",
      "\u001b[1m491/491\u001b[0m \u001b[32m━━━━━━━━━━━━━━━━━━━━\u001b[0m\u001b[37m\u001b[0m \u001b[1m2s\u001b[0m 5ms/step - loss: 1.5940 - sparse_top_k_categorical_accuracy: 0.8165 - val_loss: 1.9742 - val_sparse_top_k_categorical_accuracy: 0.7941\n",
      "Epoch 76/150\n",
      "\u001b[1m491/491\u001b[0m \u001b[32m━━━━━━━━━━━━━━━━━━━━\u001b[0m\u001b[37m\u001b[0m \u001b[1m3s\u001b[0m 5ms/step - loss: 1.5911 - sparse_top_k_categorical_accuracy: 0.8119 - val_loss: 1.9801 - val_sparse_top_k_categorical_accuracy: 0.7961\n",
      "Epoch 77/150\n",
      "\u001b[1m491/491\u001b[0m \u001b[32m━━━━━━━━━━━━━━━━━━━━\u001b[0m\u001b[37m\u001b[0m \u001b[1m3s\u001b[0m 5ms/step - loss: 1.6420 - sparse_top_k_categorical_accuracy: 0.8069 - val_loss: 1.9685 - val_sparse_top_k_categorical_accuracy: 0.7966\n",
      "Epoch 78/150\n",
      "\u001b[1m491/491\u001b[0m \u001b[32m━━━━━━━━━━━━━━━━━━━━\u001b[0m\u001b[37m\u001b[0m \u001b[1m2s\u001b[0m 5ms/step - loss: 1.5681 - sparse_top_k_categorical_accuracy: 0.8163 - val_loss: 1.9785 - val_sparse_top_k_categorical_accuracy: 0.7870\n",
      "Epoch 79/150\n",
      "\u001b[1m491/491\u001b[0m \u001b[32m━━━━━━━━━━━━━━━━━━━━\u001b[0m\u001b[37m\u001b[0m \u001b[1m3s\u001b[0m 5ms/step - loss: 1.5754 - sparse_top_k_categorical_accuracy: 0.8181 - val_loss: 1.9786 - val_sparse_top_k_categorical_accuracy: 0.7987\n",
      "Epoch 80/150\n",
      "\u001b[1m491/491\u001b[0m \u001b[32m━━━━━━━━━━━━━━━━━━━━\u001b[0m\u001b[37m\u001b[0m \u001b[1m2s\u001b[0m 5ms/step - loss: 1.5875 - sparse_top_k_categorical_accuracy: 0.8147 - val_loss: 1.9700 - val_sparse_top_k_categorical_accuracy: 0.7870\n",
      "Epoch 81/150\n",
      "\u001b[1m491/491\u001b[0m \u001b[32m━━━━━━━━━━━━━━━━━━━━\u001b[0m\u001b[37m\u001b[0m \u001b[1m3s\u001b[0m 5ms/step - loss: 1.6058 - sparse_top_k_categorical_accuracy: 0.8129 - val_loss: 1.9717 - val_sparse_top_k_categorical_accuracy: 0.7936\n",
      "Epoch 82/150\n",
      "\u001b[1m491/491\u001b[0m \u001b[32m━━━━━━━━━━━━━━━━━━━━\u001b[0m\u001b[37m\u001b[0m \u001b[1m2s\u001b[0m 5ms/step - loss: 1.6197 - sparse_top_k_categorical_accuracy: 0.8058 - val_loss: 1.9514 - val_sparse_top_k_categorical_accuracy: 0.7936\n",
      "Epoch 83/150\n",
      "\u001b[1m491/491\u001b[0m \u001b[32m━━━━━━━━━━━━━━━━━━━━\u001b[0m\u001b[37m\u001b[0m \u001b[1m2s\u001b[0m 5ms/step - loss: 1.5817 - sparse_top_k_categorical_accuracy: 0.8183 - val_loss: 1.9673 - val_sparse_top_k_categorical_accuracy: 0.7931\n",
      "Epoch 84/150\n",
      "\u001b[1m491/491\u001b[0m \u001b[32m━━━━━━━━━━━━━━━━━━━━\u001b[0m\u001b[37m\u001b[0m \u001b[1m3s\u001b[0m 5ms/step - loss: 1.5639 - sparse_top_k_categorical_accuracy: 0.8181 - val_loss: 1.9624 - val_sparse_top_k_categorical_accuracy: 0.7870\n",
      "Epoch 85/150\n",
      "\u001b[1m491/491\u001b[0m \u001b[32m━━━━━━━━━━━━━━━━━━━━\u001b[0m\u001b[37m\u001b[0m \u001b[1m3s\u001b[0m 5ms/step - loss: 1.5873 - sparse_top_k_categorical_accuracy: 0.8131 - val_loss: 1.9639 - val_sparse_top_k_categorical_accuracy: 0.7941\n",
      "Epoch 86/150\n",
      "\u001b[1m491/491\u001b[0m \u001b[32m━━━━━━━━━━━━━━━━━━━━\u001b[0m\u001b[37m\u001b[0m \u001b[1m3s\u001b[0m 5ms/step - loss: 1.5927 - sparse_top_k_categorical_accuracy: 0.8169 - val_loss: 1.9706 - val_sparse_top_k_categorical_accuracy: 0.7900\n",
      "Epoch 87/150\n",
      "\u001b[1m491/491\u001b[0m \u001b[32m━━━━━━━━━━━━━━━━━━━━\u001b[0m\u001b[37m\u001b[0m \u001b[1m3s\u001b[0m 5ms/step - loss: 1.5782 - sparse_top_k_categorical_accuracy: 0.8122 - val_loss: 1.9779 - val_sparse_top_k_categorical_accuracy: 0.7936\n",
      "Epoch 88/150\n",
      "\u001b[1m491/491\u001b[0m \u001b[32m━━━━━━━━━━━━━━━━━━━━\u001b[0m\u001b[37m\u001b[0m \u001b[1m3s\u001b[0m 5ms/step - loss: 1.5854 - sparse_top_k_categorical_accuracy: 0.8176 - val_loss: 1.9740 - val_sparse_top_k_categorical_accuracy: 0.7931\n",
      "Epoch 89/150\n",
      "\u001b[1m491/491\u001b[0m \u001b[32m━━━━━━━━━━━━━━━━━━━━\u001b[0m\u001b[37m\u001b[0m \u001b[1m2s\u001b[0m 5ms/step - loss: 1.5896 - sparse_top_k_categorical_accuracy: 0.8125 - val_loss: 1.9751 - val_sparse_top_k_categorical_accuracy: 0.7951\n",
      "Epoch 90/150\n",
      "\u001b[1m491/491\u001b[0m \u001b[32m━━━━━━━━━━━━━━━━━━━━\u001b[0m\u001b[37m\u001b[0m \u001b[1m2s\u001b[0m 5ms/step - loss: 1.6090 - sparse_top_k_categorical_accuracy: 0.8114 - val_loss: 1.9798 - val_sparse_top_k_categorical_accuracy: 0.7956\n",
      "Epoch 91/150\n",
      "\u001b[1m491/491\u001b[0m \u001b[32m━━━━━━━━━━━━━━━━━━━━\u001b[0m\u001b[37m\u001b[0m \u001b[1m2s\u001b[0m 5ms/step - loss: 1.6172 - sparse_top_k_categorical_accuracy: 0.8098 - val_loss: 1.9610 - val_sparse_top_k_categorical_accuracy: 0.7946\n",
      "Epoch 92/150\n",
      "\u001b[1m491/491\u001b[0m \u001b[32m━━━━━━━━━━━━━━━━━━━━\u001b[0m\u001b[37m\u001b[0m \u001b[1m2s\u001b[0m 5ms/step - loss: 1.5558 - sparse_top_k_categorical_accuracy: 0.8254 - val_loss: 1.9569 - val_sparse_top_k_categorical_accuracy: 0.7977\n",
      "Epoch 93/150\n",
      "\u001b[1m491/491\u001b[0m \u001b[32m━━━━━━━━━━━━━━━━━━━━\u001b[0m\u001b[37m\u001b[0m \u001b[1m2s\u001b[0m 5ms/step - loss: 1.5808 - sparse_top_k_categorical_accuracy: 0.8196 - val_loss: 1.9675 - val_sparse_top_k_categorical_accuracy: 0.7915\n",
      "Epoch 94/150\n",
      "\u001b[1m491/491\u001b[0m \u001b[32m━━━━━━━━━━━━━━━━━━━━\u001b[0m\u001b[37m\u001b[0m \u001b[1m2s\u001b[0m 5ms/step - loss: 1.6102 - sparse_top_k_categorical_accuracy: 0.8057 - val_loss: 1.9717 - val_sparse_top_k_categorical_accuracy: 0.7941\n",
      "Epoch 95/150\n",
      "\u001b[1m491/491\u001b[0m \u001b[32m━━━━━━━━━━━━━━━━━━━━\u001b[0m\u001b[37m\u001b[0m \u001b[1m2s\u001b[0m 5ms/step - loss: 1.5827 - sparse_top_k_categorical_accuracy: 0.8202 - val_loss: 1.9583 - val_sparse_top_k_categorical_accuracy: 0.7961\n",
      "Epoch 96/150\n",
      "\u001b[1m491/491\u001b[0m \u001b[32m━━━━━━━━━━━━━━━━━━━━\u001b[0m\u001b[37m\u001b[0m \u001b[1m2s\u001b[0m 5ms/step - loss: 1.5586 - sparse_top_k_categorical_accuracy: 0.8164 - val_loss: 1.9765 - val_sparse_top_k_categorical_accuracy: 0.7971\n",
      "Epoch 97/150\n",
      "\u001b[1m491/491\u001b[0m \u001b[32m━━━━━━━━━━━━━━━━━━━━\u001b[0m\u001b[37m\u001b[0m \u001b[1m2s\u001b[0m 5ms/step - loss: 1.5444 - sparse_top_k_categorical_accuracy: 0.8283 - val_loss: 1.9561 - val_sparse_top_k_categorical_accuracy: 0.7829\n",
      "Epoch 98/150\n",
      "\u001b[1m491/491\u001b[0m \u001b[32m━━━━━━━━━━━━━━━━━━━━\u001b[0m\u001b[37m\u001b[0m \u001b[1m3s\u001b[0m 5ms/step - loss: 1.5945 - sparse_top_k_categorical_accuracy: 0.8130 - val_loss: 1.9629 - val_sparse_top_k_categorical_accuracy: 0.7926\n",
      "Epoch 99/150\n",
      "\u001b[1m491/491\u001b[0m \u001b[32m━━━━━━━━━━━━━━━━━━━━\u001b[0m\u001b[37m\u001b[0m \u001b[1m2s\u001b[0m 5ms/step - loss: 1.6002 - sparse_top_k_categorical_accuracy: 0.8097 - val_loss: 1.9649 - val_sparse_top_k_categorical_accuracy: 0.7895\n",
      "Epoch 100/150\n",
      "\u001b[1m491/491\u001b[0m \u001b[32m━━━━━━━━━━━━━━━━━━━━\u001b[0m\u001b[37m\u001b[0m \u001b[1m3s\u001b[0m 5ms/step - loss: 1.5713 - sparse_top_k_categorical_accuracy: 0.8204 - val_loss: 1.9757 - val_sparse_top_k_categorical_accuracy: 0.7920\n",
      "Epoch 101/150\n",
      "\u001b[1m491/491\u001b[0m \u001b[32m━━━━━━━━━━━━━━━━━━━━\u001b[0m\u001b[37m\u001b[0m \u001b[1m2s\u001b[0m 5ms/step - loss: 1.6079 - sparse_top_k_categorical_accuracy: 0.8087 - val_loss: 1.9669 - val_sparse_top_k_categorical_accuracy: 0.7977\n",
      "Epoch 102/150\n",
      "\u001b[1m491/491\u001b[0m \u001b[32m━━━━━━━━━━━━━━━━━━━━\u001b[0m\u001b[37m\u001b[0m \u001b[1m2s\u001b[0m 5ms/step - loss: 1.5907 - sparse_top_k_categorical_accuracy: 0.8097 - val_loss: 1.9598 - val_sparse_top_k_categorical_accuracy: 0.7839\n",
      "Epoch 103/150\n",
      "\u001b[1m491/491\u001b[0m \u001b[32m━━━━━━━━━━━━━━━━━━━━\u001b[0m\u001b[37m\u001b[0m \u001b[1m3s\u001b[0m 5ms/step - loss: 1.5720 - sparse_top_k_categorical_accuracy: 0.8146 - val_loss: 1.9676 - val_sparse_top_k_categorical_accuracy: 0.7931\n",
      "Epoch 104/150\n",
      "\u001b[1m491/491\u001b[0m \u001b[32m━━━━━━━━━━━━━━━━━━━━\u001b[0m\u001b[37m\u001b[0m \u001b[1m2s\u001b[0m 5ms/step - loss: 1.5741 - sparse_top_k_categorical_accuracy: 0.8195 - val_loss: 1.9560 - val_sparse_top_k_categorical_accuracy: 0.7885\n",
      "Epoch 105/150\n",
      "\u001b[1m491/491\u001b[0m \u001b[32m━━━━━━━━━━━━━━━━━━━━\u001b[0m\u001b[37m\u001b[0m \u001b[1m3s\u001b[0m 5ms/step - loss: 1.5534 - sparse_top_k_categorical_accuracy: 0.8196 - val_loss: 1.9670 - val_sparse_top_k_categorical_accuracy: 0.7875\n",
      "Epoch 106/150\n",
      "\u001b[1m491/491\u001b[0m \u001b[32m━━━━━━━━━━━━━━━━━━━━\u001b[0m\u001b[37m\u001b[0m \u001b[1m3s\u001b[0m 5ms/step - loss: 1.5869 - sparse_top_k_categorical_accuracy: 0.8086 - val_loss: 1.9663 - val_sparse_top_k_categorical_accuracy: 0.7941\n",
      "Epoch 107/150\n",
      "\u001b[1m491/491\u001b[0m \u001b[32m━━━━━━━━━━━━━━━━━━━━\u001b[0m\u001b[37m\u001b[0m \u001b[1m3s\u001b[0m 5ms/step - loss: 1.5595 - sparse_top_k_categorical_accuracy: 0.8186 - val_loss: 1.9678 - val_sparse_top_k_categorical_accuracy: 0.7931\n",
      "Epoch 108/150\n",
      "\u001b[1m491/491\u001b[0m \u001b[32m━━━━━━━━━━━━━━━━━━━━\u001b[0m\u001b[37m\u001b[0m \u001b[1m2s\u001b[0m 5ms/step - loss: 1.5675 - sparse_top_k_categorical_accuracy: 0.8242 - val_loss: 1.9736 - val_sparse_top_k_categorical_accuracy: 0.7910\n",
      "Epoch 109/150\n",
      "\u001b[1m491/491\u001b[0m \u001b[32m━━━━━━━━━━━━━━━━━━━━\u001b[0m\u001b[37m\u001b[0m \u001b[1m3s\u001b[0m 5ms/step - loss: 1.5558 - sparse_top_k_categorical_accuracy: 0.8209 - val_loss: 1.9721 - val_sparse_top_k_categorical_accuracy: 0.7966\n",
      "Epoch 110/150\n",
      "\u001b[1m491/491\u001b[0m \u001b[32m━━━━━━━━━━━━━━━━━━━━\u001b[0m\u001b[37m\u001b[0m \u001b[1m3s\u001b[0m 6ms/step - loss: 1.5899 - sparse_top_k_categorical_accuracy: 0.8144 - val_loss: 1.9711 - val_sparse_top_k_categorical_accuracy: 0.7920\n",
      "Epoch 111/150\n",
      "\u001b[1m491/491\u001b[0m \u001b[32m━━━━━━━━━━━━━━━━━━━━\u001b[0m\u001b[37m\u001b[0m \u001b[1m3s\u001b[0m 5ms/step - loss: 1.6049 - sparse_top_k_categorical_accuracy: 0.8059 - val_loss: 1.9643 - val_sparse_top_k_categorical_accuracy: 0.7900\n",
      "Epoch 112/150\n",
      "\u001b[1m491/491\u001b[0m \u001b[32m━━━━━━━━━━━━━━━━━━━━\u001b[0m\u001b[37m\u001b[0m \u001b[1m3s\u001b[0m 5ms/step - loss: 1.5420 - sparse_top_k_categorical_accuracy: 0.8238 - val_loss: 1.9511 - val_sparse_top_k_categorical_accuracy: 0.7936\n",
      "Epoch 113/150\n",
      "\u001b[1m491/491\u001b[0m \u001b[32m━━━━━━━━━━━━━━━━━━━━\u001b[0m\u001b[37m\u001b[0m \u001b[1m3s\u001b[0m 5ms/step - loss: 1.5632 - sparse_top_k_categorical_accuracy: 0.8161 - val_loss: 1.9657 - val_sparse_top_k_categorical_accuracy: 0.7941\n",
      "Epoch 114/150\n",
      "\u001b[1m491/491\u001b[0m \u001b[32m━━━━━━━━━━━━━━━━━━━━\u001b[0m\u001b[37m\u001b[0m \u001b[1m3s\u001b[0m 5ms/step - loss: 1.5582 - sparse_top_k_categorical_accuracy: 0.8188 - val_loss: 1.9677 - val_sparse_top_k_categorical_accuracy: 0.7946\n",
      "Epoch 115/150\n",
      "\u001b[1m491/491\u001b[0m \u001b[32m━━━━━━━━━━━━━━━━━━━━\u001b[0m\u001b[37m\u001b[0m \u001b[1m3s\u001b[0m 5ms/step - loss: 1.5659 - sparse_top_k_categorical_accuracy: 0.8246 - val_loss: 1.9583 - val_sparse_top_k_categorical_accuracy: 0.7926\n",
      "Epoch 116/150\n",
      "\u001b[1m491/491\u001b[0m \u001b[32m━━━━━━━━━━━━━━━━━━━━\u001b[0m\u001b[37m\u001b[0m \u001b[1m3s\u001b[0m 5ms/step - loss: 1.5861 - sparse_top_k_categorical_accuracy: 0.8051 - val_loss: 1.9662 - val_sparse_top_k_categorical_accuracy: 0.7982\n",
      "Epoch 117/150\n",
      "\u001b[1m491/491\u001b[0m \u001b[32m━━━━━━━━━━━━━━━━━━━━\u001b[0m\u001b[37m\u001b[0m \u001b[1m3s\u001b[0m 5ms/step - loss: 1.5778 - sparse_top_k_categorical_accuracy: 0.8107 - val_loss: 1.9667 - val_sparse_top_k_categorical_accuracy: 0.7920\n",
      "Epoch 118/150\n",
      "\u001b[1m491/491\u001b[0m \u001b[32m━━━━━━━━━━━━━━━━━━━━\u001b[0m\u001b[37m\u001b[0m \u001b[1m3s\u001b[0m 5ms/step - loss: 1.5453 - sparse_top_k_categorical_accuracy: 0.8188 - val_loss: 1.9648 - val_sparse_top_k_categorical_accuracy: 0.7915\n",
      "Epoch 119/150\n",
      "\u001b[1m491/491\u001b[0m \u001b[32m━━━━━━━━━━━━━━━━━━━━\u001b[0m\u001b[37m\u001b[0m \u001b[1m3s\u001b[0m 5ms/step - loss: 1.5812 - sparse_top_k_categorical_accuracy: 0.8154 - val_loss: 1.9716 - val_sparse_top_k_categorical_accuracy: 0.7864\n",
      "Epoch 120/150\n",
      "\u001b[1m491/491\u001b[0m \u001b[32m━━━━━━━━━━━━━━━━━━━━\u001b[0m\u001b[37m\u001b[0m \u001b[1m3s\u001b[0m 5ms/step - loss: 1.5452 - sparse_top_k_categorical_accuracy: 0.8229 - val_loss: 1.9822 - val_sparse_top_k_categorical_accuracy: 0.7844\n",
      "Epoch 121/150\n",
      "\u001b[1m491/491\u001b[0m \u001b[32m━━━━━━━━━━━━━━━━━━━━\u001b[0m\u001b[37m\u001b[0m \u001b[1m3s\u001b[0m 5ms/step - loss: 1.5480 - sparse_top_k_categorical_accuracy: 0.8169 - val_loss: 1.9904 - val_sparse_top_k_categorical_accuracy: 0.7961\n",
      "Epoch 122/150\n",
      "\u001b[1m491/491\u001b[0m \u001b[32m━━━━━━━━━━━━━━━━━━━━\u001b[0m\u001b[37m\u001b[0m \u001b[1m3s\u001b[0m 5ms/step - loss: 1.5637 - sparse_top_k_categorical_accuracy: 0.8191 - val_loss: 1.9593 - val_sparse_top_k_categorical_accuracy: 0.7966\n",
      "Epoch 123/150\n",
      "\u001b[1m491/491\u001b[0m \u001b[32m━━━━━━━━━━━━━━━━━━━━\u001b[0m\u001b[37m\u001b[0m \u001b[1m3s\u001b[0m 5ms/step - loss: 1.5611 - sparse_top_k_categorical_accuracy: 0.8116 - val_loss: 1.9767 - val_sparse_top_k_categorical_accuracy: 0.7961\n",
      "Epoch 124/150\n",
      "\u001b[1m491/491\u001b[0m \u001b[32m━━━━━━━━━━━━━━━━━━━━\u001b[0m\u001b[37m\u001b[0m \u001b[1m3s\u001b[0m 5ms/step - loss: 1.5774 - sparse_top_k_categorical_accuracy: 0.8188 - val_loss: 1.9786 - val_sparse_top_k_categorical_accuracy: 0.7941\n",
      "Epoch 125/150\n",
      "\u001b[1m491/491\u001b[0m \u001b[32m━━━━━━━━━━━━━━━━━━━━\u001b[0m\u001b[37m\u001b[0m \u001b[1m3s\u001b[0m 5ms/step - loss: 1.5730 - sparse_top_k_categorical_accuracy: 0.8181 - val_loss: 1.9715 - val_sparse_top_k_categorical_accuracy: 0.7905\n",
      "Epoch 126/150\n",
      "\u001b[1m491/491\u001b[0m \u001b[32m━━━━━━━━━━━━━━━━━━━━\u001b[0m\u001b[37m\u001b[0m \u001b[1m3s\u001b[0m 5ms/step - loss: 1.5535 - sparse_top_k_categorical_accuracy: 0.8175 - val_loss: 1.9613 - val_sparse_top_k_categorical_accuracy: 0.7936\n",
      "Epoch 127/150\n",
      "\u001b[1m491/491\u001b[0m \u001b[32m━━━━━━━━━━━━━━━━━━━━\u001b[0m\u001b[37m\u001b[0m \u001b[1m2s\u001b[0m 5ms/step - loss: 1.5535 - sparse_top_k_categorical_accuracy: 0.8193 - val_loss: 1.9816 - val_sparse_top_k_categorical_accuracy: 0.7926\n",
      "Epoch 128/150\n",
      "\u001b[1m491/491\u001b[0m \u001b[32m━━━━━━━━━━━━━━━━━━━━\u001b[0m\u001b[37m\u001b[0m \u001b[1m3s\u001b[0m 5ms/step - loss: 1.5582 - sparse_top_k_categorical_accuracy: 0.8244 - val_loss: 1.9805 - val_sparse_top_k_categorical_accuracy: 0.7895\n",
      "Epoch 129/150\n",
      "\u001b[1m491/491\u001b[0m \u001b[32m━━━━━━━━━━━━━━━━━━━━\u001b[0m\u001b[37m\u001b[0m \u001b[1m2s\u001b[0m 5ms/step - loss: 1.5425 - sparse_top_k_categorical_accuracy: 0.8227 - val_loss: 1.9738 - val_sparse_top_k_categorical_accuracy: 0.7905\n",
      "Epoch 130/150\n",
      "\u001b[1m491/491\u001b[0m \u001b[32m━━━━━━━━━━━━━━━━━━━━\u001b[0m\u001b[37m\u001b[0m \u001b[1m2s\u001b[0m 5ms/step - loss: 1.5570 - sparse_top_k_categorical_accuracy: 0.8187 - val_loss: 1.9777 - val_sparse_top_k_categorical_accuracy: 0.7966\n",
      "Epoch 131/150\n",
      "\u001b[1m491/491\u001b[0m \u001b[32m━━━━━━━━━━━━━━━━━━━━\u001b[0m\u001b[37m\u001b[0m \u001b[1m2s\u001b[0m 5ms/step - loss: 1.5543 - sparse_top_k_categorical_accuracy: 0.8203 - val_loss: 1.9718 - val_sparse_top_k_categorical_accuracy: 0.7926\n",
      "Epoch 132/150\n",
      "\u001b[1m491/491\u001b[0m \u001b[32m━━━━━━━━━━━━━━━━━━━━\u001b[0m\u001b[37m\u001b[0m \u001b[1m2s\u001b[0m 5ms/step - loss: 1.5849 - sparse_top_k_categorical_accuracy: 0.8208 - val_loss: 1.9953 - val_sparse_top_k_categorical_accuracy: 0.7915\n",
      "Epoch 133/150\n",
      "\u001b[1m491/491\u001b[0m \u001b[32m━━━━━━━━━━━━━━━━━━━━\u001b[0m\u001b[37m\u001b[0m \u001b[1m2s\u001b[0m 5ms/step - loss: 1.5415 - sparse_top_k_categorical_accuracy: 0.8227 - val_loss: 1.9727 - val_sparse_top_k_categorical_accuracy: 0.7956\n",
      "Epoch 134/150\n",
      "\u001b[1m491/491\u001b[0m \u001b[32m━━━━━━━━━━━━━━━━━━━━\u001b[0m\u001b[37m\u001b[0m \u001b[1m2s\u001b[0m 5ms/step - loss: 1.5779 - sparse_top_k_categorical_accuracy: 0.8197 - val_loss: 1.9852 - val_sparse_top_k_categorical_accuracy: 0.7926\n",
      "Epoch 135/150\n",
      "\u001b[1m491/491\u001b[0m \u001b[32m━━━━━━━━━━━━━━━━━━━━\u001b[0m\u001b[37m\u001b[0m \u001b[1m2s\u001b[0m 5ms/step - loss: 1.5778 - sparse_top_k_categorical_accuracy: 0.8165 - val_loss: 1.9841 - val_sparse_top_k_categorical_accuracy: 0.7895\n",
      "Epoch 136/150\n",
      "\u001b[1m491/491\u001b[0m \u001b[32m━━━━━━━━━━━━━━━━━━━━\u001b[0m\u001b[37m\u001b[0m \u001b[1m2s\u001b[0m 5ms/step - loss: 1.5334 - sparse_top_k_categorical_accuracy: 0.8220 - val_loss: 1.9857 - val_sparse_top_k_categorical_accuracy: 0.7920\n",
      "Epoch 137/150\n",
      "\u001b[1m491/491\u001b[0m \u001b[32m━━━━━━━━━━━━━━━━━━━━\u001b[0m\u001b[37m\u001b[0m \u001b[1m2s\u001b[0m 5ms/step - loss: 1.5308 - sparse_top_k_categorical_accuracy: 0.8217 - val_loss: 1.9855 - val_sparse_top_k_categorical_accuracy: 0.7905\n",
      "Epoch 138/150\n",
      "\u001b[1m491/491\u001b[0m \u001b[32m━━━━━━━━━━━━━━━━━━━━\u001b[0m\u001b[37m\u001b[0m \u001b[1m2s\u001b[0m 5ms/step - loss: 1.5436 - sparse_top_k_categorical_accuracy: 0.8201 - val_loss: 1.9764 - val_sparse_top_k_categorical_accuracy: 0.7915\n",
      "Epoch 139/150\n",
      "\u001b[1m491/491\u001b[0m \u001b[32m━━━━━━━━━━━━━━━━━━━━\u001b[0m\u001b[37m\u001b[0m \u001b[1m2s\u001b[0m 5ms/step - loss: 1.5505 - sparse_top_k_categorical_accuracy: 0.8201 - val_loss: 1.9794 - val_sparse_top_k_categorical_accuracy: 0.7905\n",
      "Epoch 140/150\n",
      "\u001b[1m491/491\u001b[0m \u001b[32m━━━━━━━━━━━━━━━━━━━━\u001b[0m\u001b[37m\u001b[0m \u001b[1m2s\u001b[0m 5ms/step - loss: 1.5237 - sparse_top_k_categorical_accuracy: 0.8283 - val_loss: 1.9849 - val_sparse_top_k_categorical_accuracy: 0.7920\n",
      "Epoch 141/150\n",
      "\u001b[1m491/491\u001b[0m \u001b[32m━━━━━━━━━━━━━━━━━━━━\u001b[0m\u001b[37m\u001b[0m \u001b[1m2s\u001b[0m 5ms/step - loss: 1.5381 - sparse_top_k_categorical_accuracy: 0.8193 - val_loss: 1.9968 - val_sparse_top_k_categorical_accuracy: 0.7915\n",
      "Epoch 142/150\n",
      "\u001b[1m491/491\u001b[0m \u001b[32m━━━━━━━━━━━━━━━━━━━━\u001b[0m\u001b[37m\u001b[0m \u001b[1m2s\u001b[0m 5ms/step - loss: 1.5543 - sparse_top_k_categorical_accuracy: 0.8179 - val_loss: 1.9880 - val_sparse_top_k_categorical_accuracy: 0.7885\n",
      "Epoch 143/150\n",
      "\u001b[1m491/491\u001b[0m \u001b[32m━━━━━━━━━━━━━━━━━━━━\u001b[0m\u001b[37m\u001b[0m \u001b[1m3s\u001b[0m 5ms/step - loss: 1.5665 - sparse_top_k_categorical_accuracy: 0.8153 - val_loss: 1.9820 - val_sparse_top_k_categorical_accuracy: 0.7941\n",
      "Epoch 144/150\n",
      "\u001b[1m491/491\u001b[0m \u001b[32m━━━━━━━━━━━━━━━━━━━━\u001b[0m\u001b[37m\u001b[0m \u001b[1m2s\u001b[0m 5ms/step - loss: 1.5659 - sparse_top_k_categorical_accuracy: 0.8151 - val_loss: 2.0026 - val_sparse_top_k_categorical_accuracy: 0.7926\n",
      "Epoch 145/150\n",
      "\u001b[1m491/491\u001b[0m \u001b[32m━━━━━━━━━━━━━━━━━━━━\u001b[0m\u001b[37m\u001b[0m \u001b[1m3s\u001b[0m 5ms/step - loss: 1.5468 - sparse_top_k_categorical_accuracy: 0.8184 - val_loss: 1.9988 - val_sparse_top_k_categorical_accuracy: 0.7910\n",
      "Epoch 146/150\n",
      "\u001b[1m491/491\u001b[0m \u001b[32m━━━━━━━━━━━━━━━━━━━━\u001b[0m\u001b[37m\u001b[0m \u001b[1m2s\u001b[0m 5ms/step - loss: 1.5072 - sparse_top_k_categorical_accuracy: 0.8255 - val_loss: 1.9809 - val_sparse_top_k_categorical_accuracy: 0.7931\n",
      "Epoch 147/150\n",
      "\u001b[1m491/491\u001b[0m \u001b[32m━━━━━━━━━━━━━━━━━━━━\u001b[0m\u001b[37m\u001b[0m \u001b[1m2s\u001b[0m 5ms/step - loss: 1.5440 - sparse_top_k_categorical_accuracy: 0.8200 - val_loss: 1.9997 - val_sparse_top_k_categorical_accuracy: 0.7890\n",
      "Epoch 148/150\n",
      "\u001b[1m491/491\u001b[0m \u001b[32m━━━━━━━━━━━━━━━━━━━━\u001b[0m\u001b[37m\u001b[0m \u001b[1m2s\u001b[0m 5ms/step - loss: 1.5502 - sparse_top_k_categorical_accuracy: 0.8201 - val_loss: 1.9887 - val_sparse_top_k_categorical_accuracy: 0.7895\n",
      "Epoch 149/150\n",
      "\u001b[1m491/491\u001b[0m \u001b[32m━━━━━━━━━━━━━━━━━━━━\u001b[0m\u001b[37m\u001b[0m \u001b[1m2s\u001b[0m 5ms/step - loss: 1.5715 - sparse_top_k_categorical_accuracy: 0.8185 - val_loss: 2.0013 - val_sparse_top_k_categorical_accuracy: 0.7926\n",
      "Epoch 150/150\n",
      "\u001b[1m491/491\u001b[0m \u001b[32m━━━━━━━━━━━━━━━━━━━━\u001b[0m\u001b[37m\u001b[0m \u001b[1m2s\u001b[0m 5ms/step - loss: 1.5397 - sparse_top_k_categorical_accuracy: 0.8178 - val_loss: 1.9916 - val_sparse_top_k_categorical_accuracy: 0.7931\n"
     ]
    }
   ],
   "source": [
    "history = model.fit(x_train, y_train, epochs=150, batch_size=batch_size, verbose=1, validation_data=(x_test, y_test))"
   ]
  },
  {
   "cell_type": "markdown",
   "metadata": {},
   "source": [
    "Extraction statistics"
   ]
  },
  {
   "cell_type": "code",
   "execution_count": 61,
   "metadata": {},
   "outputs": [],
   "source": [
    "train_loss = history.history['loss']\n",
    "val_loss = history.history['val_loss']\n",
    "train_accuracy = history.history['sparse_top_k_categorical_accuracy']\n",
    "val_accuracy = history.history['val_sparse_top_k_categorical_accuracy']\n",
    "\n",
    "epochs = range(1, len(train_loss) + 1)"
   ]
  },
  {
   "cell_type": "markdown",
   "metadata": {},
   "source": [
    "Graphs"
   ]
  },
  {
   "cell_type": "code",
   "execution_count": 62,
   "metadata": {},
   "outputs": [
    {
     "data": {
      "image/png": "[encoded data removed]",
      "text/plain": [
       "<Figure size 1200x600 with 2 Axes>"
      ]
     },
     "metadata": {},
     "output_type": "display_data"
    }
   ],
   "source": [
    "import matplotlib.pyplot as plt\n",
    "\n",
    "plt.figure(figsize=(12, 6))\n",
    "\n",
    "# Loss\n",
    "plt.subplot(1, 2, 1)\n",
    "plt.plot(epochs, train_loss, label='Training Loss')\n",
    "plt.plot(epochs, val_loss, label='Validation Loss')\n",
    "plt.title('Loss During Training and Validation')\n",
    "plt.xlabel('Epochs')\n",
    "plt.ylabel('Loss')\n",
    "plt.legend()\n",
    "\n",
    "# Accuracy\n",
    "plt.subplot(1, 2, 2)\n",
    "plt.plot(epochs, train_accuracy, label='Training Accuracy')\n",
    "plt.plot(epochs, val_accuracy, label='Validation Accuracy')\n",
    "plt.title('Accuracy During Training and Validation')\n",
    "plt.xlabel('Epochs')\n",
    "plt.ylabel('Accuracy')\n",
    "plt.legend()\n",
    "\n",
    "plt.tight_layout()\n",
    "plt.show()"
   ]
  },
  {
   "cell_type": "markdown",
   "metadata": {},
   "source": [
    "Model evaluation"
   ]
  },
  {
   "cell_type": "code",
   "execution_count": 63,
   "metadata": {},
   "outputs": [
    {
     "name": "stdout",
     "output_type": "stream",
     "text": [
      "\u001b[1m62/62\u001b[0m \u001b[32m━━━━━━━━━━━━━━━━━━━━\u001b[0m\u001b[37m\u001b[0m \u001b[1m0s\u001b[0m 2ms/step - loss: 1.9412 - sparse_top_k_categorical_accuracy: 0.7894\n",
      "Test Loss: 1.991642713546753\n",
      "Test Accuracy: 0.7930682897567749\n"
     ]
    }
   ],
   "source": [
    "loss, accuracy = model.evaluate(x_test, y_test)\n",
    "print(f\"Test Loss: {loss}\")\n",
    "print(f\"Test Accuracy: {accuracy}\")"
   ]
  },
  {
   "cell_type": "markdown",
   "metadata": {},
   "source": [
    "Saving the model"
   ]
  },
  {
   "cell_type": "code",
   "execution_count": 64,
   "metadata": {},
   "outputs": [],
   "source": [
    "model.save(\"gru_model.keras\")"
   ]
  },
  {
   "cell_type": "markdown",
   "metadata": {},
   "source": [
    "Saving the tokenizer"
   ]
  },
  {
   "cell_type": "code",
   "execution_count": 65,
   "metadata": {},
   "outputs": [],
   "source": [
    "import pickle\n",
    "\n",
    "with open(\"gru_tokenizer.pkl\", \"wb\") as f:\n",
    "    pickle.dump(tokenizer, f)"
   ]
  },
  {
   "cell_type": "code",
   "execution_count": null,
   "metadata": {},
   "outputs": [],
   "source": []
  }
 ],
 "metadata": {
  "kernelspec": {
   "display_name": ".gru",
   "language": "python",
   "name": "python3"
  },
  "language_info": {
   "codemirror_mode": {
    "name": "ipython",
    "version": 3
   },
   "file_extension": ".py",
   "mimetype": "text/x-python",
   "name": "python",
   "nbconvert_exporter": "python",
   "pygments_lexer": "ipython3",
   "version": "3.12.3"
  }
 },
 "nbformat": 4,
 "nbformat_minor": 2
}
