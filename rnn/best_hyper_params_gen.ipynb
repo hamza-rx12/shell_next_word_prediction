{
 "cells": [
  {
   "cell_type": "markdown",
   "metadata": {},
   "source": [
    "Some libraries to import"
   ]
  },
  {
   "cell_type": "code",
   "execution_count": 1,
   "metadata": {},
   "outputs": [
    {
     "name": "stderr",
     "output_type": "stream",
     "text": [
      "2024-12-20 13:59:04.493200: I tensorflow/core/util/port.cc:153] oneDNN custom operations are on. You may see slightly different numerical results due to floating-point round-off errors from different computation orders. To turn them off, set the environment variable `TF_ENABLE_ONEDNN_OPTS=0`.\n",
      "2024-12-20 13:59:04.507406: E external/local_xla/xla/stream_executor/cuda/cuda_fft.cc:477] Unable to register cuFFT factory: Attempting to register factory for plugin cuFFT when one has already been registered\n",
      "WARNING: All log messages before absl::InitializeLog() is called are written to STDERR\n",
      "E0000 00:00:1734699544.524731    4787 cuda_dnn.cc:8310] Unable to register cuDNN factory: Attempting to register factory for plugin cuDNN when one has already been registered\n",
      "E0000 00:00:1734699544.529689    4787 cuda_blas.cc:1418] Unable to register cuBLAS factory: Attempting to register factory for plugin cuBLAS when one has already been registered\n",
      "2024-12-20 13:59:04.546528: I tensorflow/core/platform/cpu_feature_guard.cc:210] This TensorFlow binary is optimized to use available CPU instructions in performance-critical operations.\n",
      "To enable the following instructions: AVX2 AVX512F AVX512_VNNI FMA, in other operations, rebuild TensorFlow with the appropriate compiler flags.\n"
     ]
    }
   ],
   "source": [
    "import tensorflow as tf\n",
    "from tensorflow.keras.preprocessing.text import Tokenizer\n",
    "from tensorflow.keras.preprocessing.sequence import pad_sequences\n",
    "from tensorflow.keras.models import Sequential\n",
    "from tensorflow.keras.layers import Embedding, LSTM, Dense, Dropout\n",
    "from sklearn.model_selection import train_test_split\n",
    "import numpy as np\n",
    "import keras_tuner as kt"
   ]
  },
  {
   "cell_type": "markdown",
   "metadata": {},
   "source": [
    "Choosing to work with the GPU for faster training"
   ]
  },
  {
   "cell_type": "code",
   "execution_count": 2,
   "metadata": {},
   "outputs": [
    {
     "name": "stderr",
     "output_type": "stream",
     "text": [
      "W0000 00:00:1734699547.030780    4787 gpu_device.cc:2344] Cannot dlopen some GPU libraries. Please make sure the missing libraries mentioned above are installed properly if you would like to use GPU. Follow the guide at https://www.tensorflow.org/install/gpu for how to download and setup the required libraries for your platform.\n",
      "Skipping registering GPU devices...\n"
     ]
    }
   ],
   "source": [
    "gpus = tf.config.experimental.list_physical_devices('GPU')\n",
    "if gpus:\n",
    "    try:\n",
    "        tf.config.experimental.set_visible_devices(gpus[0], 'GPU')  # Use only the first GPU\n",
    "    except RuntimeError as e:\n",
    "        print(e)"
   ]
  },
  {
   "cell_type": "markdown",
   "metadata": {},
   "source": [
    "Importing data"
   ]
  },
  {
   "cell_type": "code",
   "execution_count": 3,
   "metadata": {},
   "outputs": [],
   "source": [
    "commands = []\n",
    "\n",
    "with open('data.txt', 'r') as file:\n",
    "    for line in file:\n",
    "      if line:\n",
    "        commands.append(line.strip())\n",
    "\n",
    "# commands"
   ]
  },
  {
   "cell_type": "markdown",
   "metadata": {},
   "source": [
    "Tokenization"
   ]
  },
  {
   "cell_type": "code",
   "execution_count": 4,
   "metadata": {},
   "outputs": [],
   "source": [
    "tokenizer = Tokenizer(filters='')\n",
    "tokenizer.fit_on_texts(commands)"
   ]
  },
  {
   "cell_type": "markdown",
   "metadata": {},
   "source": [
    "Sequencing"
   ]
  },
  {
   "cell_type": "code",
   "execution_count": 5,
   "metadata": {},
   "outputs": [],
   "source": [
    "sequences = tokenizer.texts_to_sequences(commands)\n",
    "word_index = tokenizer.word_index\n",
    "vocab_size = len(word_index) + 1"
   ]
  },
  {
   "cell_type": "markdown",
   "metadata": {},
   "source": [
    "Input Output sequences"
   ]
  },
  {
   "cell_type": "code",
   "execution_count": 6,
   "metadata": {},
   "outputs": [],
   "source": [
    "input_sequences = []\n",
    "target_sequences = []\n",
    "\n",
    "for seq in sequences:\n",
    "    for i in range(1, len(seq)):\n",
    "        input_sequences.append(seq[:i])\n",
    "        target_sequences.append(seq[i])"
   ]
  },
  {
   "cell_type": "markdown",
   "metadata": {},
   "source": [
    "Padding"
   ]
  },
  {
   "cell_type": "code",
   "execution_count": 7,
   "metadata": {},
   "outputs": [],
   "source": [
    "max_seq_len = max(len(seq) for seq in input_sequences)\n",
    "input_sequences = pad_sequences(input_sequences, maxlen=max_seq_len, padding='post')\n",
    "target_sequences = np.array(target_sequences)"
   ]
  },
  {
   "cell_type": "markdown",
   "metadata": {},
   "source": [
    "Train_text spliting"
   ]
  },
  {
   "cell_type": "code",
   "execution_count": 8,
   "metadata": {},
   "outputs": [],
   "source": [
    "x_train, x_test, y_train, y_test = train_test_split(input_sequences,target_sequences, test_size=0.2)"
   ]
  },
  {
   "cell_type": "markdown",
   "metadata": {},
   "source": [
    "Model building function"
   ]
  },
  {
   "cell_type": "code",
   "execution_count": 9,
   "metadata": {},
   "outputs": [],
   "source": [
    "def my_model(hp):    \n",
    "    model = Sequential([\n",
    "        Embedding(\n",
    "            input_dim=vocab_size, \n",
    "            output_dim=hp.Choice('embedding_dim', [64,128,256])\n",
    "        ),\n",
    "        LSTM(\n",
    "            units=hp.Choice('lstm_units', [32, 64, 128]), \n",
    "            return_sequences=False\n",
    "        ),\n",
    "        Dropout(\n",
    "            rate=hp.Float('dropout_rate', 0.2, 0.5, step=0.1)\n",
    "        ),\n",
    "        Dense(\n",
    "            vocab_size, \n",
    "            activation=hp.Choice('activation', ['softmax', 'sigmoid'])\n",
    "        )\n",
    "    ])\n",
    "\n",
    "    model.compile(\n",
    "        optimizer=tf.keras.optimizers.Adam(learning_rate=hp.Choice('learning_rate', [1e-2, 1e-3, 1e-4])), \n",
    "        loss='sparse_categorical_crossentropy', \n",
    "        metrics=[tf.keras.metrics.SparseTopKCategoricalAccuracy(k=hp.Choice(\"top_k\", [3, 5]))]\n",
    "    )\n",
    "    model.summary()\n",
    "    return model"
   ]
  },
  {
   "cell_type": "markdown",
   "metadata": {},
   "source": [
    "Tuner initialization"
   ]
  },
  {
   "cell_type": "code",
   "execution_count": 10,
   "metadata": {},
   "outputs": [
    {
     "data": {
      "text/html": [
       "<pre style=\"white-space:pre;overflow-x:auto;line-height:normal;font-family:Menlo,'DejaVu Sans Mono',consolas,'Courier New',monospace\"><span style=\"font-weight: bold\">Model: \"sequential\"</span>\n",
       "</pre>\n"
      ],
      "text/plain": [
       "\u001b[1mModel: \"sequential\"\u001b[0m\n"
      ]
     },
     "metadata": {},
     "output_type": "display_data"
    },
    {
     "data": {
      "text/html": [
       "<pre style=\"white-space:pre;overflow-x:auto;line-height:normal;font-family:Menlo,'DejaVu Sans Mono',consolas,'Courier New',monospace\">┏━━━━━━━━━━━━━━━━━━━━━━━━━━━━━━━━━┳━━━━━━━━━━━━━━━━━━━━━━━━┳━━━━━━━━━━━━━━━┓\n",
       "┃<span style=\"font-weight: bold\"> Layer (type)                    </span>┃<span style=\"font-weight: bold\"> Output Shape           </span>┃<span style=\"font-weight: bold\">       Param # </span>┃\n",
       "┡━━━━━━━━━━━━━━━━━━━━━━━━━━━━━━━━━╇━━━━━━━━━━━━━━━━━━━━━━━━╇━━━━━━━━━━━━━━━┩\n",
       "│ embedding (<span style=\"color: #0087ff; text-decoration-color: #0087ff\">Embedding</span>)           │ ?                      │   <span style=\"color: #00af00; text-decoration-color: #00af00\">0</span> (unbuilt) │\n",
       "├─────────────────────────────────┼────────────────────────┼───────────────┤\n",
       "│ lstm (<span style=\"color: #0087ff; text-decoration-color: #0087ff\">LSTM</span>)                     │ ?                      │   <span style=\"color: #00af00; text-decoration-color: #00af00\">0</span> (unbuilt) │\n",
       "├─────────────────────────────────┼────────────────────────┼───────────────┤\n",
       "│ dropout (<span style=\"color: #0087ff; text-decoration-color: #0087ff\">Dropout</span>)               │ ?                      │             <span style=\"color: #00af00; text-decoration-color: #00af00\">0</span> │\n",
       "├─────────────────────────────────┼────────────────────────┼───────────────┤\n",
       "│ dense (<span style=\"color: #0087ff; text-decoration-color: #0087ff\">Dense</span>)                   │ ?                      │   <span style=\"color: #00af00; text-decoration-color: #00af00\">0</span> (unbuilt) │\n",
       "└─────────────────────────────────┴────────────────────────┴───────────────┘\n",
       "</pre>\n"
      ],
      "text/plain": [
       "┏━━━━━━━━━━━━━━━━━━━━━━━━━━━━━━━━━┳━━━━━━━━━━━━━━━━━━━━━━━━┳━━━━━━━━━━━━━━━┓\n",
       "┃\u001b[1m \u001b[0m\u001b[1mLayer (type)                   \u001b[0m\u001b[1m \u001b[0m┃\u001b[1m \u001b[0m\u001b[1mOutput Shape          \u001b[0m\u001b[1m \u001b[0m┃\u001b[1m \u001b[0m\u001b[1m      Param #\u001b[0m\u001b[1m \u001b[0m┃\n",
       "┡━━━━━━━━━━━━━━━━━━━━━━━━━━━━━━━━━╇━━━━━━━━━━━━━━━━━━━━━━━━╇━━━━━━━━━━━━━━━┩\n",
       "│ embedding (\u001b[38;5;33mEmbedding\u001b[0m)           │ ?                      │   \u001b[38;5;34m0\u001b[0m (unbuilt) │\n",
       "├─────────────────────────────────┼────────────────────────┼───────────────┤\n",
       "│ lstm (\u001b[38;5;33mLSTM\u001b[0m)                     │ ?                      │   \u001b[38;5;34m0\u001b[0m (unbuilt) │\n",
       "├─────────────────────────────────┼────────────────────────┼───────────────┤\n",
       "│ dropout (\u001b[38;5;33mDropout\u001b[0m)               │ ?                      │             \u001b[38;5;34m0\u001b[0m │\n",
       "├─────────────────────────────────┼────────────────────────┼───────────────┤\n",
       "│ dense (\u001b[38;5;33mDense\u001b[0m)                   │ ?                      │   \u001b[38;5;34m0\u001b[0m (unbuilt) │\n",
       "└─────────────────────────────────┴────────────────────────┴───────────────┘\n"
      ]
     },
     "metadata": {},
     "output_type": "display_data"
    },
    {
     "data": {
      "text/html": [
       "<pre style=\"white-space:pre;overflow-x:auto;line-height:normal;font-family:Menlo,'DejaVu Sans Mono',consolas,'Courier New',monospace\"><span style=\"font-weight: bold\"> Total params: </span><span style=\"color: #00af00; text-decoration-color: #00af00\">0</span> (0.00 B)\n",
       "</pre>\n"
      ],
      "text/plain": [
       "\u001b[1m Total params: \u001b[0m\u001b[38;5;34m0\u001b[0m (0.00 B)\n"
      ]
     },
     "metadata": {},
     "output_type": "display_data"
    },
    {
     "data": {
      "text/html": [
       "<pre style=\"white-space:pre;overflow-x:auto;line-height:normal;font-family:Menlo,'DejaVu Sans Mono',consolas,'Courier New',monospace\"><span style=\"font-weight: bold\"> Trainable params: </span><span style=\"color: #00af00; text-decoration-color: #00af00\">0</span> (0.00 B)\n",
       "</pre>\n"
      ],
      "text/plain": [
       "\u001b[1m Trainable params: \u001b[0m\u001b[38;5;34m0\u001b[0m (0.00 B)\n"
      ]
     },
     "metadata": {},
     "output_type": "display_data"
    },
    {
     "data": {
      "text/html": [
       "<pre style=\"white-space:pre;overflow-x:auto;line-height:normal;font-family:Menlo,'DejaVu Sans Mono',consolas,'Courier New',monospace\"><span style=\"font-weight: bold\"> Non-trainable params: </span><span style=\"color: #00af00; text-decoration-color: #00af00\">0</span> (0.00 B)\n",
       "</pre>\n"
      ],
      "text/plain": [
       "\u001b[1m Non-trainable params: \u001b[0m\u001b[38;5;34m0\u001b[0m (0.00 B)\n"
      ]
     },
     "metadata": {},
     "output_type": "display_data"
    }
   ],
   "source": [
    "tuner = kt.Hyperband(\n",
    "    my_model,\n",
    "    objective=kt.Objective(\"val_sparse_top_k_categorical_accuracy\", direction=\"max\"),\n",
    "    max_epochs=60,\n",
    "    factor=3,\n",
    "    directory='my_dir2',\n",
    "    project_name='command_completion'\n",
    ")\n"
   ]
  },
  {
   "cell_type": "markdown",
   "metadata": {},
   "source": [
    "Early Stopping callback"
   ]
  },
  {
   "cell_type": "code",
   "execution_count": 11,
   "metadata": {},
   "outputs": [],
   "source": [
    "stop_early = tf.keras.callbacks.EarlyStopping(monitor='val_loss', patience=3)"
   ]
  },
  {
   "cell_type": "markdown",
   "metadata": {},
   "source": [
    "Searching for the best hyperparameters"
   ]
  },
  {
   "cell_type": "code",
   "execution_count": 12,
   "metadata": {},
   "outputs": [
    {
     "name": "stdout",
     "output_type": "stream",
     "text": [
      "Trial 90 Complete [00h 00m 33s]\n",
      "val_sparse_top_k_categorical_accuracy: 0.6815286874771118\n",
      "\n",
      "Best val_sparse_top_k_categorical_accuracy So Far: 0.7509554028511047\n",
      "Total elapsed time: 00h 29m 27s\n"
     ]
    }
   ],
   "source": [
    "tuner.search(\n",
    "    x_train, \n",
    "    y_train, \n",
    "    epochs=60, \n",
    "    validation_split=0.2, \n",
    "    callbacks=[stop_early],\n",
    "    batch_size=tuner.oracle.hyperparameters.Choice('batch_size', [16, 32, 64])\n",
    ")"
   ]
  },
  {
   "cell_type": "code",
   "execution_count": 13,
   "metadata": {},
   "outputs": [
    {
     "name": "stdout",
     "output_type": "stream",
     "text": [
      "\n",
      "Best embedding_dim: \t256\n",
      "Best lstm_units: \t128\n",
      "Best dropout_rate: \t0.30000000000000004\n",
      "Best activation function: \tsoftmax\n",
      "Best learning_rate: \t0.001\n",
      "Best batch_size: \t16\n",
      "Best k for accuracy: \t5\n",
      "\n",
      "\n"
     ]
    }
   ],
   "source": [
    "best_hps = tuner.get_best_hyperparameters(num_trials=1)[0]\n",
    "print(f\"\"\"\n",
    "Best embedding_dim: \\t{best_hps.get('embedding_dim')}\n",
    "Best lstm_units: \\t{best_hps.get('lstm_units')}\n",
    "Best dropout_rate: \\t{best_hps.get('dropout_rate')}\n",
    "Best activation function: \\t{best_hps.get('activation')}\n",
    "Best learning_rate: \\t{best_hps.get('learning_rate')}\n",
    "Best batch_size: \\t{best_hps.get('batch_size')}\n",
    "Best k for accuracy: \\t{best_hps.get('top_k')}\n",
    "\n",
    "\"\"\")"
   ]
  },
  {
   "cell_type": "markdown",
   "metadata": {},
   "source": [
    "Training the model using the best hyperparameters we got"
   ]
  },
  {
   "cell_type": "code",
   "execution_count": 19,
   "metadata": {},
   "outputs": [
    {
     "data": {
      "text/html": [
       "<pre style=\"white-space:pre;overflow-x:auto;line-height:normal;font-family:Menlo,'DejaVu Sans Mono',consolas,'Courier New',monospace\"><span style=\"font-weight: bold\">Model: \"sequential_2\"</span>\n",
       "</pre>\n"
      ],
      "text/plain": [
       "\u001b[1mModel: \"sequential_2\"\u001b[0m\n"
      ]
     },
     "metadata": {},
     "output_type": "display_data"
    },
    {
     "data": {
      "text/html": [
       "<pre style=\"white-space:pre;overflow-x:auto;line-height:normal;font-family:Menlo,'DejaVu Sans Mono',consolas,'Courier New',monospace\">┏━━━━━━━━━━━━━━━━━━━━━━━━━━━━━━━━━┳━━━━━━━━━━━━━━━━━━━━━━━━┳━━━━━━━━━━━━━━━┓\n",
       "┃<span style=\"font-weight: bold\"> Layer (type)                    </span>┃<span style=\"font-weight: bold\"> Output Shape           </span>┃<span style=\"font-weight: bold\">       Param # </span>┃\n",
       "┡━━━━━━━━━━━━━━━━━━━━━━━━━━━━━━━━━╇━━━━━━━━━━━━━━━━━━━━━━━━╇━━━━━━━━━━━━━━━┩\n",
       "│ embedding_2 (<span style=\"color: #0087ff; text-decoration-color: #0087ff\">Embedding</span>)         │ ?                      │   <span style=\"color: #00af00; text-decoration-color: #00af00\">0</span> (unbuilt) │\n",
       "├─────────────────────────────────┼────────────────────────┼───────────────┤\n",
       "│ lstm_2 (<span style=\"color: #0087ff; text-decoration-color: #0087ff\">LSTM</span>)                   │ ?                      │   <span style=\"color: #00af00; text-decoration-color: #00af00\">0</span> (unbuilt) │\n",
       "├─────────────────────────────────┼────────────────────────┼───────────────┤\n",
       "│ dropout_2 (<span style=\"color: #0087ff; text-decoration-color: #0087ff\">Dropout</span>)             │ ?                      │             <span style=\"color: #00af00; text-decoration-color: #00af00\">0</span> │\n",
       "├─────────────────────────────────┼────────────────────────┼───────────────┤\n",
       "│ dense_2 (<span style=\"color: #0087ff; text-decoration-color: #0087ff\">Dense</span>)                 │ ?                      │   <span style=\"color: #00af00; text-decoration-color: #00af00\">0</span> (unbuilt) │\n",
       "└─────────────────────────────────┴────────────────────────┴───────────────┘\n",
       "</pre>\n"
      ],
      "text/plain": [
       "┏━━━━━━━━━━━━━━━━━━━━━━━━━━━━━━━━━┳━━━━━━━━━━━━━━━━━━━━━━━━┳━━━━━━━━━━━━━━━┓\n",
       "┃\u001b[1m \u001b[0m\u001b[1mLayer (type)                   \u001b[0m\u001b[1m \u001b[0m┃\u001b[1m \u001b[0m\u001b[1mOutput Shape          \u001b[0m\u001b[1m \u001b[0m┃\u001b[1m \u001b[0m\u001b[1m      Param #\u001b[0m\u001b[1m \u001b[0m┃\n",
       "┡━━━━━━━━━━━━━━━━━━━━━━━━━━━━━━━━━╇━━━━━━━━━━━━━━━━━━━━━━━━╇━━━━━━━━━━━━━━━┩\n",
       "│ embedding_2 (\u001b[38;5;33mEmbedding\u001b[0m)         │ ?                      │   \u001b[38;5;34m0\u001b[0m (unbuilt) │\n",
       "├─────────────────────────────────┼────────────────────────┼───────────────┤\n",
       "│ lstm_2 (\u001b[38;5;33mLSTM\u001b[0m)                   │ ?                      │   \u001b[38;5;34m0\u001b[0m (unbuilt) │\n",
       "├─────────────────────────────────┼────────────────────────┼───────────────┤\n",
       "│ dropout_2 (\u001b[38;5;33mDropout\u001b[0m)             │ ?                      │             \u001b[38;5;34m0\u001b[0m │\n",
       "├─────────────────────────────────┼────────────────────────┼───────────────┤\n",
       "│ dense_2 (\u001b[38;5;33mDense\u001b[0m)                 │ ?                      │   \u001b[38;5;34m0\u001b[0m (unbuilt) │\n",
       "└─────────────────────────────────┴────────────────────────┴───────────────┘\n"
      ]
     },
     "metadata": {},
     "output_type": "display_data"
    },
    {
     "data": {
      "text/html": [
       "<pre style=\"white-space:pre;overflow-x:auto;line-height:normal;font-family:Menlo,'DejaVu Sans Mono',consolas,'Courier New',monospace\"><span style=\"font-weight: bold\"> Total params: </span><span style=\"color: #00af00; text-decoration-color: #00af00\">0</span> (0.00 B)\n",
       "</pre>\n"
      ],
      "text/plain": [
       "\u001b[1m Total params: \u001b[0m\u001b[38;5;34m0\u001b[0m (0.00 B)\n"
      ]
     },
     "metadata": {},
     "output_type": "display_data"
    },
    {
     "data": {
      "text/html": [
       "<pre style=\"white-space:pre;overflow-x:auto;line-height:normal;font-family:Menlo,'DejaVu Sans Mono',consolas,'Courier New',monospace\"><span style=\"font-weight: bold\"> Trainable params: </span><span style=\"color: #00af00; text-decoration-color: #00af00\">0</span> (0.00 B)\n",
       "</pre>\n"
      ],
      "text/plain": [
       "\u001b[1m Trainable params: \u001b[0m\u001b[38;5;34m0\u001b[0m (0.00 B)\n"
      ]
     },
     "metadata": {},
     "output_type": "display_data"
    },
    {
     "data": {
      "text/html": [
       "<pre style=\"white-space:pre;overflow-x:auto;line-height:normal;font-family:Menlo,'DejaVu Sans Mono',consolas,'Courier New',monospace\"><span style=\"font-weight: bold\"> Non-trainable params: </span><span style=\"color: #00af00; text-decoration-color: #00af00\">0</span> (0.00 B)\n",
       "</pre>\n"
      ],
      "text/plain": [
       "\u001b[1m Non-trainable params: \u001b[0m\u001b[38;5;34m0\u001b[0m (0.00 B)\n"
      ]
     },
     "metadata": {},
     "output_type": "display_data"
    },
    {
     "name": "stdout",
     "output_type": "stream",
     "text": [
      "Epoch 1/100\n",
      "\u001b[1m491/491\u001b[0m \u001b[32m━━━━━━━━━━━━━━━━━━━━\u001b[0m\u001b[37m\u001b[0m \u001b[1m4s\u001b[0m 6ms/step - loss: 6.1452 - sparse_top_k_categorical_accuracy: 0.1635 - val_loss: 5.3316 - val_sparse_top_k_categorical_accuracy: 0.2778\n",
      "Epoch 2/100\n",
      "\u001b[1m491/491\u001b[0m \u001b[32m━━━━━━━━━━━━━━━━━━━━\u001b[0m\u001b[37m\u001b[0m \u001b[1m3s\u001b[0m 6ms/step - loss: 5.0297 - sparse_top_k_categorical_accuracy: 0.2799 - val_loss: 4.7304 - val_sparse_top_k_categorical_accuracy: 0.3593\n",
      "Epoch 3/100\n",
      "\u001b[1m491/491\u001b[0m \u001b[32m━━━━━━━━━━━━━━━━━━━━\u001b[0m\u001b[37m\u001b[0m \u001b[1m3s\u001b[0m 6ms/step - loss: 4.4971 - sparse_top_k_categorical_accuracy: 0.3669 - val_loss: 4.3410 - val_sparse_top_k_categorical_accuracy: 0.4307\n",
      "Epoch 4/100\n",
      "\u001b[1m491/491\u001b[0m \u001b[32m━━━━━━━━━━━━━━━━━━━━\u001b[0m\u001b[37m\u001b[0m \u001b[1m3s\u001b[0m 6ms/step - loss: 4.1691 - sparse_top_k_categorical_accuracy: 0.4067 - val_loss: 4.1367 - val_sparse_top_k_categorical_accuracy: 0.4562\n",
      "Epoch 5/100\n",
      "\u001b[1m491/491\u001b[0m \u001b[32m━━━━━━━━━━━━━━━━━━━━\u001b[0m\u001b[37m\u001b[0m \u001b[1m3s\u001b[0m 6ms/step - loss: 3.8788 - sparse_top_k_categorical_accuracy: 0.4406 - val_loss: 3.9460 - val_sparse_top_k_categorical_accuracy: 0.4817\n",
      "Epoch 6/100\n",
      "\u001b[1m491/491\u001b[0m \u001b[32m━━━━━━━━━━━━━━━━━━━━\u001b[0m\u001b[37m\u001b[0m \u001b[1m3s\u001b[0m 6ms/step - loss: 3.6039 - sparse_top_k_categorical_accuracy: 0.4839 - val_loss: 3.7499 - val_sparse_top_k_categorical_accuracy: 0.5071\n",
      "Epoch 7/100\n",
      "\u001b[1m491/491\u001b[0m \u001b[32m━━━━━━━━━━━━━━━━━━━━\u001b[0m\u001b[37m\u001b[0m \u001b[1m3s\u001b[0m 6ms/step - loss: 3.4183 - sparse_top_k_categorical_accuracy: 0.5205 - val_loss: 3.5626 - val_sparse_top_k_categorical_accuracy: 0.5347\n",
      "Epoch 8/100\n",
      "\u001b[1m491/491\u001b[0m \u001b[32m━━━━━━━━━━━━━━━━━━━━\u001b[0m\u001b[37m\u001b[0m \u001b[1m3s\u001b[0m 6ms/step - loss: 3.1650 - sparse_top_k_categorical_accuracy: 0.5709 - val_loss: 3.4085 - val_sparse_top_k_categorical_accuracy: 0.5719\n",
      "Epoch 9/100\n",
      "\u001b[1m491/491\u001b[0m \u001b[32m━━━━━━━━━━━━━━━━━━━━\u001b[0m\u001b[37m\u001b[0m \u001b[1m3s\u001b[0m 6ms/step - loss: 3.0088 - sparse_top_k_categorical_accuracy: 0.5870 - val_loss: 3.2752 - val_sparse_top_k_categorical_accuracy: 0.5907\n",
      "Epoch 10/100\n",
      "\u001b[1m491/491\u001b[0m \u001b[32m━━━━━━━━━━━━━━━━━━━━\u001b[0m\u001b[37m\u001b[0m \u001b[1m3s\u001b[0m 6ms/step - loss: 2.8287 - sparse_top_k_categorical_accuracy: 0.6217 - val_loss: 3.1089 - val_sparse_top_k_categorical_accuracy: 0.6162\n",
      "Epoch 11/100\n",
      "\u001b[1m491/491\u001b[0m \u001b[32m━━━━━━━━━━━━━━━━━━━━\u001b[0m\u001b[37m\u001b[0m \u001b[1m3s\u001b[0m 6ms/step - loss: 2.6762 - sparse_top_k_categorical_accuracy: 0.6589 - val_loss: 3.0161 - val_sparse_top_k_categorical_accuracy: 0.6412\n",
      "Epoch 12/100\n",
      "\u001b[1m491/491\u001b[0m \u001b[32m━━━━━━━━━━━━━━━━━━━━\u001b[0m\u001b[37m\u001b[0m \u001b[1m3s\u001b[0m 6ms/step - loss: 2.5261 - sparse_top_k_categorical_accuracy: 0.6784 - val_loss: 2.8772 - val_sparse_top_k_categorical_accuracy: 0.6611\n",
      "Epoch 13/100\n",
      "\u001b[1m491/491\u001b[0m \u001b[32m━━━━━━━━━━━━━━━━━━━━\u001b[0m\u001b[37m\u001b[0m \u001b[1m3s\u001b[0m 6ms/step - loss: 2.4467 - sparse_top_k_categorical_accuracy: 0.7005 - val_loss: 2.8193 - val_sparse_top_k_categorical_accuracy: 0.6590\n",
      "Epoch 14/100\n",
      "\u001b[1m491/491\u001b[0m \u001b[32m━━━━━━━━━━━━━━━━━━━━\u001b[0m\u001b[37m\u001b[0m \u001b[1m3s\u001b[0m 6ms/step - loss: 2.3415 - sparse_top_k_categorical_accuracy: 0.7156 - val_loss: 2.7857 - val_sparse_top_k_categorical_accuracy: 0.6738\n",
      "Epoch 15/100\n",
      "\u001b[1m491/491\u001b[0m \u001b[32m━━━━━━━━━━━━━━━━━━━━\u001b[0m\u001b[37m\u001b[0m \u001b[1m3s\u001b[0m 6ms/step - loss: 2.2652 - sparse_top_k_categorical_accuracy: 0.7301 - val_loss: 2.6854 - val_sparse_top_k_categorical_accuracy: 0.6876\n",
      "Epoch 16/100\n",
      "\u001b[1m491/491\u001b[0m \u001b[32m━━━━━━━━━━━━━━━━━━━━\u001b[0m\u001b[37m\u001b[0m \u001b[1m3s\u001b[0m 7ms/step - loss: 2.2022 - sparse_top_k_categorical_accuracy: 0.7382 - val_loss: 2.6010 - val_sparse_top_k_categorical_accuracy: 0.7008\n",
      "Epoch 17/100\n",
      "\u001b[1m491/491\u001b[0m \u001b[32m━━━━━━━━━━━━━━━━━━━━\u001b[0m\u001b[37m\u001b[0m \u001b[1m3s\u001b[0m 7ms/step - loss: 2.1207 - sparse_top_k_categorical_accuracy: 0.7527 - val_loss: 2.6213 - val_sparse_top_k_categorical_accuracy: 0.6998\n",
      "Epoch 18/100\n",
      "\u001b[1m491/491\u001b[0m \u001b[32m━━━━━━━━━━━━━━━━━━━━\u001b[0m\u001b[37m\u001b[0m \u001b[1m3s\u001b[0m 7ms/step - loss: 2.0940 - sparse_top_k_categorical_accuracy: 0.7531 - val_loss: 2.5019 - val_sparse_top_k_categorical_accuracy: 0.7253\n",
      "Epoch 19/100\n",
      "\u001b[1m491/491\u001b[0m \u001b[32m━━━━━━━━━━━━━━━━━━━━\u001b[0m\u001b[37m\u001b[0m \u001b[1m3s\u001b[0m 7ms/step - loss: 2.0205 - sparse_top_k_categorical_accuracy: 0.7710 - val_loss: 2.4795 - val_sparse_top_k_categorical_accuracy: 0.7273\n",
      "Epoch 20/100\n",
      "\u001b[1m491/491\u001b[0m \u001b[32m━━━━━━━━━━━━━━━━━━━━\u001b[0m\u001b[37m\u001b[0m \u001b[1m3s\u001b[0m 7ms/step - loss: 1.9657 - sparse_top_k_categorical_accuracy: 0.7707 - val_loss: 2.4615 - val_sparse_top_k_categorical_accuracy: 0.7319\n",
      "Epoch 21/100\n",
      "\u001b[1m491/491\u001b[0m \u001b[32m━━━━━━━━━━━━━━━━━━━━\u001b[0m\u001b[37m\u001b[0m \u001b[1m3s\u001b[0m 7ms/step - loss: 1.8932 - sparse_top_k_categorical_accuracy: 0.7857 - val_loss: 2.4405 - val_sparse_top_k_categorical_accuracy: 0.7457\n",
      "Epoch 22/100\n",
      "\u001b[1m491/491\u001b[0m \u001b[32m━━━━━━━━━━━━━━━━━━━━\u001b[0m\u001b[37m\u001b[0m \u001b[1m3s\u001b[0m 7ms/step - loss: 1.9267 - sparse_top_k_categorical_accuracy: 0.7754 - val_loss: 2.4067 - val_sparse_top_k_categorical_accuracy: 0.7543\n",
      "Epoch 23/100\n",
      "\u001b[1m491/491\u001b[0m \u001b[32m━━━━━━━━━━━━━━━━━━━━\u001b[0m\u001b[37m\u001b[0m \u001b[1m3s\u001b[0m 7ms/step - loss: 1.8890 - sparse_top_k_categorical_accuracy: 0.7871 - val_loss: 2.3806 - val_sparse_top_k_categorical_accuracy: 0.7559\n",
      "Epoch 24/100\n",
      "\u001b[1m491/491\u001b[0m \u001b[32m━━━━━━━━━━━━━━━━━━━━\u001b[0m\u001b[37m\u001b[0m \u001b[1m3s\u001b[0m 7ms/step - loss: 1.8524 - sparse_top_k_categorical_accuracy: 0.8008 - val_loss: 2.3427 - val_sparse_top_k_categorical_accuracy: 0.7559\n",
      "Epoch 25/100\n",
      "\u001b[1m491/491\u001b[0m \u001b[32m━━━━━━━━━━━━━━━━━━━━\u001b[0m\u001b[37m\u001b[0m \u001b[1m3s\u001b[0m 7ms/step - loss: 1.7950 - sparse_top_k_categorical_accuracy: 0.8021 - val_loss: 2.3456 - val_sparse_top_k_categorical_accuracy: 0.7574\n",
      "Epoch 26/100\n",
      "\u001b[1m491/491\u001b[0m \u001b[32m━━━━━━━━━━━━━━━━━━━━\u001b[0m\u001b[37m\u001b[0m \u001b[1m3s\u001b[0m 6ms/step - loss: 1.8055 - sparse_top_k_categorical_accuracy: 0.7955 - val_loss: 2.3254 - val_sparse_top_k_categorical_accuracy: 0.7645\n",
      "Epoch 27/100\n",
      "\u001b[1m491/491\u001b[0m \u001b[32m━━━━━━━━━━━━━━━━━━━━\u001b[0m\u001b[37m\u001b[0m \u001b[1m3s\u001b[0m 7ms/step - loss: 1.7300 - sparse_top_k_categorical_accuracy: 0.8079 - val_loss: 2.3223 - val_sparse_top_k_categorical_accuracy: 0.7620\n",
      "Epoch 28/100\n",
      "\u001b[1m491/491\u001b[0m \u001b[32m━━━━━━━━━━━━━━━━━━━━\u001b[0m\u001b[37m\u001b[0m \u001b[1m3s\u001b[0m 7ms/step - loss: 1.7586 - sparse_top_k_categorical_accuracy: 0.8023 - val_loss: 2.3145 - val_sparse_top_k_categorical_accuracy: 0.7620\n",
      "Epoch 29/100\n",
      "\u001b[1m491/491\u001b[0m \u001b[32m━━━━━━━━━━━━━━━━━━━━\u001b[0m\u001b[37m\u001b[0m \u001b[1m3s\u001b[0m 7ms/step - loss: 1.7386 - sparse_top_k_categorical_accuracy: 0.8056 - val_loss: 2.3009 - val_sparse_top_k_categorical_accuracy: 0.7712\n",
      "Epoch 30/100\n",
      "\u001b[1m491/491\u001b[0m \u001b[32m━━━━━━━━━━━━━━━━━━━━\u001b[0m\u001b[37m\u001b[0m \u001b[1m3s\u001b[0m 7ms/step - loss: 1.7119 - sparse_top_k_categorical_accuracy: 0.8113 - val_loss: 2.3010 - val_sparse_top_k_categorical_accuracy: 0.7732\n",
      "Epoch 31/100\n",
      "\u001b[1m491/491\u001b[0m \u001b[32m━━━━━━━━━━━━━━━━━━━━\u001b[0m\u001b[37m\u001b[0m \u001b[1m3s\u001b[0m 7ms/step - loss: 1.7651 - sparse_top_k_categorical_accuracy: 0.7927 - val_loss: 2.3045 - val_sparse_top_k_categorical_accuracy: 0.7681\n",
      "Epoch 32/100\n",
      "\u001b[1m491/491\u001b[0m \u001b[32m━━━━━━━━━━━━━━━━━━━━\u001b[0m\u001b[37m\u001b[0m \u001b[1m3s\u001b[0m 6ms/step - loss: 1.6921 - sparse_top_k_categorical_accuracy: 0.8161 - val_loss: 2.2926 - val_sparse_top_k_categorical_accuracy: 0.7732\n",
      "Epoch 33/100\n",
      "\u001b[1m491/491\u001b[0m \u001b[32m━━━━━━━━━━━━━━━━━━━━\u001b[0m\u001b[37m\u001b[0m \u001b[1m3s\u001b[0m 7ms/step - loss: 1.6758 - sparse_top_k_categorical_accuracy: 0.8108 - val_loss: 2.2823 - val_sparse_top_k_categorical_accuracy: 0.7686\n",
      "Epoch 34/100\n",
      "\u001b[1m491/491\u001b[0m \u001b[32m━━━━━━━━━━━━━━━━━━━━\u001b[0m\u001b[37m\u001b[0m \u001b[1m3s\u001b[0m 6ms/step - loss: 1.6801 - sparse_top_k_categorical_accuracy: 0.8160 - val_loss: 2.2788 - val_sparse_top_k_categorical_accuracy: 0.7701\n",
      "Epoch 35/100\n",
      "\u001b[1m491/491\u001b[0m \u001b[32m━━━━━━━━━━━━━━━━━━━━\u001b[0m\u001b[37m\u001b[0m \u001b[1m3s\u001b[0m 7ms/step - loss: 1.6933 - sparse_top_k_categorical_accuracy: 0.8139 - val_loss: 2.2807 - val_sparse_top_k_categorical_accuracy: 0.7773\n",
      "Epoch 36/100\n",
      "\u001b[1m491/491\u001b[0m \u001b[32m━━━━━━━━━━━━━━━━━━━━\u001b[0m\u001b[37m\u001b[0m \u001b[1m3s\u001b[0m 6ms/step - loss: 1.6627 - sparse_top_k_categorical_accuracy: 0.8086 - val_loss: 2.2824 - val_sparse_top_k_categorical_accuracy: 0.7757\n",
      "Epoch 37/100\n",
      "\u001b[1m491/491\u001b[0m \u001b[32m━━━━━━━━━━━━━━━━━━━━\u001b[0m\u001b[37m\u001b[0m \u001b[1m3s\u001b[0m 7ms/step - loss: 1.6571 - sparse_top_k_categorical_accuracy: 0.8193 - val_loss: 2.3065 - val_sparse_top_k_categorical_accuracy: 0.7640\n",
      "Epoch 38/100\n",
      "\u001b[1m491/491\u001b[0m \u001b[32m━━━━━━━━━━━━━━━━━━━━\u001b[0m\u001b[37m\u001b[0m \u001b[1m3s\u001b[0m 6ms/step - loss: 1.6647 - sparse_top_k_categorical_accuracy: 0.8188 - val_loss: 2.2817 - val_sparse_top_k_categorical_accuracy: 0.7768\n",
      "Epoch 39/100\n",
      "\u001b[1m491/491\u001b[0m \u001b[32m━━━━━━━━━━━━━━━━━━━━\u001b[0m\u001b[37m\u001b[0m \u001b[1m3s\u001b[0m 7ms/step - loss: 1.6437 - sparse_top_k_categorical_accuracy: 0.8179 - val_loss: 2.2603 - val_sparse_top_k_categorical_accuracy: 0.7808\n",
      "Epoch 40/100\n",
      "\u001b[1m491/491\u001b[0m \u001b[32m━━━━━━━━━━━━━━━━━━━━\u001b[0m\u001b[37m\u001b[0m \u001b[1m3s\u001b[0m 6ms/step - loss: 1.6459 - sparse_top_k_categorical_accuracy: 0.8207 - val_loss: 2.2726 - val_sparse_top_k_categorical_accuracy: 0.7747\n",
      "Epoch 41/100\n",
      "\u001b[1m491/491\u001b[0m \u001b[32m━━━━━━━━━━━━━━━━━━━━\u001b[0m\u001b[37m\u001b[0m \u001b[1m3s\u001b[0m 7ms/step - loss: 1.6461 - sparse_top_k_categorical_accuracy: 0.8146 - val_loss: 2.2988 - val_sparse_top_k_categorical_accuracy: 0.7742\n",
      "Epoch 42/100\n",
      "\u001b[1m491/491\u001b[0m \u001b[32m━━━━━━━━━━━━━━━━━━━━\u001b[0m\u001b[37m\u001b[0m \u001b[1m3s\u001b[0m 7ms/step - loss: 1.6422 - sparse_top_k_categorical_accuracy: 0.8154 - val_loss: 2.2939 - val_sparse_top_k_categorical_accuracy: 0.7732\n",
      "Epoch 43/100\n",
      "\u001b[1m491/491\u001b[0m \u001b[32m━━━━━━━━━━━━━━━━━━━━\u001b[0m\u001b[37m\u001b[0m \u001b[1m3s\u001b[0m 6ms/step - loss: 1.6447 - sparse_top_k_categorical_accuracy: 0.8119 - val_loss: 2.2932 - val_sparse_top_k_categorical_accuracy: 0.7686\n",
      "Epoch 44/100\n",
      "\u001b[1m491/491\u001b[0m \u001b[32m━━━━━━━━━━━━━━━━━━━━\u001b[0m\u001b[37m\u001b[0m \u001b[1m3s\u001b[0m 7ms/step - loss: 1.6073 - sparse_top_k_categorical_accuracy: 0.8198 - val_loss: 2.2858 - val_sparse_top_k_categorical_accuracy: 0.7742\n",
      "Epoch 45/100\n",
      "\u001b[1m491/491\u001b[0m \u001b[32m━━━━━━━━━━━━━━━━━━━━\u001b[0m\u001b[37m\u001b[0m \u001b[1m3s\u001b[0m 6ms/step - loss: 1.6070 - sparse_top_k_categorical_accuracy: 0.8173 - val_loss: 2.2827 - val_sparse_top_k_categorical_accuracy: 0.7757\n",
      "Epoch 46/100\n",
      "\u001b[1m491/491\u001b[0m \u001b[32m━━━━━━━━━━━━━━━━━━━━\u001b[0m\u001b[37m\u001b[0m \u001b[1m3s\u001b[0m 7ms/step - loss: 1.6286 - sparse_top_k_categorical_accuracy: 0.8161 - val_loss: 2.2869 - val_sparse_top_k_categorical_accuracy: 0.7737\n",
      "Epoch 47/100\n",
      "\u001b[1m491/491\u001b[0m \u001b[32m━━━━━━━━━━━━━━━━━━━━\u001b[0m\u001b[37m\u001b[0m \u001b[1m3s\u001b[0m 6ms/step - loss: 1.5882 - sparse_top_k_categorical_accuracy: 0.8260 - val_loss: 2.2676 - val_sparse_top_k_categorical_accuracy: 0.7829\n",
      "Epoch 48/100\n",
      "\u001b[1m491/491\u001b[0m \u001b[32m━━━━━━━━━━━━━━━━━━━━\u001b[0m\u001b[37m\u001b[0m \u001b[1m3s\u001b[0m 7ms/step - loss: 1.6047 - sparse_top_k_categorical_accuracy: 0.8154 - val_loss: 2.2867 - val_sparse_top_k_categorical_accuracy: 0.7732\n",
      "Epoch 49/100\n",
      "\u001b[1m491/491\u001b[0m \u001b[32m━━━━━━━━━━━━━━━━━━━━\u001b[0m\u001b[37m\u001b[0m \u001b[1m3s\u001b[0m 7ms/step - loss: 1.6113 - sparse_top_k_categorical_accuracy: 0.8185 - val_loss: 2.2710 - val_sparse_top_k_categorical_accuracy: 0.7717\n",
      "Epoch 50/100\n",
      "\u001b[1m491/491\u001b[0m \u001b[32m━━━━━━━━━━━━━━━━━━━━\u001b[0m\u001b[37m\u001b[0m \u001b[1m3s\u001b[0m 7ms/step - loss: 1.5934 - sparse_top_k_categorical_accuracy: 0.8246 - val_loss: 2.2764 - val_sparse_top_k_categorical_accuracy: 0.7757\n",
      "Epoch 51/100\n",
      "\u001b[1m491/491\u001b[0m \u001b[32m━━━━━━━━━━━━━━━━━━━━\u001b[0m\u001b[37m\u001b[0m \u001b[1m3s\u001b[0m 7ms/step - loss: 1.5668 - sparse_top_k_categorical_accuracy: 0.8303 - val_loss: 2.2846 - val_sparse_top_k_categorical_accuracy: 0.7747\n",
      "Epoch 52/100\n",
      "\u001b[1m491/491\u001b[0m \u001b[32m━━━━━━━━━━━━━━━━━━━━\u001b[0m\u001b[37m\u001b[0m \u001b[1m3s\u001b[0m 7ms/step - loss: 1.5994 - sparse_top_k_categorical_accuracy: 0.8242 - val_loss: 2.2765 - val_sparse_top_k_categorical_accuracy: 0.7813\n",
      "Epoch 53/100\n",
      "\u001b[1m491/491\u001b[0m \u001b[32m━━━━━━━━━━━━━━━━━━━━\u001b[0m\u001b[37m\u001b[0m \u001b[1m3s\u001b[0m 7ms/step - loss: 1.6003 - sparse_top_k_categorical_accuracy: 0.8192 - val_loss: 2.2840 - val_sparse_top_k_categorical_accuracy: 0.7844\n",
      "Epoch 54/100\n",
      "\u001b[1m491/491\u001b[0m \u001b[32m━━━━━━━━━━━━━━━━━━━━\u001b[0m\u001b[37m\u001b[0m \u001b[1m3s\u001b[0m 7ms/step - loss: 1.5772 - sparse_top_k_categorical_accuracy: 0.8209 - val_loss: 2.2843 - val_sparse_top_k_categorical_accuracy: 0.7732\n",
      "Epoch 55/100\n",
      "\u001b[1m491/491\u001b[0m \u001b[32m━━━━━━━━━━━━━━━━━━━━\u001b[0m\u001b[37m\u001b[0m \u001b[1m3s\u001b[0m 7ms/step - loss: 1.6284 - sparse_top_k_categorical_accuracy: 0.8158 - val_loss: 2.2678 - val_sparse_top_k_categorical_accuracy: 0.7768\n",
      "Epoch 56/100\n",
      "\u001b[1m491/491\u001b[0m \u001b[32m━━━━━━━━━━━━━━━━━━━━\u001b[0m\u001b[37m\u001b[0m \u001b[1m3s\u001b[0m 7ms/step - loss: 1.5631 - sparse_top_k_categorical_accuracy: 0.8234 - val_loss: 2.2634 - val_sparse_top_k_categorical_accuracy: 0.7824\n",
      "Epoch 57/100\n",
      "\u001b[1m491/491\u001b[0m \u001b[32m━━━━━━━━━━━━━━━━━━━━\u001b[0m\u001b[37m\u001b[0m \u001b[1m3s\u001b[0m 7ms/step - loss: 1.6013 - sparse_top_k_categorical_accuracy: 0.8167 - val_loss: 2.2834 - val_sparse_top_k_categorical_accuracy: 0.7793\n",
      "Epoch 58/100\n",
      "\u001b[1m491/491\u001b[0m \u001b[32m━━━━━━━━━━━━━━━━━━━━\u001b[0m\u001b[37m\u001b[0m \u001b[1m3s\u001b[0m 6ms/step - loss: 1.5924 - sparse_top_k_categorical_accuracy: 0.8199 - val_loss: 2.2772 - val_sparse_top_k_categorical_accuracy: 0.7798\n",
      "Epoch 59/100\n",
      "\u001b[1m491/491\u001b[0m \u001b[32m━━━━━━━━━━━━━━━━━━━━\u001b[0m\u001b[37m\u001b[0m \u001b[1m3s\u001b[0m 7ms/step - loss: 1.5943 - sparse_top_k_categorical_accuracy: 0.8216 - val_loss: 2.2764 - val_sparse_top_k_categorical_accuracy: 0.7742\n",
      "Epoch 60/100\n",
      "\u001b[1m491/491\u001b[0m \u001b[32m━━━━━━━━━━━━━━━━━━━━\u001b[0m\u001b[37m\u001b[0m \u001b[1m3s\u001b[0m 7ms/step - loss: 1.6358 - sparse_top_k_categorical_accuracy: 0.8143 - val_loss: 2.2552 - val_sparse_top_k_categorical_accuracy: 0.7778\n",
      "Epoch 61/100\n",
      "\u001b[1m491/491\u001b[0m \u001b[32m━━━━━━━━━━━━━━━━━━━━\u001b[0m\u001b[37m\u001b[0m \u001b[1m3s\u001b[0m 7ms/step - loss: 1.5778 - sparse_top_k_categorical_accuracy: 0.8157 - val_loss: 2.2854 - val_sparse_top_k_categorical_accuracy: 0.7742\n",
      "Epoch 62/100\n",
      "\u001b[1m491/491\u001b[0m \u001b[32m━━━━━━━━━━━━━━━━━━━━\u001b[0m\u001b[37m\u001b[0m \u001b[1m3s\u001b[0m 7ms/step - loss: 1.5871 - sparse_top_k_categorical_accuracy: 0.8192 - val_loss: 2.2867 - val_sparse_top_k_categorical_accuracy: 0.7762\n",
      "Epoch 63/100\n",
      "\u001b[1m491/491\u001b[0m \u001b[32m━━━━━━━━━━━━━━━━━━━━\u001b[0m\u001b[37m\u001b[0m \u001b[1m3s\u001b[0m 7ms/step - loss: 1.5622 - sparse_top_k_categorical_accuracy: 0.8287 - val_loss: 2.2787 - val_sparse_top_k_categorical_accuracy: 0.7839\n",
      "Epoch 64/100\n",
      "\u001b[1m491/491\u001b[0m \u001b[32m━━━━━━━━━━━━━━━━━━━━\u001b[0m\u001b[37m\u001b[0m \u001b[1m3s\u001b[0m 6ms/step - loss: 1.5875 - sparse_top_k_categorical_accuracy: 0.8170 - val_loss: 2.2712 - val_sparse_top_k_categorical_accuracy: 0.7788\n",
      "Epoch 65/100\n",
      "\u001b[1m491/491\u001b[0m \u001b[32m━━━━━━━━━━━━━━━━━━━━\u001b[0m\u001b[37m\u001b[0m \u001b[1m3s\u001b[0m 7ms/step - loss: 1.5937 - sparse_top_k_categorical_accuracy: 0.8206 - val_loss: 2.2643 - val_sparse_top_k_categorical_accuracy: 0.7793\n",
      "Epoch 66/100\n",
      "\u001b[1m491/491\u001b[0m \u001b[32m━━━━━━━━━━━━━━━━━━━━\u001b[0m\u001b[37m\u001b[0m \u001b[1m3s\u001b[0m 7ms/step - loss: 1.5797 - sparse_top_k_categorical_accuracy: 0.8204 - val_loss: 2.2621 - val_sparse_top_k_categorical_accuracy: 0.7813\n",
      "Epoch 67/100\n",
      "\u001b[1m491/491\u001b[0m \u001b[32m━━━━━━━━━━━━━━━━━━━━\u001b[0m\u001b[37m\u001b[0m \u001b[1m3s\u001b[0m 7ms/step - loss: 1.5588 - sparse_top_k_categorical_accuracy: 0.8245 - val_loss: 2.2640 - val_sparse_top_k_categorical_accuracy: 0.7808\n",
      "Epoch 68/100\n",
      "\u001b[1m491/491\u001b[0m \u001b[32m━━━━━━━━━━━━━━━━━━━━\u001b[0m\u001b[37m\u001b[0m \u001b[1m3s\u001b[0m 7ms/step - loss: 1.5617 - sparse_top_k_categorical_accuracy: 0.8259 - val_loss: 2.2756 - val_sparse_top_k_categorical_accuracy: 0.7844\n",
      "Epoch 69/100\n",
      "\u001b[1m491/491\u001b[0m \u001b[32m━━━━━━━━━━━━━━━━━━━━\u001b[0m\u001b[37m\u001b[0m \u001b[1m3s\u001b[0m 7ms/step - loss: 1.5771 - sparse_top_k_categorical_accuracy: 0.8201 - val_loss: 2.2829 - val_sparse_top_k_categorical_accuracy: 0.7778\n",
      "Epoch 70/100\n",
      "\u001b[1m491/491\u001b[0m \u001b[32m━━━━━━━━━━━━━━━━━━━━\u001b[0m\u001b[37m\u001b[0m \u001b[1m3s\u001b[0m 7ms/step - loss: 1.5647 - sparse_top_k_categorical_accuracy: 0.8262 - val_loss: 2.2820 - val_sparse_top_k_categorical_accuracy: 0.7757\n",
      "Epoch 71/100\n",
      "\u001b[1m491/491\u001b[0m \u001b[32m━━━━━━━━━━━━━━━━━━━━\u001b[0m\u001b[37m\u001b[0m \u001b[1m3s\u001b[0m 6ms/step - loss: 1.5343 - sparse_top_k_categorical_accuracy: 0.8262 - val_loss: 2.2708 - val_sparse_top_k_categorical_accuracy: 0.7844\n",
      "Epoch 72/100\n",
      "\u001b[1m491/491\u001b[0m \u001b[32m━━━━━━━━━━━━━━━━━━━━\u001b[0m\u001b[37m\u001b[0m \u001b[1m3s\u001b[0m 7ms/step - loss: 1.5694 - sparse_top_k_categorical_accuracy: 0.8215 - val_loss: 2.2728 - val_sparse_top_k_categorical_accuracy: 0.7793\n",
      "Epoch 73/100\n",
      "\u001b[1m491/491\u001b[0m \u001b[32m━━━━━━━━━━━━━━━━━━━━\u001b[0m\u001b[37m\u001b[0m \u001b[1m3s\u001b[0m 7ms/step - loss: 1.5752 - sparse_top_k_categorical_accuracy: 0.8216 - val_loss: 2.2759 - val_sparse_top_k_categorical_accuracy: 0.7778\n",
      "Epoch 74/100\n",
      "\u001b[1m491/491\u001b[0m \u001b[32m━━━━━━━━━━━━━━━━━━━━\u001b[0m\u001b[37m\u001b[0m \u001b[1m3s\u001b[0m 7ms/step - loss: 1.5554 - sparse_top_k_categorical_accuracy: 0.8246 - val_loss: 2.2789 - val_sparse_top_k_categorical_accuracy: 0.7798\n",
      "Epoch 75/100\n",
      "\u001b[1m491/491\u001b[0m \u001b[32m━━━━━━━━━━━━━━━━━━━━\u001b[0m\u001b[37m\u001b[0m \u001b[1m3s\u001b[0m 7ms/step - loss: 1.5423 - sparse_top_k_categorical_accuracy: 0.8210 - val_loss: 2.2930 - val_sparse_top_k_categorical_accuracy: 0.7819\n",
      "Epoch 76/100\n",
      "\u001b[1m491/491\u001b[0m \u001b[32m━━━━━━━━━━━━━━━━━━━━\u001b[0m\u001b[37m\u001b[0m \u001b[1m3s\u001b[0m 7ms/step - loss: 1.5641 - sparse_top_k_categorical_accuracy: 0.8205 - val_loss: 2.3026 - val_sparse_top_k_categorical_accuracy: 0.7793\n",
      "Epoch 77/100\n",
      "\u001b[1m491/491\u001b[0m \u001b[32m━━━━━━━━━━━━━━━━━━━━\u001b[0m\u001b[37m\u001b[0m \u001b[1m3s\u001b[0m 7ms/step - loss: 1.5661 - sparse_top_k_categorical_accuracy: 0.8198 - val_loss: 2.2810 - val_sparse_top_k_categorical_accuracy: 0.7773\n",
      "Epoch 78/100\n",
      "\u001b[1m491/491\u001b[0m \u001b[32m━━━━━━━━━━━━━━━━━━━━\u001b[0m\u001b[37m\u001b[0m \u001b[1m3s\u001b[0m 7ms/step - loss: 1.5601 - sparse_top_k_categorical_accuracy: 0.8188 - val_loss: 2.2769 - val_sparse_top_k_categorical_accuracy: 0.7839\n",
      "Epoch 79/100\n",
      "\u001b[1m491/491\u001b[0m \u001b[32m━━━━━━━━━━━━━━━━━━━━\u001b[0m\u001b[37m\u001b[0m \u001b[1m3s\u001b[0m 6ms/step - loss: 1.5317 - sparse_top_k_categorical_accuracy: 0.8278 - val_loss: 2.2823 - val_sparse_top_k_categorical_accuracy: 0.7773\n",
      "Epoch 80/100\n",
      "\u001b[1m491/491\u001b[0m \u001b[32m━━━━━━━━━━━━━━━━━━━━\u001b[0m\u001b[37m\u001b[0m \u001b[1m3s\u001b[0m 7ms/step - loss: 1.5140 - sparse_top_k_categorical_accuracy: 0.8277 - val_loss: 2.2784 - val_sparse_top_k_categorical_accuracy: 0.7752\n",
      "Epoch 81/100\n",
      "\u001b[1m491/491\u001b[0m \u001b[32m━━━━━━━━━━━━━━━━━━━━\u001b[0m\u001b[37m\u001b[0m \u001b[1m3s\u001b[0m 7ms/step - loss: 1.5568 - sparse_top_k_categorical_accuracy: 0.8220 - val_loss: 2.2849 - val_sparse_top_k_categorical_accuracy: 0.7768\n",
      "Epoch 82/100\n",
      "\u001b[1m491/491\u001b[0m \u001b[32m━━━━━━━━━━━━━━━━━━━━\u001b[0m\u001b[37m\u001b[0m \u001b[1m3s\u001b[0m 7ms/step - loss: 1.5501 - sparse_top_k_categorical_accuracy: 0.8257 - val_loss: 2.2769 - val_sparse_top_k_categorical_accuracy: 0.7803\n",
      "Epoch 83/100\n",
      "\u001b[1m491/491\u001b[0m \u001b[32m━━━━━━━━━━━━━━━━━━━━\u001b[0m\u001b[37m\u001b[0m \u001b[1m3s\u001b[0m 6ms/step - loss: 1.5394 - sparse_top_k_categorical_accuracy: 0.8250 - val_loss: 2.2702 - val_sparse_top_k_categorical_accuracy: 0.7813\n",
      "Epoch 84/100\n",
      "\u001b[1m491/491\u001b[0m \u001b[32m━━━━━━━━━━━━━━━━━━━━\u001b[0m\u001b[37m\u001b[0m \u001b[1m3s\u001b[0m 7ms/step - loss: 1.5575 - sparse_top_k_categorical_accuracy: 0.8265 - val_loss: 2.2730 - val_sparse_top_k_categorical_accuracy: 0.7803\n",
      "Epoch 85/100\n",
      "\u001b[1m491/491\u001b[0m \u001b[32m━━━━━━━━━━━━━━━━━━━━\u001b[0m\u001b[37m\u001b[0m \u001b[1m3s\u001b[0m 7ms/step - loss: 1.5388 - sparse_top_k_categorical_accuracy: 0.8293 - val_loss: 2.2691 - val_sparse_top_k_categorical_accuracy: 0.7808\n",
      "Epoch 86/100\n",
      "\u001b[1m491/491\u001b[0m \u001b[32m━━━━━━━━━━━━━━━━━━━━\u001b[0m\u001b[37m\u001b[0m \u001b[1m3s\u001b[0m 7ms/step - loss: 1.5657 - sparse_top_k_categorical_accuracy: 0.8276 - val_loss: 2.2616 - val_sparse_top_k_categorical_accuracy: 0.7798\n",
      "Epoch 87/100\n",
      "\u001b[1m491/491\u001b[0m \u001b[32m━━━━━━━━━━━━━━━━━━━━\u001b[0m\u001b[37m\u001b[0m \u001b[1m3s\u001b[0m 7ms/step - loss: 1.5575 - sparse_top_k_categorical_accuracy: 0.8275 - val_loss: 2.2789 - val_sparse_top_k_categorical_accuracy: 0.7778\n",
      "Epoch 88/100\n",
      "\u001b[1m491/491\u001b[0m \u001b[32m━━━━━━━━━━━━━━━━━━━━\u001b[0m\u001b[37m\u001b[0m \u001b[1m3s\u001b[0m 7ms/step - loss: 1.5340 - sparse_top_k_categorical_accuracy: 0.8277 - val_loss: 2.2832 - val_sparse_top_k_categorical_accuracy: 0.7813\n",
      "Epoch 89/100\n",
      "\u001b[1m491/491\u001b[0m \u001b[32m━━━━━━━━━━━━━━━━━━━━\u001b[0m\u001b[37m\u001b[0m \u001b[1m3s\u001b[0m 7ms/step - loss: 1.5476 - sparse_top_k_categorical_accuracy: 0.8243 - val_loss: 2.2866 - val_sparse_top_k_categorical_accuracy: 0.7844\n",
      "Epoch 90/100\n",
      "\u001b[1m491/491\u001b[0m \u001b[32m━━━━━━━━━━━━━━━━━━━━\u001b[0m\u001b[37m\u001b[0m \u001b[1m3s\u001b[0m 7ms/step - loss: 1.5588 - sparse_top_k_categorical_accuracy: 0.8200 - val_loss: 2.2683 - val_sparse_top_k_categorical_accuracy: 0.7849\n",
      "Epoch 91/100\n",
      "\u001b[1m491/491\u001b[0m \u001b[32m━━━━━━━━━━━━━━━━━━━━\u001b[0m\u001b[37m\u001b[0m \u001b[1m3s\u001b[0m 7ms/step - loss: 1.5354 - sparse_top_k_categorical_accuracy: 0.8247 - val_loss: 2.2487 - val_sparse_top_k_categorical_accuracy: 0.7854\n",
      "Epoch 92/100\n",
      "\u001b[1m491/491\u001b[0m \u001b[32m━━━━━━━━━━━━━━━━━━━━\u001b[0m\u001b[37m\u001b[0m \u001b[1m3s\u001b[0m 7ms/step - loss: 1.5226 - sparse_top_k_categorical_accuracy: 0.8296 - val_loss: 2.2615 - val_sparse_top_k_categorical_accuracy: 0.7824\n",
      "Epoch 93/100\n",
      "\u001b[1m491/491\u001b[0m \u001b[32m━━━━━━━━━━━━━━━━━━━━\u001b[0m\u001b[37m\u001b[0m \u001b[1m3s\u001b[0m 7ms/step - loss: 1.5517 - sparse_top_k_categorical_accuracy: 0.8229 - val_loss: 2.2906 - val_sparse_top_k_categorical_accuracy: 0.7793\n",
      "Epoch 94/100\n",
      "\u001b[1m491/491\u001b[0m \u001b[32m━━━━━━━━━━━━━━━━━━━━\u001b[0m\u001b[37m\u001b[0m \u001b[1m3s\u001b[0m 7ms/step - loss: 1.5618 - sparse_top_k_categorical_accuracy: 0.8195 - val_loss: 2.2757 - val_sparse_top_k_categorical_accuracy: 0.7803\n",
      "Epoch 95/100\n",
      "\u001b[1m491/491\u001b[0m \u001b[32m━━━━━━━━━━━━━━━━━━━━\u001b[0m\u001b[37m\u001b[0m \u001b[1m3s\u001b[0m 7ms/step - loss: 1.5231 - sparse_top_k_categorical_accuracy: 0.8304 - val_loss: 2.2695 - val_sparse_top_k_categorical_accuracy: 0.7798\n",
      "Epoch 96/100\n",
      "\u001b[1m491/491\u001b[0m \u001b[32m━━━━━━━━━━━━━━━━━━━━\u001b[0m\u001b[37m\u001b[0m \u001b[1m3s\u001b[0m 7ms/step - loss: 1.5278 - sparse_top_k_categorical_accuracy: 0.8233 - val_loss: 2.2825 - val_sparse_top_k_categorical_accuracy: 0.7783\n",
      "Epoch 97/100\n",
      "\u001b[1m491/491\u001b[0m \u001b[32m━━━━━━━━━━━━━━━━━━━━\u001b[0m\u001b[37m\u001b[0m \u001b[1m3s\u001b[0m 7ms/step - loss: 1.4936 - sparse_top_k_categorical_accuracy: 0.8296 - val_loss: 2.2652 - val_sparse_top_k_categorical_accuracy: 0.7829\n",
      "Epoch 98/100\n",
      "\u001b[1m491/491\u001b[0m \u001b[32m━━━━━━━━━━━━━━━━━━━━\u001b[0m\u001b[37m\u001b[0m \u001b[1m3s\u001b[0m 7ms/step - loss: 1.5568 - sparse_top_k_categorical_accuracy: 0.8189 - val_loss: 2.2841 - val_sparse_top_k_categorical_accuracy: 0.7747\n",
      "Epoch 99/100\n",
      "\u001b[1m491/491\u001b[0m \u001b[32m━━━━━━━━━━━━━━━━━━━━\u001b[0m\u001b[37m\u001b[0m \u001b[1m3s\u001b[0m 7ms/step - loss: 1.4933 - sparse_top_k_categorical_accuracy: 0.8312 - val_loss: 2.2738 - val_sparse_top_k_categorical_accuracy: 0.7813\n",
      "Epoch 100/100\n",
      "\u001b[1m491/491\u001b[0m \u001b[32m━━━━━━━━━━━━━━━━━━━━\u001b[0m\u001b[37m\u001b[0m \u001b[1m3s\u001b[0m 7ms/step - loss: 1.5351 - sparse_top_k_categorical_accuracy: 0.8208 - val_loss: 2.2887 - val_sparse_top_k_categorical_accuracy: 0.7798\n"
     ]
    }
   ],
   "source": [
    "best_hps = tuner.get_best_hyperparameters(num_trials=1)[0]\n",
    "model = tuner.hypermodel.build(best_hps)\n",
    "history = model.fit(x_train, y_train, epochs=100, batch_size=best_hps.get('batch_size'), verbose=1, validation_data=(x_test, y_test))"
   ]
  },
  {
   "cell_type": "markdown",
   "metadata": {},
   "source": [
    "Storing the history of training into variables"
   ]
  },
  {
   "cell_type": "code",
   "execution_count": 21,
   "metadata": {},
   "outputs": [],
   "source": [
    "train_loss = history.history['loss']\n",
    "val_loss = history.history['val_loss']\n",
    "# train_accuracy = history.history['accuracy']\n",
    "# val_accuracy = history.history['val_accuracy']\n",
    "train_accuracy = history.history['sparse_top_k_categorical_accuracy']\n",
    "val_accuracy = history.history['val_sparse_top_k_categorical_accuracy']\n",
    "\n",
    "epochs = range(1, len(train_loss) + 1)"
   ]
  },
  {
   "cell_type": "markdown",
   "metadata": {},
   "source": [
    "Plotting a result graph "
   ]
  },
  {
   "cell_type": "code",
   "execution_count": 22,
   "metadata": {},
   "outputs": [
    {
     "data": {
      "image/png": "[encoded data removed]",
      "text/plain": [
       "<Figure size 1200x600 with 2 Axes>"
      ]
     },
     "metadata": {},
     "output_type": "display_data"
    }
   ],
   "source": [
    "import matplotlib.pyplot as plt\n",
    "\n",
    "plt.figure(figsize=(12, 6))\n",
    "\n",
    "# Loss\n",
    "plt.subplot(1, 2, 1)\n",
    "plt.plot(epochs, train_loss, label='Training Loss')\n",
    "plt.plot(epochs, val_loss, label='Validation Loss')\n",
    "plt.title('Loss During Training and Validation')\n",
    "plt.xlabel('Epochs')\n",
    "plt.ylabel('Loss')\n",
    "plt.legend()\n",
    "\n",
    "# Accuracy\n",
    "plt.subplot(1, 2, 2)\n",
    "plt.plot(epochs, train_accuracy, label='Training Accuracy')\n",
    "plt.plot(epochs, val_accuracy, label='Validation Accuracy')\n",
    "plt.title('Accuracy During Training and Validation')\n",
    "plt.xlabel('Epochs')\n",
    "plt.ylabel('Accuracy')\n",
    "plt.legend()\n",
    "\n",
    "plt.tight_layout()\n",
    "plt.show()"
   ]
  },
  {
   "cell_type": "markdown",
   "metadata": {},
   "source": [
    "Saving the hyperparameters"
   ]
  },
  {
   "cell_type": "code",
   "execution_count": 23,
   "metadata": {},
   "outputs": [],
   "source": [
    "import configparser\n",
    "\n",
    "# Create a ConfigParser instance\n",
    "config = configparser.ConfigParser()\n",
    "\n",
    "# Add a section for hyperparameters\n",
    "config.add_section('Hyperparameters')\n",
    "\n",
    "# Store the best hyperparameters in the section\n",
    "config.set('Hyperparameters', 'embedding_dim', str(best_hps.get('embedding_dim')))\n",
    "config.set('Hyperparameters', 'lstm_units', str(best_hps.get('lstm_units')))\n",
    "config.set('Hyperparameters', 'activation', str(best_hps.get('activation')))\n",
    "config.set('Hyperparameters', 'dropout_rate', str(best_hps.get('dropout_rate')))\n",
    "config.set('Hyperparameters', 'learning_rate', str(best_hps.get('learning_rate')))\n",
    "config.set('Hyperparameters', 'batch_size', str(best_hps.get('batch_size')))\n",
    "config.set('Hyperparameters', 'top_k', str(best_hps.get('top_k')))\n",
    "\n",
    "# Write the configuration to a file\n",
    "with open('best_hyperparameters.ini', 'w') as configfile:\n",
    "    config.write(configfile)\n"
   ]
  },
  {
   "cell_type": "markdown",
   "metadata": {},
   "source": [
    "### Testing parameter loading"
   ]
  },
  {
   "cell_type": "code",
   "execution_count": 18,
   "metadata": {},
   "outputs": [
    {
     "name": "stdout",
     "output_type": "stream",
     "text": [
      "embedding_dim: 256\n",
      "lstm_units: 128\n",
      "dropout_rate: 0.30000000000000004\n",
      "learning_rate: 0.001\n",
      "batch_size: 16\n"
     ]
    }
   ],
   "source": [
    "################\n",
    "# reading \n",
    "################\n",
    "config = configparser.ConfigParser()\n",
    "config.read('best_hyperparameters.ini')\n",
    "\n",
    "# Access hyperparameters\n",
    "embedding_dim = config.getint('Hyperparameters', 'embedding_dim')\n",
    "lstm_units = config.getint('Hyperparameters', 'lstm_units')\n",
    "dropout_rate = config.getfloat('Hyperparameters', 'dropout_rate')\n",
    "learning_rate = config.getfloat('Hyperparameters', 'learning_rate')\n",
    "batch_size = config.getint('Hyperparameters', 'batch_size')\n",
    "\n",
    "print(f\"embedding_dim: {embedding_dim}\")\n",
    "print(f\"lstm_units: {lstm_units}\")\n",
    "print(f\"dropout_rate: {dropout_rate}\")\n",
    "print(f\"learning_rate: {learning_rate}\")\n",
    "print(f\"batch_size: {batch_size}\")\n"
   ]
  },
  {
   "cell_type": "markdown",
   "metadata": {},
   "source": [
    "Parameters dictionnary"
   ]
  },
  {
   "cell_type": "markdown",
   "metadata": {},
   "source": [
    "Creating kerasClassifier to wrapp our model "
   ]
  },
  {
   "cell_type": "markdown",
   "metadata": {},
   "source": [
    "RandomSearchCV from best parameters"
   ]
  },
  {
   "cell_type": "markdown",
   "metadata": {},
   "source": [
    "Fitting to data"
   ]
  },
  {
   "cell_type": "markdown",
   "metadata": {},
   "source": [
    "Extraction statistics"
   ]
  },
  {
   "cell_type": "markdown",
   "metadata": {},
   "source": [
    "Graphs"
   ]
  },
  {
   "cell_type": "markdown",
   "metadata": {},
   "source": [
    "Saving the model"
   ]
  },
  {
   "cell_type": "markdown",
   "metadata": {},
   "source": [
    "Saving the tokenizer"
   ]
  }
 ],
 "metadata": {
  "kernelspec": {
   "display_name": ".lstm",
   "language": "python",
   "name": "python3"
  },
  "language_info": {
   "codemirror_mode": {
    "name": "ipython",
    "version": 3
   },
   "file_extension": ".py",
   "mimetype": "text/x-python",
   "name": "python",
   "nbconvert_exporter": "python",
   "pygments_lexer": "ipython3",
   "version": "3.12.3"
  }
 },
 "nbformat": 4,
 "nbformat_minor": 2
}
